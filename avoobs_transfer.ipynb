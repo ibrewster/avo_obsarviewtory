{
 "cells": [
  {
   "cell_type": "markdown",
   "id": "f4541d6b",
   "metadata": {},
   "source": [
    "<font face=\"Calibri\">\n",
    "<br>\n",
    "<font size=\"6\"> <b> AVO Obsarviewory:<b> </font>\n",
    "<font size=\"5\"> <b> routine InSAR processing tool for Alaska volcanoes<b> </font></b>\n",
    "<br>\n",
    "<br>\n",
    "<font size=\"5\"> <b> Current Notebook: transfer<b> </font></b>\n",
    "\n",
    "<br>\n",
    "<br>\n",
    "<br>\n",
    "<font size=\"4\"> \n",
    "This Notebook redirects, renames, and compresses products for easier transferring after a routine analysis / an interferogram download process is done.\n",
    "<br>\n",
    "<br>\n",
    "This Notebook is part of <a href=\"https://github.com/uafgeotools/avo_obsarviewtory\" target=\"_blank\">AVO Obsarviewtory</a>.  \n",
    "\n",
    "\n",
    "</font>\n",
    "<hr>\n",
    "\n"
   ]
  },
  {
   "cell_type": "markdown",
   "id": "b339e523",
   "metadata": {},
   "source": [
    "<div class=\"alert alert-info\">\n",
    "<font face=\"Calibri\"><font size=\"4\">\n",
    "Redirectory H5 products\n",
    "</font> "
   ]
  },
  {
   "cell_type": "code",
   "execution_count": 1,
   "id": "d2611147",
   "metadata": {},
   "outputs": [],
   "source": [
    "!mkdir -p products\n",
    "from pathlib import Path\n",
    "\n",
    "target_directory = Path.cwd() / 'products'\n",
    "root_directory = Path.cwd() / 'processings'\n",
    "\n",
    "files = root_directory.glob('*/MintPy/velocity.h5')\n",
    "for file in files:\n",
    "    parent_dir = file.parent.parent.name # we record this because we'll rename the H5 files while moving them\n",
    "    letter_part = \"\".join([i for i in parent_dir if i.isalpha()])\n",
    "    number_part = parent_dir[len(letter_part):]\n",
    "    new_name = 'velocity_'+letter_part+'_main_path'+number_part+'.h5' # this is the naming rule we discussed\n",
    "    new_path = target_directory / new_name\n",
    "    file.rename(new_path)\n",
    "\n",
    "files = root_directory.glob('*/MintPy/timeseries_ERA5_demErr.h5')\n",
    "for file in files:\n",
    "    parent_dir = file.parent.parent.name\n",
    "    letter_part = \"\".join([i for i in parent_dir if i.isalpha()])\n",
    "    number_part = parent_dir[len(letter_part):]\n",
    "    new_name = 'timeseries_'+letter_part+'_main_path'+number_part+'.h5'\n",
    "    new_path = target_directory / new_name\n",
    "    file.rename(new_path)\n",
    "\n",
    "runcommand = \"zip -r products.zip products\"\n",
    "!{runcommand}"
   ]
  },
  {
   "cell_type": "markdown",
   "id": "5e1177bf",
   "metadata": {},
   "source": [
    "<div class=\"alert alert-info\">\n",
    "<font face=\"Calibri\"><font size=\"4\">\n",
    "Redirectory KMZ interferograms\n",
    "</font> "
   ]
  },
  {
   "cell_type": "code",
   "execution_count": null,
   "id": "e7f64185",
   "metadata": {},
   "outputs": [],
   "source": [
    "!mkdir -p colors\n",
    "import os\n",
    "import shutil\n",
    "from pathlib import Path\n",
    "import pickle\n",
    "class volcano_init:\n",
    "    def __init__(self, volc_name, filter_dates, ul, lr, path, frame, asf_name, run_flag):\n",
    "        self.volc_name = volc_name\n",
    "        self.filter_dates = filter_dates\n",
    "        self.ul = ul\n",
    "        self.lr = lr\n",
    "        self.path = path\n",
    "        self.frame = frame\n",
    "        self.asf_name = asf_name\n",
    "        self.run_flag = run_flag\n",
    "    def update_flag(self, new_flag):\n",
    "        self.run_flag = new_flag\n",
    "with open('data/volclist_ifg.pkl', 'rb') as f:\n",
    "    volcano_list = pickle.load(f)\n",
    "\n",
    "processing_path = \"./interferograms/\"\n",
    "processings = [f for f in os.listdir(processing_path) if os.path.isdir(os.path.join(processing_path, f))]\n",
    "\n",
    "for processing in processings:\n",
    "    print('current_project:'+processing)\n",
    "    for volcano in volcano_list:\n",
    "        project_name = volcano.volc_name + str(volcano.path)\n",
    "        if project_name == processing:\n",
    "            color_directory_Path = 'interferograms/'+processing+'/colorphase'\n",
    "            color_directory = Path.cwd() / color_directory_Path\n",
    "            pathname_Path = 'colors/path'+str(volcano.path)+'frame'+str(volcano.frame)\n",
    "            pathname = Path.cwd() / pathname_Path\n",
    "            color_files = color_directory.glob('*color_phase.kmz')\n",
    "            color_files_list = list(color_files)\n",
    "            for file in color_files_list:\n",
    "                file_date = file.name[5:13] + '_' + file.name[21:29]\n",
    "                date_dir = color_directory / file_date\n",
    "                date_dir.mkdir(exist_ok=True)\n",
    "                file.rename( date_dir / file.name )\n",
    "            if color_directory.exists():\n",
    "                if not pathname.exists():\n",
    "                    color_directory.rename(pathname)\n",
    "                else:\n",
    "                    shutil.rmtree(color_directory)"
   ]
  },
  {
   "cell_type": "markdown",
   "id": "a1f3c092",
   "metadata": {},
   "source": [
    "<div class=\"alert alert-info\">\n",
    "<font face=\"Calibri\"><font size=\"4\">\n",
    "Remove analysis directories\n",
    "</font> "
   ]
  },
  {
   "cell_type": "code",
   "execution_count": null,
   "id": "7210afac",
   "metadata": {},
   "outputs": [],
   "source": [
    "from pathlib import Path\n",
    "import shutil\n",
    "\n",
    "root_directory   = Path.cwd() / 'processings'\n",
    "target_directory = Path.cwd() / 'products'\n",
    "colorpath        = Path.cwd() / 'colors'\n",
    "\n",
    "shutil.rmtree(root_directory)\n",
    "shutil.rmtree(target_directory)\n",
    "shutil.rmtree(colorpath)\n",
    "\n",
    "root_directory.mkdir(exist_ok=True)\n",
    "target_directory.mkdir(exist_ok=True)\n",
    "colorpath.mkdir(exist_ok=True)"
   ]
  }
 ],
 "metadata": {
  "kernelspec": {
   "display_name": "Python 3 (ipykernel)",
   "language": "python",
   "name": "python3"
  },
  "language_info": {
   "codemirror_mode": {
    "name": "ipython",
    "version": 3
   },
   "file_extension": ".py",
   "mimetype": "text/x-python",
   "name": "python",
   "nbconvert_exporter": "python",
   "pygments_lexer": "ipython3",
   "version": "3.10.13"
  }
 },
 "nbformat": 4,
 "nbformat_minor": 5
}
