{
 "cells": [
  {
   "cell_type": "markdown",
   "metadata": {
    "pycharm": {
     "name": "#%% md\n"
    }
   },
   "source": [
    "<font face=\"Calibri\">\n",
    "<br>\n",
    "<font size=\"6\"> <b> AVO Obsarviewory:<b> </font>\n",
    "<font size=\"5\"> <b> routine InSAR processing tool for Alaska volcanoes<b> </font></b>\n",
    "<br>\n",
    "<br>\n",
    "<font size=\"5\"> <b> Current Notebook: update_check<b> </font></b>\n",
    "\n",
    "<br>\n",
    "<br>\n",
    "<br>\n",
    "<font size=\"4\"> \n",
    "This Notebook checks the date status of listed ASF projects. It only checks and does not update. To update and start a new processing, please try the <code>avoobs_routine_processing</code> Notebook.\n",
    "<br>\n",
    "<br>\n",
    "There are two cells in this Notebook. The first cell checks the dates of the last scenes included in ASF projects, while the second cell checks the dates of the newest scenes availble for ASF projects. \n",
    "<br>\n",
    "<br>\n",
    "This notebook reads in <code>data/asflist.pkl</code> for reference. If that file does not exist, please try the <code>insar_list_init</code> Notebook.</b>\n",
    "<br>\n",
    "<br>\n",
    "This Notebook is part of <a href=\"https://github.com/uafgeotools/avo_obsarviewtory\" target=\"_blank\">AVO Obsarviewtory</a>.  \n",
    "\n",
    "\n",
    "</font>\n",
    "<hr>"
   ]
  },
  {
   "cell_type": "code",
   "execution_count": 4,
   "metadata": {},
   "outputs": [
    {
     "name": "stdout",
     "output_type": "stream",
     "text": [
      "The last processed scene of project 015_421 is 20230901\n",
      "The last processed scene of project st_semisopochnoi_real is 20230902\n",
      "The last processed scene of project 044_410 is 20230822\n",
      "The last processed scene of project 044_415 is 20230822\n",
      "The last processed scene of project 050_182 is 20230823\n",
      "The last processed scene of project 059_419 is 20230823\n",
      "The last processed scene of project 073_407 is 20230824\n",
      "The last processed scene of project 073_412 is 20230824\n",
      "The last processed scene of project 079_186 is 20230825\n",
      "The last processed scene of project 081_166 is 20230825\n",
      "The last processed scene of project 088_418 is 20230825\n",
      "The last processed scene of project 102_397 is 20230826\n",
      "The last processed scene of project 102_402 is 20230826\n",
      "The last processed scene of project 102_407 is 20230826\n",
      "The last processed scene of project 103_419 is 20230826\n",
      "The last processed scene of project 117_417 is 20230827\n",
      "The last processed scene of project spurr is 20230804\n",
      "The last processed scene of project 131_393 is 20230828\n",
      "The last processed scene of project 131_398 is 20230723\n",
      "The last processed scene of project 154_166 is 20230725\n",
      "The last processed scene of project 161_418 is 20230830\n"
     ]
    }
   ],
   "source": [
    "# check dates of last scenes\n",
    "import pickle\n",
    "import hyp3_sdk as sdk\n",
    "import avo_insar_functions\n",
    "import asf_notebook as asfn\n",
    "hyp3 = sdk.HyP3('https://hyp3-avo.asf.alaska.edu', prompt=True, username='ycheng', password='earthdata+1S')\n",
    "\n",
    "\n",
    "class asf_area:\n",
    "   def __init__(self, asf_name, path, frame, last_date):\n",
    "       self.asf_name = asf_name # asf vertex project name\n",
    "       self.path = path # integer, same for frame\n",
    "       self.frame = frame\n",
    "       self.last_date = last_date # last date included in a project, 'YYYYMMDD' string\n",
    "   def update_date(self,new_date): # newdate is a string 'YYYYMMDD'\n",
    "       self.last_date = new_date\n",
    "\n",
    "with open('data/asflist.pkl', 'rb') as f: # this file contains date record information for all projects\n",
    "   asf_list = pickle.load(f)\n",
    "\n",
    "for asf_project in asf_list:\n",
    "   jobs = hyp3.find_jobs(name=asf_project.asf_name)\n",
    "   new_dates = asfn.get_job_dates(jobs)\n",
    "   asf_project.update_date(max(new_dates))\n",
    "   print('The last processed scene of project '+asf_project.asf_name+' is '+max(new_dates))\n",
    "\n",
    "with open('data/asflist.pkl', 'wb') as f:  # save the updated information\n",
    "   pickle.dump(asf_list, f)\n"
   ]
  },
  {
   "cell_type": "code",
   "execution_count": 5,
   "metadata": {},
   "outputs": [
    {
     "name": "stdout",
     "output_type": "stream",
     "text": [
      "    The project 015_421 is up to date.\n",
      "An ASF search problem has occurred. Check failed at project st_semisopochnoi_real.\n",
      "Check failed at project st_semisopochnoi_real. Local record of the last processed scene is 20230902.\n",
      "    The project 044_410 can be updated. New SLC is on 2023-09-03 (12 days later).\n",
      "    The project 044_415 can be updated. New SLC is on 2023-09-03 (12 days later).\n",
      "    The project 050_182 is up to date.\n",
      "    The project 059_419 can be updated. New SLC is on 2023-09-04 (12 days later).\n",
      "    The project 073_407 is up to date.\n",
      "    The project 073_412 is up to date.\n",
      "    The project 079_186 is up to date.\n",
      "An ASF search problem has occurred. Check failed at project 081_166.\n",
      "Check failed at project 081_166. Local record of the last processed scene is 20230825.\n",
      "    The project 088_418 is up to date.\n",
      "    The project 102_397 is up to date.\n",
      "    The project 102_402 is up to date.\n",
      "    The project 102_407 is up to date.\n",
      "    The project 103_419 is up to date.\n",
      "    The project 117_417 is up to date.\n",
      "    The project spurr can be updated. New SLC is on 2023-08-28 (24 days later).\n",
      "    The project 131_393 is up to date.\n"
     ]
    },
    {
     "ename": "JSONDecodeError",
     "evalue": "[Errno Expecting value] <html>\r\n<head><title>504 Gateway Time-out</title></head>\r\n<body>\r\n<center><h1>504 Gateway Time-out</h1></center>\r\n</body>\r\n</html>\r\n: 0",
     "output_type": "error",
     "traceback": [
      "\u001b[0;31m---------------------------------------------------------------------------\u001b[0m",
      "\u001b[0;31mJSONDecodeError\u001b[0m                           Traceback (most recent call last)",
      "File \u001b[0;32m~/.local/envs/insar_analysis/lib/python3.8/site-packages/requests/models.py:910\u001b[0m, in \u001b[0;36mResponse.json\u001b[0;34m(self, **kwargs)\u001b[0m\n\u001b[1;32m    909\u001b[0m \u001b[38;5;28;01mtry\u001b[39;00m:\n\u001b[0;32m--> 910\u001b[0m     \u001b[38;5;28;01mreturn\u001b[39;00m \u001b[43mcomplexjson\u001b[49m\u001b[38;5;241;43m.\u001b[39;49m\u001b[43mloads\u001b[49m\u001b[43m(\u001b[49m\u001b[38;5;28;43mself\u001b[39;49m\u001b[38;5;241;43m.\u001b[39;49m\u001b[43mtext\u001b[49m\u001b[43m,\u001b[49m\u001b[43m \u001b[49m\u001b[38;5;241;43m*\u001b[39;49m\u001b[38;5;241;43m*\u001b[39;49m\u001b[43mkwargs\u001b[49m\u001b[43m)\u001b[49m\n\u001b[1;32m    911\u001b[0m \u001b[38;5;28;01mexcept\u001b[39;00m JSONDecodeError \u001b[38;5;28;01mas\u001b[39;00m e:\n\u001b[1;32m    912\u001b[0m     \u001b[38;5;66;03m# Catch JSON-related errors and raise as requests.JSONDecodeError\u001b[39;00m\n\u001b[1;32m    913\u001b[0m     \u001b[38;5;66;03m# This aliases json.JSONDecodeError and simplejson.JSONDecodeError\u001b[39;00m\n",
      "File \u001b[0;32m~/.local/envs/insar_analysis/lib/python3.8/json/__init__.py:357\u001b[0m, in \u001b[0;36mloads\u001b[0;34m(s, cls, object_hook, parse_float, parse_int, parse_constant, object_pairs_hook, **kw)\u001b[0m\n\u001b[1;32m    354\u001b[0m \u001b[38;5;28;01mif\u001b[39;00m (\u001b[38;5;28mcls\u001b[39m \u001b[38;5;129;01mis\u001b[39;00m \u001b[38;5;28;01mNone\u001b[39;00m \u001b[38;5;129;01mand\u001b[39;00m object_hook \u001b[38;5;129;01mis\u001b[39;00m \u001b[38;5;28;01mNone\u001b[39;00m \u001b[38;5;129;01mand\u001b[39;00m\n\u001b[1;32m    355\u001b[0m         parse_int \u001b[38;5;129;01mis\u001b[39;00m \u001b[38;5;28;01mNone\u001b[39;00m \u001b[38;5;129;01mand\u001b[39;00m parse_float \u001b[38;5;129;01mis\u001b[39;00m \u001b[38;5;28;01mNone\u001b[39;00m \u001b[38;5;129;01mand\u001b[39;00m\n\u001b[1;32m    356\u001b[0m         parse_constant \u001b[38;5;129;01mis\u001b[39;00m \u001b[38;5;28;01mNone\u001b[39;00m \u001b[38;5;129;01mand\u001b[39;00m object_pairs_hook \u001b[38;5;129;01mis\u001b[39;00m \u001b[38;5;28;01mNone\u001b[39;00m \u001b[38;5;129;01mand\u001b[39;00m \u001b[38;5;129;01mnot\u001b[39;00m kw):\n\u001b[0;32m--> 357\u001b[0m     \u001b[38;5;28;01mreturn\u001b[39;00m \u001b[43m_default_decoder\u001b[49m\u001b[38;5;241;43m.\u001b[39;49m\u001b[43mdecode\u001b[49m\u001b[43m(\u001b[49m\u001b[43ms\u001b[49m\u001b[43m)\u001b[49m\n\u001b[1;32m    358\u001b[0m \u001b[38;5;28;01mif\u001b[39;00m \u001b[38;5;28mcls\u001b[39m \u001b[38;5;129;01mis\u001b[39;00m \u001b[38;5;28;01mNone\u001b[39;00m:\n",
      "File \u001b[0;32m~/.local/envs/insar_analysis/lib/python3.8/json/decoder.py:337\u001b[0m, in \u001b[0;36mJSONDecoder.decode\u001b[0;34m(self, s, _w)\u001b[0m\n\u001b[1;32m    333\u001b[0m \u001b[38;5;124;03m\"\"\"Return the Python representation of ``s`` (a ``str`` instance\u001b[39;00m\n\u001b[1;32m    334\u001b[0m \u001b[38;5;124;03mcontaining a JSON document).\u001b[39;00m\n\u001b[1;32m    335\u001b[0m \n\u001b[1;32m    336\u001b[0m \u001b[38;5;124;03m\"\"\"\u001b[39;00m\n\u001b[0;32m--> 337\u001b[0m obj, end \u001b[38;5;241m=\u001b[39m \u001b[38;5;28;43mself\u001b[39;49m\u001b[38;5;241;43m.\u001b[39;49m\u001b[43mraw_decode\u001b[49m\u001b[43m(\u001b[49m\u001b[43ms\u001b[49m\u001b[43m,\u001b[49m\u001b[43m \u001b[49m\u001b[43midx\u001b[49m\u001b[38;5;241;43m=\u001b[39;49m\u001b[43m_w\u001b[49m\u001b[43m(\u001b[49m\u001b[43ms\u001b[49m\u001b[43m,\u001b[49m\u001b[43m \u001b[49m\u001b[38;5;241;43m0\u001b[39;49m\u001b[43m)\u001b[49m\u001b[38;5;241;43m.\u001b[39;49m\u001b[43mend\u001b[49m\u001b[43m(\u001b[49m\u001b[43m)\u001b[49m\u001b[43m)\u001b[49m\n\u001b[1;32m    338\u001b[0m end \u001b[38;5;241m=\u001b[39m _w(s, end)\u001b[38;5;241m.\u001b[39mend()\n",
      "File \u001b[0;32m~/.local/envs/insar_analysis/lib/python3.8/json/decoder.py:355\u001b[0m, in \u001b[0;36mJSONDecoder.raw_decode\u001b[0;34m(self, s, idx)\u001b[0m\n\u001b[1;32m    354\u001b[0m \u001b[38;5;28;01mexcept\u001b[39;00m \u001b[38;5;167;01mStopIteration\u001b[39;00m \u001b[38;5;28;01mas\u001b[39;00m err:\n\u001b[0;32m--> 355\u001b[0m     \u001b[38;5;28;01mraise\u001b[39;00m JSONDecodeError(\u001b[38;5;124m\"\u001b[39m\u001b[38;5;124mExpecting value\u001b[39m\u001b[38;5;124m\"\u001b[39m, s, err\u001b[38;5;241m.\u001b[39mvalue) \u001b[38;5;28;01mfrom\u001b[39;00m \u001b[38;5;28mNone\u001b[39m\n\u001b[1;32m    356\u001b[0m \u001b[38;5;28;01mreturn\u001b[39;00m obj, end\n",
      "\u001b[0;31mJSONDecodeError\u001b[0m: Expecting value: line 1 column 1 (char 0)",
      "\nDuring handling of the above exception, another exception occurred:\n",
      "\u001b[0;31mJSONDecodeError\u001b[0m                           Traceback (most recent call last)",
      "Input \u001b[0;32mIn [5]\u001b[0m, in \u001b[0;36m<cell line: 7>\u001b[0;34m()\u001b[0m\n\u001b[1;32m      5\u001b[0m     asf_list \u001b[38;5;241m=\u001b[39m pickle\u001b[38;5;241m.\u001b[39mload(f)\n\u001b[1;32m      7\u001b[0m \u001b[38;5;28;01mfor\u001b[39;00m asf_project \u001b[38;5;129;01min\u001b[39;00m asf_list:\n\u001b[0;32m----> 8\u001b[0m     flag \u001b[38;5;241m=\u001b[39m \u001b[43mavo_insar_functions\u001b[49m\u001b[38;5;241;43m.\u001b[39;49m\u001b[43mcheck_project_update\u001b[49m\u001b[43m(\u001b[49m\u001b[43masf_project\u001b[49m\u001b[38;5;241;43m.\u001b[39;49m\u001b[43masf_name\u001b[49m\u001b[43m,\u001b[49m\u001b[43masf_list\u001b[49m\u001b[43m)\u001b[49m\n\u001b[1;32m      9\u001b[0m     \u001b[38;5;28;01mif\u001b[39;00m flag \u001b[38;5;241m==\u001b[39m \u001b[38;5;241m-\u001b[39m\u001b[38;5;241m1\u001b[39m:\n\u001b[1;32m     10\u001b[0m         \u001b[38;5;28mprint\u001b[39m(\u001b[38;5;124m'\u001b[39m\u001b[38;5;124mCheck failed at project \u001b[39m\u001b[38;5;124m'\u001b[39m\u001b[38;5;241m+\u001b[39masf_project\u001b[38;5;241m.\u001b[39masf_name\u001b[38;5;241m+\u001b[39m\u001b[38;5;124m'\u001b[39m\u001b[38;5;124m. Local record of the last processed scene is \u001b[39m\u001b[38;5;124m'\u001b[39m\u001b[38;5;241m+\u001b[39masf_project\u001b[38;5;241m.\u001b[39mlast_date\u001b[38;5;241m+\u001b[39m\u001b[38;5;124m'\u001b[39m\u001b[38;5;124m.\u001b[39m\u001b[38;5;124m'\u001b[39m)\n",
      "File \u001b[0;32m~/notebooks/avo_obsarviewtory/avo_insar_functions.py:126\u001b[0m, in \u001b[0;36mcheck_project_update\u001b[0;34m(asf_name, record_dates)\u001b[0m\n\u001b[1;32m    118\u001b[0m search_results \u001b[38;5;241m=\u001b[39m asf\u001b[38;5;241m.\u001b[39msearch(\n\u001b[1;32m    119\u001b[0m     platform\u001b[38;5;241m=\u001b[39masf\u001b[38;5;241m.\u001b[39mSENTINEL1,\n\u001b[1;32m    120\u001b[0m     frame\u001b[38;5;241m=\u001b[39mrecord\u001b[38;5;241m.\u001b[39mframe,\n\u001b[1;32m    121\u001b[0m     relativeOrbit\u001b[38;5;241m=\u001b[39mrecord\u001b[38;5;241m.\u001b[39mpath,\n\u001b[1;32m    122\u001b[0m     processingLevel\u001b[38;5;241m=\u001b[39m\u001b[38;5;124m'\u001b[39m\u001b[38;5;124mSLC\u001b[39m\u001b[38;5;124m'\u001b[39m\n\u001b[1;32m    123\u001b[0m )\n\u001b[1;32m    125\u001b[0m \u001b[38;5;28;01mif\u001b[39;00m \u001b[38;5;28mlen\u001b[39m(search_results)\u001b[38;5;241m>\u001b[39m\u001b[38;5;241m1\u001b[39m:\n\u001b[0;32m--> 126\u001b[0m     baseline_results \u001b[38;5;241m=\u001b[39m \u001b[43msearch_results\u001b[49m\u001b[43m[\u001b[49m\u001b[38;5;241;43m-\u001b[39;49m\u001b[38;5;241;43m1\u001b[39;49m\u001b[43m]\u001b[49m\u001b[38;5;241;43m.\u001b[39;49m\u001b[43mstack\u001b[49m\u001b[43m(\u001b[49m\u001b[43m)\u001b[49m\n\u001b[1;32m    127\u001b[0m     \u001b[38;5;28;01mif\u001b[39;00m \u001b[38;5;28mlen\u001b[39m(baseline_results)\u001b[38;5;241m==\u001b[39m\u001b[38;5;241m0\u001b[39m:\n\u001b[1;32m    128\u001b[0m         \u001b[38;5;28mprint\u001b[39m(\u001b[38;5;124m'\u001b[39m\u001b[38;5;124mAn ASF search problem has occurred. Check failed at project \u001b[39m\u001b[38;5;124m'\u001b[39m\u001b[38;5;241m+\u001b[39masf_name\u001b[38;5;241m+\u001b[39m\u001b[38;5;124m'\u001b[39m\u001b[38;5;124m.\u001b[39m\u001b[38;5;124m'\u001b[39m)\n",
      "File \u001b[0;32m~/.local/envs/insar_analysis/lib/python3.8/site-packages/asf_search/ASFProduct.py:48\u001b[0m, in \u001b[0;36mASFProduct.stack\u001b[0;34m(self)\u001b[0m\n\u001b[1;32m     41\u001b[0m \u001b[38;5;124;03m\"\"\"\u001b[39;00m\n\u001b[1;32m     42\u001b[0m \u001b[38;5;124;03mBuilds a baseline stack from this product.\u001b[39;00m\n\u001b[1;32m     43\u001b[0m \n\u001b[1;32m     44\u001b[0m \u001b[38;5;124;03m:return: ASFSearchResults(list) of the stack, with the addition of baseline values (temporal, perpendicular) attached to each ASFProduct.\u001b[39;00m\n\u001b[1;32m     45\u001b[0m \u001b[38;5;124;03m\"\"\"\u001b[39;00m\n\u001b[1;32m     46\u001b[0m \u001b[38;5;28;01mfrom\u001b[39;00m \u001b[38;5;21;01m.\u001b[39;00m\u001b[38;5;21;01msearch\u001b[39;00m\u001b[38;5;21;01m.\u001b[39;00m\u001b[38;5;21;01mbaseline_search\u001b[39;00m \u001b[38;5;28;01mimport\u001b[39;00m stack_from_product\n\u001b[0;32m---> 48\u001b[0m \u001b[38;5;28;01mreturn\u001b[39;00m \u001b[43mstack_from_product\u001b[49m\u001b[43m(\u001b[49m\u001b[38;5;28;43mself\u001b[39;49m\u001b[43m)\u001b[49m\n",
      "File \u001b[0;32m~/.local/envs/insar_analysis/lib/python3.8/site-packages/asf_search/search/baseline_search.py:39\u001b[0m, in \u001b[0;36mstack_from_product\u001b[0;34m(reference, strategy, host, cmr_token, cmr_provider)\u001b[0m\n\u001b[1;32m     26\u001b[0m \u001b[38;5;124;03m\"\"\"\u001b[39;00m\n\u001b[1;32m     27\u001b[0m \u001b[38;5;124;03mFinds a baseline stack from a reference ASFProduct\u001b[39;00m\n\u001b[1;32m     28\u001b[0m \n\u001b[0;32m   (...)\u001b[0m\n\u001b[1;32m     35\u001b[0m \u001b[38;5;124;03m:return: ASFSearchResults(dict) of search results\u001b[39;00m\n\u001b[1;32m     36\u001b[0m \u001b[38;5;124;03m\"\"\"\u001b[39;00m\n\u001b[1;32m     38\u001b[0m stack_params \u001b[38;5;241m=\u001b[39m get_stack_params(reference)\n\u001b[0;32m---> 39\u001b[0m stack \u001b[38;5;241m=\u001b[39m \u001b[43msearch\u001b[49m\u001b[43m(\u001b[49m\u001b[38;5;241;43m*\u001b[39;49m\u001b[38;5;241;43m*\u001b[39;49m\u001b[43mstack_params\u001b[49m\u001b[43m,\u001b[49m\u001b[43m \u001b[49m\u001b[43mhost\u001b[49m\u001b[38;5;241;43m=\u001b[39;49m\u001b[43mhost\u001b[49m\u001b[43m,\u001b[49m\u001b[43m \u001b[49m\u001b[43mcmr_token\u001b[49m\u001b[38;5;241;43m=\u001b[39;49m\u001b[43mcmr_token\u001b[49m\u001b[43m,\u001b[49m\u001b[43m \u001b[49m\u001b[43mcmr_provider\u001b[49m\u001b[38;5;241;43m=\u001b[39;49m\u001b[43mcmr_provider\u001b[49m\u001b[43m)\u001b[49m\n\u001b[1;32m     40\u001b[0m calc_temporal_baselines(reference, stack)\n\u001b[1;32m     41\u001b[0m stack\u001b[38;5;241m.\u001b[39msort(key\u001b[38;5;241m=\u001b[39m\u001b[38;5;28;01mlambda\u001b[39;00m product: product\u001b[38;5;241m.\u001b[39mproperties[\u001b[38;5;124m'\u001b[39m\u001b[38;5;124mtemporalBaseline\u001b[39m\u001b[38;5;124m'\u001b[39m])\n",
      "File \u001b[0;32m~/.local/envs/insar_analysis/lib/python3.8/site-packages/asf_search/search/search.py:147\u001b[0m, in \u001b[0;36msearch\u001b[0;34m(absoluteOrbit, asfFrame, beamMode, collectionName, maxDoppler, minDoppler, end, maxFaradayRotation, minFaradayRotation, flightDirection, flightLine, frame, granule_list, groupID, insarStackId, instrument, intersectsWith, lookDirection, offNadirAngle, platform, polarization, processingDate, processingLevel, product_list, relativeOrbit, season, start, maxResults, host, cmr_token, cmr_provider)\u001b[0m\n\u001b[1;32m    145\u001b[0m         \u001b[38;5;28;01mraise\u001b[39;00m ASFSearch4xxError(\u001b[38;5;124mf\u001b[39m\u001b[38;5;124m'\u001b[39m\u001b[38;5;124mHTTP \u001b[39m\u001b[38;5;132;01m{\u001b[39;00mresponse\u001b[38;5;241m.\u001b[39mstatus_code\u001b[38;5;132;01m}\u001b[39;00m\u001b[38;5;124m: \u001b[39m\u001b[38;5;132;01m{\u001b[39;00mresponse\u001b[38;5;241m.\u001b[39mjson()[\u001b[38;5;124m\"\u001b[39m\u001b[38;5;124merror\u001b[39m\u001b[38;5;124m\"\u001b[39m][\u001b[38;5;124m\"\u001b[39m\u001b[38;5;124mreport\u001b[39m\u001b[38;5;124m\"\u001b[39m]\u001b[38;5;132;01m}\u001b[39;00m\u001b[38;5;124m'\u001b[39m)\n\u001b[1;32m    146\u001b[0m     \u001b[38;5;28;01mif\u001b[39;00m \u001b[38;5;241m500\u001b[39m \u001b[38;5;241m<\u001b[39m\u001b[38;5;241m=\u001b[39m response\u001b[38;5;241m.\u001b[39mstatus_code \u001b[38;5;241m<\u001b[39m\u001b[38;5;241m=\u001b[39m \u001b[38;5;241m599\u001b[39m:\n\u001b[0;32m--> 147\u001b[0m         \u001b[38;5;28;01mraise\u001b[39;00m ASFSearch5xxError(\u001b[38;5;124mf\u001b[39m\u001b[38;5;124m'\u001b[39m\u001b[38;5;124mHTTP \u001b[39m\u001b[38;5;132;01m{\u001b[39;00mresponse\u001b[38;5;241m.\u001b[39mstatus_code\u001b[38;5;132;01m}\u001b[39;00m\u001b[38;5;124m: \u001b[39m\u001b[38;5;132;01m{\u001b[39;00mresponse\u001b[38;5;241m.\u001b[39mjson()[\u001b[38;5;124m\"\u001b[39m\u001b[38;5;124merror\u001b[39m\u001b[38;5;124m\"\u001b[39m][\u001b[38;5;124m\"\u001b[39m\u001b[38;5;124mreport\u001b[39m\u001b[38;5;124m\"\u001b[39m]\u001b[38;5;132;01m}\u001b[39;00m\u001b[38;5;124m'\u001b[39m)\n\u001b[1;32m    148\u001b[0m     \u001b[38;5;28;01mraise\u001b[39;00m ASFServerError(\u001b[38;5;124mf\u001b[39m\u001b[38;5;124m'\u001b[39m\u001b[38;5;124mHTTP \u001b[39m\u001b[38;5;132;01m{\u001b[39;00mresponse\u001b[38;5;241m.\u001b[39mstatus_code\u001b[38;5;132;01m}\u001b[39;00m\u001b[38;5;124m: \u001b[39m\u001b[38;5;132;01m{\u001b[39;00mresponse\u001b[38;5;241m.\u001b[39mjson()[\u001b[38;5;124m\"\u001b[39m\u001b[38;5;124merror\u001b[39m\u001b[38;5;124m\"\u001b[39m][\u001b[38;5;124m\"\u001b[39m\u001b[38;5;124mreport\u001b[39m\u001b[38;5;124m\"\u001b[39m]\u001b[38;5;132;01m}\u001b[39;00m\u001b[38;5;124m'\u001b[39m)\n\u001b[1;32m    150\u001b[0m products \u001b[38;5;241m=\u001b[39m [ASFProduct(f) \u001b[38;5;28;01mfor\u001b[39;00m f \u001b[38;5;129;01min\u001b[39;00m response\u001b[38;5;241m.\u001b[39mjson()[\u001b[38;5;124m'\u001b[39m\u001b[38;5;124mfeatures\u001b[39m\u001b[38;5;124m'\u001b[39m]]\n",
      "File \u001b[0;32m~/.local/envs/insar_analysis/lib/python3.8/site-packages/requests/models.py:917\u001b[0m, in \u001b[0;36mResponse.json\u001b[0;34m(self, **kwargs)\u001b[0m\n\u001b[1;32m    915\u001b[0m     \u001b[38;5;28;01mraise\u001b[39;00m RequestsJSONDecodeError(e\u001b[38;5;241m.\u001b[39mmessage)\n\u001b[1;32m    916\u001b[0m \u001b[38;5;28;01melse\u001b[39;00m:\n\u001b[0;32m--> 917\u001b[0m     \u001b[38;5;28;01mraise\u001b[39;00m RequestsJSONDecodeError(e\u001b[38;5;241m.\u001b[39mmsg, e\u001b[38;5;241m.\u001b[39mdoc, e\u001b[38;5;241m.\u001b[39mpos)\n",
      "\u001b[0;31mJSONDecodeError\u001b[0m: [Errno Expecting value] <html>\r\n<head><title>504 Gateway Time-out</title></head>\r\n<body>\r\n<center><h1>504 Gateway Time-out</h1></center>\r\n</body>\r\n</html>\r\n: 0"
     ]
    }
   ],
   "source": [
    "# check if there are new SLCs avaliable\n",
    "\n",
    "with open('data/asflist.pkl', 'rb') as f:\n",
    "    asf_list = pickle.load(f)\n",
    "\n",
    "for asf_project in asf_list:\n",
    "    flag = avo_insar_functions.check_project_update(asf_project.asf_name,asf_list)\n",
    "    if flag == -1:\n",
    "        print('Check failed at project '+asf_project.asf_name+'. Local record of the last processed scene is '+asf_project.last_date+'.')"
   ]
  },
  {
   "cell_type": "code",
   "execution_count": null,
   "metadata": {},
   "outputs": [],
   "source": []
  }
 ],
 "metadata": {
  "kernelspec": {
   "display_name": "insar_analysis",
   "language": "python",
   "name": "conda-env-.local-insar_analysis-py"
  },
  "language_info": {
   "codemirror_mode": {
    "name": "ipython",
    "version": 3
   },
   "file_extension": ".py",
   "mimetype": "text/x-python",
   "name": "python",
   "nbconvert_exporter": "python",
   "pygments_lexer": "ipython3",
   "version": "3.8.13"
  }
 },
 "nbformat": 4,
 "nbformat_minor": 1
}
