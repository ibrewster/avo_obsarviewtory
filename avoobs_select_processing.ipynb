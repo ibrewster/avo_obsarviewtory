{
 "cells": [
  {
   "cell_type": "markdown",
   "metadata": {},
   "source": [
    "<font face=\"Calibri\">\n",
    "<br>\n",
    "<font size=\"6\"> <b> AVO Obsarviewory:<b> </font>\n",
    "<font size=\"5\"> <b> routine InSAR processing tool for Alaska volcanoes<b> </font></b>\n",
    "<br>\n",
    "<br>\n",
    "<font size=\"5\"> <b> Current Notebook: select_processing<b> </font></b>\n",
    "\n",
    "<br>\n",
    "<br>\n",
    "<br>\n",
    "<font size=\"4\"> \n",
    "This notebook runs a MintPy analysis for a selected volcano.\n",
    "<br>\n",
    "<br>\n",
    "This Notebook is part of <a href=\"https://github.com/uafgeotools/avo_obsarviewtory\" target=\"_blank\">AVO Obsarviewtory</a>.  \n",
    "\n",
    "\n",
    "</font>\n",
    "<hr>"
   ]
  },
  {
   "cell_type": "code",
   "execution_count": 2,
   "metadata": {},
   "outputs": [
    {
     "name": "stdout",
     "output_type": "stream",
     "text": [
      "Choose a project\n"
     ]
    },
    {
     "data": {
      "application/vnd.jupyter.widget-view+json": {
       "model_id": "37803a5273c74a44a22903f00c14c366",
       "version_major": 2,
       "version_minor": 0
      },
      "text/plain": [
       "RadioButtons(description='project:', options=('seguam15', 'chagulak15', 'yunaska15', 'kiska30', 'davidof30', '…"
      ]
     },
     "metadata": {},
     "output_type": "display_data"
    }
   ],
   "source": [
    "import pickle\n",
    "class volcano_area: # see avoobs_init for details\n",
    "    def __init__(self, volc_name, filter_dates, ul, lr, path, frame, asf_name, run_flag):\n",
    "        self.volc_name = volc_name\n",
    "        self.filter_dates = filter_dates\n",
    "        self.ul = ul\n",
    "        self.lr = lr\n",
    "        self.path = path\n",
    "        self.frame = frame\n",
    "        self.asf_name = asf_name\n",
    "        self.run_flag = run_flag\n",
    "    def update_flag(self, new_flag):\n",
    "        self.run_flag = new_flag\n",
    "\n",
    "with open('data/volclist.pkl', 'rb') as f: # this file contains volcano information\n",
    "    volcano_list = pickle.load(f)\n",
    "\n",
    "projects = [] # create a list to contain project names\n",
    "for volcano in volcano_list:\n",
    "    projects.append(volcano.volc_name+str(volcano.path)) # this results in project names like \"seguam15\" or \"akutan44\"\n",
    "import ipywidgets as widgets\n",
    "print('Choose a project')\n",
    "project_selector   = widgets.RadioButtons(\n",
    "    options     = list(projects),\n",
    "    description = 'project:',\n",
    "    disabled=False,\n",
    ")\n",
    "display(project_selector)"
   ]
  },
  {
   "cell_type": "code",
   "execution_count": null,
   "metadata": {},
   "outputs": [],
   "source": [
    "import avo_insar_functions\n",
    "import hyp3_sdk as sdk\n",
    "from pathlib import Path\n",
    "\n",
    "print('Current processing: '+project_selector.value)\n",
    "volc_index = projects.index(project_selector.value) # collect the index so we know which volcano is selected \n",
    "class asf_area:\n",
    "    def __init__(self, asf_name, path, frame, last_date): \n",
    "        self.asf_name = asf_name\n",
    "        self.path = path\n",
    "        self.frame = frame\n",
    "        self.last_date = last_date\n",
    "    def update_date(self,new_date):\n",
    "        self.last_date = new_date\n",
    "with open('data/asflist.pkl', 'rb') as f: \n",
    "    asf_list = pickle.load(f)\n",
    "\n",
    "\n",
    "asf_names = []\n",
    "for asf_project in asf_list: \n",
    "    asf_names.append(asf_project.asf_name)\n",
    "    \n",
    "\n",
    "volcano = volcano_list[volc_index] # use the index to locate the volcano that is selected\n",
    "date_index = asf_names.index(volcano.asf_name) # find the index for the same volcano from asf projects\n",
    "\n",
    "\n",
    "hyp3 = sdk.HyP3('https://hyp3-avo.asf.alaska.edu', prompt=True, username='ycheng', password='earthdata+1S')\n",
    "update_flag = avo_insar_functions.update_asf_project(volcano.path,volcano.frame,volcano.asf_name,asf_list[date_index].last_date,hyp3)\n",
    "\n",
    "if update_flag == 1:\n",
    "    jobs = hyp3.find_jobs(name=volcano.asf_name)\n",
    "    jobs = hyp3.watch(jobs) # wait for complete\n",
    "\n",
    "    print('########CURRENT PROJECT########')\n",
    "    project_name =volcano.volc_name + str(volcano.path) # this results in project names like \"seguam15\" or \"akutan44\"\n",
    "    print(project_name)\n",
    "    \n",
    "    analysis_directory = Path.cwd() / 'processings' / project_name\n",
    "    mintpy_directory = analysis_directory / 'MintPy'\n",
    "    print(f\"analysis_directory: {analysis_directory}\")\n",
    "\n",
    "    gdal_command = avo_insar_functions.avo_insar_download( hyp3 , volcano.asf_name , analysis_directory , volcano.filter_dates) # download\n",
    "    full_scene = analysis_directory/\"full_scene.tif\"\n",
    "    if full_scene.exists():\n",
    "        full_scene.unlink()\n",
    "    !{gdal_command}\n",
    "    image_file = f\"{analysis_directory}/raster_stack.vrt\"\n",
    "    !gdalbuildvrt -separate $image_file -overwrite $full_scene\n",
    "    avo_insar_functions.avo_insar_crop(image_file, volcano.ul, volcano.lr, analysis_directory) # crop downloaded files into pre-defined area of interest\n",
    "\n",
    "    mintpy_config = avo_insar_functions.avo_insar_run( analysis_directory , mintpy_directory ) # run MintPy\n",
    "    !smallbaselineApp.py --dir {mintpy_directory} {mintpy_config}\n",
    "\n",
    "    from mintpy import view\n",
    "    view.main([f'{mintpy_directory}/velocity.h5']) # check products"
   ]
  },
  {
   "cell_type": "code",
   "execution_count": null,
   "metadata": {},
   "outputs": [],
   "source": []
  }
 ],
 "metadata": {
  "kernelspec": {
   "display_name": "insar_new",
   "language": "python",
   "name": "insar_new"
  },
  "language_info": {
   "codemirror_mode": {
    "name": "ipython",
    "version": 3
   },
   "file_extension": ".py",
   "mimetype": "text/x-python",
   "name": "python",
   "nbconvert_exporter": "python",
   "pygments_lexer": "ipython3",
   "version": "3.8.13"
  }
 },
 "nbformat": 4,
 "nbformat_minor": 1
}
