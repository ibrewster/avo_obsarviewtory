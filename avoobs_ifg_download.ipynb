{
 "cells": [
  {
   "cell_type": "markdown",
   "id": "8c0a48c4",
   "metadata": {},
   "source": [
    "<font face=\"Calibri\">\n",
    "<br>\n",
    "<font size=\"6\"> <b> AVO Obsarviewory:<b> </font>\n",
    "<font size=\"5\"> <b> routine InSAR processing tool for Alaska volcanoes<b> </font></b>\n",
    "<br>\n",
    "<br>\n",
    "<font size=\"5\"> <b> Current Notebook: ifg_download<b> </font></b>\n",
    "\n",
    "<br>\n",
    "<br>\n",
    "<br>\n",
    "<font size=\"4\"> \n",
    "This notebook downloads interferograms for one volcano in each path-frame area. I didn't add a run-flag-check here because the download won't take long if the date range is properly selected. It just downloads for all project in <code>data/volclist_ifg.pkl</code> no matter they can be updated ot not. This is a bad design.\n",
    "<br>\n",
    "<br>\n",
    "This Notebook is part of <a href=\"https://github.com/uafgeotools/avo_obsarviewtory\" target=\"_blank\">AVO Obsarviewtory</a>.  \n",
    "\n",
    "\n",
    "</font>\n",
    "<hr>"
   ]
  },
  {
   "cell_type": "code",
   "execution_count": 1,
   "id": "75d35475",
   "metadata": {},
   "outputs": [
    {
     "name": "stderr",
     "output_type": "stream",
     "text": [
      "/home/jovyan/.local/envs/insar_new/lib/python3.8/site-packages/hyp3_sdk/asf_search.py:8: FutureWarning: \n",
      "hyp3_sdk.asf_search is deprecated and functionality has been superseded by the `asf_search` package available on conda-forge and PyPI. See: https://github.com/asfadmin/Discovery-asf_search\n",
      "  warnings.warn('\\nhyp3_sdk.asf_search is deprecated and functionality has been '\n"
     ]
    }
   ],
   "source": [
    "import pickle\n",
    "import avo_insar_functions\n",
    "import hyp3_sdk as sdk\n",
    "from pathlib import Path\n",
    "\n",
    "class volcano_init:\n",
    "    def __init__(self, volc_name, filter_dates, ul, lr, path, frame, asf_name, run_flag):\n",
    "        self.volc_name = volc_name\n",
    "        self.filter_dates = filter_dates\n",
    "        self.ul = ul\n",
    "        self.lr = lr\n",
    "        self.path = path\n",
    "        self.frame = frame\n",
    "        self.asf_name = asf_name\n",
    "        self.run_flag = run_flag\n",
    "    def update_flag(self, new_flag):\n",
    "        self.run_flag = new_flag\n",
    "with open('data/volclist_ifg.pkl', 'rb') as f:\n",
    "    volcano_list = pickle.load(f)\n",
    "\n",
    "hyp3 = sdk.HyP3('https://hyp3-avo.asf.alaska.edu', prompt=True, username='ycheng', password='earthdata+1S')"
   ]
  },
  {
   "cell_type": "code",
   "execution_count": null,
   "id": "84a76a7c",
   "metadata": {},
   "outputs": [],
   "source": [
    "jobs = sdk.Batch()\n",
    "jobs = hyp3.find_jobs(name=\"073_412\")\n",
    "jobs = hyp3.watch(jobs)"
   ]
  },
  {
   "cell_type": "markdown",
   "id": "1082fcb3",
   "metadata": {},
   "source": [
    "<div class=\"alert alert-block alert-info\">\n",
    "<b>Select a date range in which the interferograms will be downloaded.</b> \n",
    "    \n",
    "Recommended: from the first day of last month to the latest date possible.\n",
    "</div>"
   ]
  },
  {
   "cell_type": "code",
   "execution_count": 2,
   "id": "4db3a5b5",
   "metadata": {},
   "outputs": [
    {
     "name": "stdout",
     "output_type": "stream",
     "text": [
      "\n",
      "Select a Date Range:\n"
     ]
    },
    {
     "data": {
      "application/vnd.jupyter.widget-view+json": {
       "model_id": "de72a9757df0403bac8732bc956c6454",
       "version_major": 2,
       "version_minor": 0
      },
      "text/plain": [
       "SelectionRangeSlider(description='Dates', index=(0, 2652), layout=Layout(width='500px'), options=((' 04/22/201…"
      ]
     },
     "metadata": {},
     "output_type": "display_data"
    }
   ],
   "source": [
    "import asf_notebook as asfn\n",
    "temp_job = hyp3.find_jobs(name=\"015_421\") # please change this to the asf_name of the last submitted asf project\n",
    "\n",
    "print('\\nSelect a Date Range:')\n",
    "dates = asfn.get_job_dates(temp_job)\n",
    "date_picker = asfn.gui_date_picker(dates)\n",
    "display(date_picker)"
   ]
  },
  {
   "cell_type": "code",
   "execution_count": 3,
   "id": "59103092",
   "metadata": {},
   "outputs": [
    {
     "name": "stdout",
     "output_type": "stream",
     "text": [
      "Date Range: 2023-06-10 to 2023-07-27\n"
     ]
    }
   ],
   "source": [
    "date_range = asfn.get_slider_vals(date_picker)\n",
    "date_range[0] = date_range[0].date()\n",
    "date_range[1] = date_range[1].date()\n",
    "print(f\"Date Range: {str(date_range[0])} to {str(date_range[1])}\")"
   ]
  },
  {
   "cell_type": "code",
   "execution_count": 4,
   "id": "07ff9c3e",
   "metadata": {},
   "outputs": [
    {
     "name": "stdout",
     "output_type": "stream",
     "text": [
      "#########RUNNING#########\n",
      "analysis_directory: /home/jovyan/notebooks/avo_insar/interferograms/yunaska15\n",
      "\n",
      "Project: 015_421\n"
     ]
    },
    {
     "data": {
      "application/vnd.jupyter.widget-view+json": {
       "model_id": "efb6255084354d34a1269bb814904489",
       "version_major": 2,
       "version_minor": 0
      },
      "text/plain": [
       "  0%|          | 0/15 [00:00<?, ?it/s]"
      ]
     },
     "metadata": {},
     "output_type": "display_data"
    },
    {
     "data": {
      "application/vnd.jupyter.widget-view+json": {
       "model_id": "de8dad3d02274bc1b03242eb2d053205",
       "version_major": 2,
       "version_minor": 0
      },
      "text/plain": [
       "S1AA_20230715T173812_20230727T173813_VVR012_INT80_G_weF_9033.zip:   0%|          | 0/135223716 [00:00<?, ?it/s…"
      ]
     },
     "metadata": {},
     "output_type": "display_data"
    },
    {
     "data": {
      "application/vnd.jupyter.widget-view+json": {
       "model_id": "d5b81b73456244c9b335a635d7a2670a",
       "version_major": 2,
       "version_minor": 0
      },
      "text/plain": [
       "S1AA_20220708T173807_20230727T173813_VVR384_INT80_G_weF_FB26.zip:   0%|          | 0/135475147 [00:00<?, ?it/s…"
      ]
     },
     "metadata": {},
     "output_type": "display_data"
    },
    {
     "data": {
      "application/vnd.jupyter.widget-view+json": {
       "model_id": "1f5a643380644f3cad0975db7c71aeed",
       "version_major": 2,
       "version_minor": 0
      },
      "text/plain": [
       "S1AA_20220813T173809_20230715T173812_VVR336_INT80_G_weF_57C1.zip:   0%|          | 0/135346127 [00:00<?, ?it/s…"
      ]
     },
     "metadata": {},
     "output_type": "display_data"
    },
    {
     "data": {
      "application/vnd.jupyter.widget-view+json": {
       "model_id": "35c98acb345e47ff8f5e02e50366b6fd",
       "version_major": 2,
       "version_minor": 0
      },
      "text/plain": [
       "S1AA_20230703T173811_20230715T173812_VVR012_INT80_G_weF_0B0B.zip:   0%|          | 0/134952634 [00:00<?, ?it/s…"
      ]
     },
     "metadata": {},
     "output_type": "display_data"
    },
    {
     "data": {
      "application/vnd.jupyter.widget-view+json": {
       "model_id": "61c28f8da9ae4f5fb3188fac0106661c",
       "version_major": 2,
       "version_minor": 0
      },
      "text/plain": [
       "S1AA_20230528T173807_20230715T173812_VVR048_INT80_G_weF_1D3B.zip:   0%|          | 0/135204660 [00:00<?, ?it/s…"
      ]
     },
     "metadata": {},
     "output_type": "display_data"
    },
    {
     "data": {
      "application/vnd.jupyter.widget-view+json": {
       "model_id": "974910565b1f41e3a497853dbac8a444",
       "version_major": 2,
       "version_minor": 0
      },
      "text/plain": [
       "S1AA_20220801T173808_20230715T173812_VVR348_INT80_G_weF_F9C9.zip:   0%|          | 0/135273019 [00:00<?, ?it/s…"
      ]
     },
     "metadata": {},
     "output_type": "display_data"
    },
    {
     "data": {
      "application/vnd.jupyter.widget-view+json": {
       "model_id": "2f3541752783461181ce5216402ccb32",
       "version_major": 2,
       "version_minor": 0
      },
      "text/plain": [
       "S1AA_20230621T173810_20230715T173812_VVR024_INT80_G_weF_58EA.zip:   0%|          | 0/135276645 [00:00<?, ?it/s…"
      ]
     },
     "metadata": {},
     "output_type": "display_data"
    },
    {
     "data": {
      "application/vnd.jupyter.widget-view+json": {
       "model_id": "114db0c970ff41719d1f4f1dd225756a",
       "version_major": 2,
       "version_minor": 0
      },
      "text/plain": [
       "S1AA_20220626T173806_20230715T173812_VVR384_INT80_G_weF_9884.zip:   0%|          | 0/135336722 [00:00<?, ?it/s…"
      ]
     },
     "metadata": {},
     "output_type": "display_data"
    },
    {
     "data": {
      "application/vnd.jupyter.widget-view+json": {
       "model_id": "bc9d163804514233b4e20dfba5d60070",
       "version_major": 2,
       "version_minor": 0
      },
      "text/plain": [
       "S1AA_20220801T173808_20230703T173811_VVR336_INT80_G_weF_ED23.zip:   0%|          | 0/135264050 [00:00<?, ?it/s…"
      ]
     },
     "metadata": {},
     "output_type": "display_data"
    },
    {
     "data": {
      "application/vnd.jupyter.widget-view+json": {
       "model_id": "aaee49d84f714a8699c7622a702de995",
       "version_major": 2,
       "version_minor": 0
      },
      "text/plain": [
       "S1AA_20230621T173810_20230703T173811_VVR012_INT80_G_weF_BAE3.zip:   0%|          | 0/135263959 [00:00<?, ?it/s…"
      ]
     },
     "metadata": {},
     "output_type": "display_data"
    },
    {
     "data": {
      "application/vnd.jupyter.widget-view+json": {
       "model_id": "ec8b97d528c74129a9d6b81bf8d70526",
       "version_major": 2,
       "version_minor": 0
      },
      "text/plain": [
       "S1AA_20220813T173809_20230703T173811_VVR324_INT80_G_weF_19AF.zip:   0%|          | 0/135361521 [00:00<?, ?it/s…"
      ]
     },
     "metadata": {},
     "output_type": "display_data"
    },
    {
     "data": {
      "application/vnd.jupyter.widget-view+json": {
       "model_id": "2f3c9b4e71b7464e8b45ec94005da4e1",
       "version_major": 2,
       "version_minor": 0
      },
      "text/plain": [
       "S1AA_20230528T173807_20230621T173810_VVR024_INT80_G_weF_9DD4.zip:   0%|          | 0/135195840 [00:00<?, ?it/s…"
      ]
     },
     "metadata": {},
     "output_type": "display_data"
    },
    {
     "data": {
      "application/vnd.jupyter.widget-view+json": {
       "model_id": "06f5dc263008481e8c914d04567d69c2",
       "version_major": 2,
       "version_minor": 0
      },
      "text/plain": [
       "S1AA_20230329T173806_20230621T173810_VVR084_INT80_G_weF_8F95.zip:   0%|          | 0/134971858 [00:00<?, ?it/s…"
      ]
     },
     "metadata": {},
     "output_type": "display_data"
    },
    {
     "data": {
      "application/vnd.jupyter.widget-view+json": {
       "model_id": "a99c82a2736a45a49e91ab1142663c00",
       "version_major": 2,
       "version_minor": 0
      },
      "text/plain": [
       "S1AA_20220708T173807_20230621T173810_VVR348_INT80_G_weF_CD13.zip:   0%|          | 0/135444106 [00:00<?, ?it/s…"
      ]
     },
     "metadata": {},
     "output_type": "display_data"
    },
    {
     "data": {
      "application/vnd.jupyter.widget-view+json": {
       "model_id": "cd0343d40f044cf09947a5a16879c3ae",
       "version_major": 2,
       "version_minor": 0
      },
      "text/plain": [
       "S1AA_20230609T173810_20230621T173810_VVR012_INT80_G_weF_945E.zip:   0%|          | 0/135335380 [00:00<?, ?it/s…"
      ]
     },
     "metadata": {},
     "output_type": "display_data"
    },
    {
     "name": "stdout",
     "output_type": "stream",
     "text": [
      "Extracting: /home/jovyan/notebooks/avo_insar/interferograms/yunaska15/S1AA_20230715T173812_20230727T173813_VVR012_INT80_G_weF_9033.zip\n",
      "Extracting: /home/jovyan/notebooks/avo_insar/interferograms/yunaska15/S1AA_20220708T173807_20230727T173813_VVR384_INT80_G_weF_FB26.zip\n",
      "Extracting: /home/jovyan/notebooks/avo_insar/interferograms/yunaska15/S1AA_20220813T173809_20230715T173812_VVR336_INT80_G_weF_57C1.zip\n",
      "Extracting: /home/jovyan/notebooks/avo_insar/interferograms/yunaska15/S1AA_20230703T173811_20230715T173812_VVR012_INT80_G_weF_0B0B.zip\n",
      "Extracting: /home/jovyan/notebooks/avo_insar/interferograms/yunaska15/S1AA_20230528T173807_20230715T173812_VVR048_INT80_G_weF_1D3B.zip\n",
      "Extracting: /home/jovyan/notebooks/avo_insar/interferograms/yunaska15/S1AA_20220801T173808_20230715T173812_VVR348_INT80_G_weF_F9C9.zip\n",
      "Extracting: /home/jovyan/notebooks/avo_insar/interferograms/yunaska15/S1AA_20230621T173810_20230715T173812_VVR024_INT80_G_weF_58EA.zip\n",
      "Extracting: /home/jovyan/notebooks/avo_insar/interferograms/yunaska15/S1AA_20220626T173806_20230715T173812_VVR384_INT80_G_weF_9884.zip\n",
      "Extracting: /home/jovyan/notebooks/avo_insar/interferograms/yunaska15/S1AA_20220801T173808_20230703T173811_VVR336_INT80_G_weF_ED23.zip\n",
      "Extracting: /home/jovyan/notebooks/avo_insar/interferograms/yunaska15/S1AA_20230621T173810_20230703T173811_VVR012_INT80_G_weF_BAE3.zip\n",
      "Extracting: /home/jovyan/notebooks/avo_insar/interferograms/yunaska15/S1AA_20220813T173809_20230703T173811_VVR324_INT80_G_weF_19AF.zip\n",
      "Extracting: /home/jovyan/notebooks/avo_insar/interferograms/yunaska15/S1AA_20230528T173807_20230621T173810_VVR024_INT80_G_weF_9DD4.zip\n",
      "Extracting: /home/jovyan/notebooks/avo_insar/interferograms/yunaska15/S1AA_20230329T173806_20230621T173810_VVR084_INT80_G_weF_8F95.zip\n",
      "Extracting: /home/jovyan/notebooks/avo_insar/interferograms/yunaska15/S1AA_20220708T173807_20230621T173810_VVR348_INT80_G_weF_CD13.zip\n",
      "Extracting: /home/jovyan/notebooks/avo_insar/interferograms/yunaska15/S1AA_20230609T173810_20230621T173810_VVR012_INT80_G_weF_945E.zip\n",
      "##########################\n",
      "15\n",
      "######END OF PROJECT######\n",
      "#########RUNNING#########\n",
      "analysis_directory: /home/jovyan/notebooks/avo_insar/interferograms/edgecumbe50\n",
      "\n",
      "Project: 050_182\n"
     ]
    },
    {
     "data": {
      "application/vnd.jupyter.widget-view+json": {
       "model_id": "511cf6a8acec4ba18efd9b1f93366d41",
       "version_major": 2,
       "version_minor": 0
      },
      "text/plain": [
       "  0%|          | 0/13 [00:00<?, ?it/s]"
      ]
     },
     "metadata": {},
     "output_type": "display_data"
    },
    {
     "data": {
      "application/vnd.jupyter.widget-view+json": {
       "model_id": "57a162d0babe46ac8662fcb3b6cc9a6c",
       "version_major": 2,
       "version_minor": 0
      },
      "text/plain": [
       "S1AA_20230612T025422_20230718T025425_VVR036_INT80_G_weF_EB71.zip:   0%|          | 0/100847260 [00:00<?, ?it/s…"
      ]
     },
     "metadata": {},
     "output_type": "display_data"
    },
    {
     "data": {
      "application/vnd.jupyter.widget-view+json": {
       "model_id": "b6f072ad243b43658d8cf83b57c718c3",
       "version_major": 2,
       "version_minor": 0
      },
      "text/plain": [
       "S1AA_20230624T025423_20230718T025425_VVR024_INT80_G_weF_404C.zip:   0%|          | 0/101101586 [00:00<?, ?it/s…"
      ]
     },
     "metadata": {},
     "output_type": "display_data"
    },
    {
     "data": {
      "application/vnd.jupyter.widget-view+json": {
       "model_id": "8624f4765b0c4269a9312b4ae5171b48",
       "version_major": 2,
       "version_minor": 0
      },
      "text/plain": [
       "S1AA_20220711T025419_20230718T025425_VVR372_INT80_G_weF_60A8.zip:   0%|          | 0/101006310 [00:00<?, ?it/s…"
      ]
     },
     "metadata": {},
     "output_type": "display_data"
    },
    {
     "data": {
      "application/vnd.jupyter.widget-view+json": {
       "model_id": "46e67aee4e94481197000f666b601cb2",
       "version_major": 2,
       "version_minor": 0
      },
      "text/plain": [
       "S1AA_20230531T025422_20230718T025425_VVR048_INT80_G_weF_7CC5.zip:   0%|          | 0/101014217 [00:00<?, ?it/s…"
      ]
     },
     "metadata": {},
     "output_type": "display_data"
    },
    {
     "data": {
      "application/vnd.jupyter.widget-view+json": {
       "model_id": "52473f5a722e478bbf0cbe9ee71b6708",
       "version_major": 2,
       "version_minor": 0
      },
      "text/plain": [
       "S1AA_20230401T025419_20230624T025423_VVR084_INT80_G_weF_DA21.zip:   0%|          | 0/100954499 [00:00<?, ?it/s…"
      ]
     },
     "metadata": {},
     "output_type": "display_data"
    },
    {
     "data": {
      "application/vnd.jupyter.widget-view+json": {
       "model_id": "46fd68aa8d7845deaeb8af9e4e2302e9",
       "version_major": 2,
       "version_minor": 0
      },
      "text/plain": [
       "S1AA_20220711T025419_20230624T025423_VVR348_INT80_G_weF_7696.zip:   0%|          | 0/100978922 [00:00<?, ?it/s…"
      ]
     },
     "metadata": {},
     "output_type": "display_data"
    },
    {
     "data": {
      "application/vnd.jupyter.widget-view+json": {
       "model_id": "2ea5d18a630b4532912463b08272a755",
       "version_major": 2,
       "version_minor": 0
      },
      "text/plain": [
       "S1AA_20230531T025422_20230624T025423_VVR024_INT80_G_weF_3D54.zip:   0%|          | 0/101014210 [00:00<?, ?it/s…"
      ]
     },
     "metadata": {},
     "output_type": "display_data"
    },
    {
     "data": {
      "application/vnd.jupyter.widget-view+json": {
       "model_id": "b2b4fec43d944eb281c45ba8d6f96427",
       "version_major": 2,
       "version_minor": 0
      },
      "text/plain": [
       "S1AA_20230612T025422_20230624T025423_VVR012_INT80_G_weF_1E87.zip:   0%|          | 0/100881315 [00:00<?, ?it/s…"
      ]
     },
     "metadata": {},
     "output_type": "display_data"
    },
    {
     "data": {
      "application/vnd.jupyter.widget-view+json": {
       "model_id": "64a59d28d0ea40b2b7aadde73d9bda99",
       "version_major": 2,
       "version_minor": 0
      },
      "text/plain": [
       "S1AA_20220629T025419_20230624T025423_VVR360_INT80_G_weF_D3AF.zip:   0%|          | 0/100755300 [00:00<?, ?it/s…"
      ]
     },
     "metadata": {},
     "output_type": "display_data"
    },
    {
     "data": {
      "application/vnd.jupyter.widget-view+json": {
       "model_id": "e3d3f01c2c984dcc924f9f02e273ce01",
       "version_major": 2,
       "version_minor": 0
      },
      "text/plain": [
       "S1AA_20230519T025421_20230612T025422_VVR024_INT80_G_weF_CD18.zip:   0%|          | 0/101064845 [00:00<?, ?it/s…"
      ]
     },
     "metadata": {},
     "output_type": "display_data"
    },
    {
     "data": {
      "application/vnd.jupyter.widget-view+json": {
       "model_id": "24f83259b38645479f49b49db3a0117b",
       "version_major": 2,
       "version_minor": 0
      },
      "text/plain": [
       "S1AA_20220711T025419_20230612T025422_VVR336_INT80_G_weF_95EC.zip:   0%|          | 0/100991831 [00:00<?, ?it/s…"
      ]
     },
     "metadata": {},
     "output_type": "display_data"
    },
    {
     "data": {
      "application/vnd.jupyter.widget-view+json": {
       "model_id": "c2a8a7f7765a4be59f45088be593fffc",
       "version_major": 2,
       "version_minor": 0
      },
      "text/plain": [
       "S1AA_20230401T025419_20230612T025422_VVR072_INT80_G_weF_9BC2.zip:   0%|          | 0/100964792 [00:00<?, ?it/s…"
      ]
     },
     "metadata": {},
     "output_type": "display_data"
    },
    {
     "data": {
      "application/vnd.jupyter.widget-view+json": {
       "model_id": "debb4d9a31914178a769eaf6641128cf",
       "version_major": 2,
       "version_minor": 0
      },
      "text/plain": [
       "S1AA_20230531T025422_20230612T025422_VVR012_INT80_G_weF_C80A.zip:   0%|          | 0/100962108 [00:00<?, ?it/s…"
      ]
     },
     "metadata": {},
     "output_type": "display_data"
    },
    {
     "name": "stdout",
     "output_type": "stream",
     "text": [
      "Extracting: /home/jovyan/notebooks/avo_insar/interferograms/edgecumbe50/S1AA_20230612T025422_20230718T025425_VVR036_INT80_G_weF_EB71.zip\n",
      "Extracting: /home/jovyan/notebooks/avo_insar/interferograms/edgecumbe50/S1AA_20230624T025423_20230718T025425_VVR024_INT80_G_weF_404C.zip\n",
      "Extracting: /home/jovyan/notebooks/avo_insar/interferograms/edgecumbe50/S1AA_20220711T025419_20230718T025425_VVR372_INT80_G_weF_60A8.zip\n",
      "Extracting: /home/jovyan/notebooks/avo_insar/interferograms/edgecumbe50/S1AA_20230531T025422_20230718T025425_VVR048_INT80_G_weF_7CC5.zip\n",
      "Extracting: /home/jovyan/notebooks/avo_insar/interferograms/edgecumbe50/S1AA_20230401T025419_20230624T025423_VVR084_INT80_G_weF_DA21.zip\n",
      "Extracting: /home/jovyan/notebooks/avo_insar/interferograms/edgecumbe50/S1AA_20220711T025419_20230624T025423_VVR348_INT80_G_weF_7696.zip\n",
      "Extracting: /home/jovyan/notebooks/avo_insar/interferograms/edgecumbe50/S1AA_20230531T025422_20230624T025423_VVR024_INT80_G_weF_3D54.zip\n",
      "Extracting: /home/jovyan/notebooks/avo_insar/interferograms/edgecumbe50/S1AA_20230612T025422_20230624T025423_VVR012_INT80_G_weF_1E87.zip\n",
      "Extracting: /home/jovyan/notebooks/avo_insar/interferograms/edgecumbe50/S1AA_20220629T025419_20230624T025423_VVR360_INT80_G_weF_D3AF.zip\n",
      "Extracting: /home/jovyan/notebooks/avo_insar/interferograms/edgecumbe50/S1AA_20230519T025421_20230612T025422_VVR024_INT80_G_weF_CD18.zip\n",
      "Extracting: /home/jovyan/notebooks/avo_insar/interferograms/edgecumbe50/S1AA_20220711T025419_20230612T025422_VVR336_INT80_G_weF_95EC.zip\n",
      "Extracting: /home/jovyan/notebooks/avo_insar/interferograms/edgecumbe50/S1AA_20230401T025419_20230612T025422_VVR072_INT80_G_weF_9BC2.zip\n",
      "Extracting: /home/jovyan/notebooks/avo_insar/interferograms/edgecumbe50/S1AA_20230531T025422_20230612T025422_VVR012_INT80_G_weF_C80A.zip\n",
      "##########################\n",
      "13\n",
      "######END OF PROJECT######\n",
      "#########RUNNING#########\n",
      "analysis_directory: /home/jovyan/notebooks/avo_insar/interferograms/kiska81\n",
      "\n",
      "Project: 081_166\n"
     ]
    },
    {
     "data": {
      "application/vnd.jupyter.widget-view+json": {
       "model_id": "ea3092eb5b784d61971b09cb5857cb4a",
       "version_major": 2,
       "version_minor": 0
      },
      "text/plain": [
       "  0%|          | 0/12 [00:00<?, ?it/s]"
      ]
     },
     "metadata": {},
     "output_type": "display_data"
    },
    {
     "data": {
      "application/vnd.jupyter.widget-view+json": {
       "model_id": "07d95ce6830c42bfbdb12b1aa784dba1",
       "version_major": 2,
       "version_minor": 0
      },
      "text/plain": [
       "S1AA_20230708T055407_20230720T055407_VVR012_INT80_G_weF_9A04.zip:   0%|          | 0/277727345 [00:00<?, ?it/s…"
      ]
     },
     "metadata": {},
     "output_type": "display_data"
    },
    {
     "data": {
      "application/vnd.jupyter.widget-view+json": {
       "model_id": "edcdc472a73b4afd9d41d2605cde097c",
       "version_major": 2,
       "version_minor": 0
      },
      "text/plain": [
       "S1AA_20220713T055402_20230720T055407_VVR372_INT80_G_weF_D2AF.zip:   0%|          | 0/278919080 [00:00<?, ?it/s…"
      ]
     },
     "metadata": {},
     "output_type": "display_data"
    },
    {
     "data": {
      "application/vnd.jupyter.widget-view+json": {
       "model_id": "6b0a6f02e6614d66be482657e53bec5a",
       "version_major": 2,
       "version_minor": 0
      },
      "text/plain": [
       "S1AA_20230614T055405_20230708T055407_VVR024_INT80_G_weF_ABA2.zip:   0%|          | 0/278183001 [00:00<?, ?it/s…"
      ]
     },
     "metadata": {},
     "output_type": "display_data"
    },
    {
     "data": {
      "application/vnd.jupyter.widget-view+json": {
       "model_id": "4e1612a3e1a447d4aa130fdd669a2ceb",
       "version_major": 2,
       "version_minor": 0
      },
      "text/plain": [
       "S1AA_20230427T055402_20230708T055407_VVR072_INT80_G_weF_552A.zip:   0%|          | 0/277646550 [00:00<?, ?it/s…"
      ]
     },
     "metadata": {},
     "output_type": "display_data"
    },
    {
     "data": {
      "application/vnd.jupyter.widget-view+json": {
       "model_id": "579343d6bcc24dd48368e0718e330633",
       "version_major": 2,
       "version_minor": 0
      },
      "text/plain": [
       "S1AA_20230626T055405_20230708T055407_VVR012_INT80_G_weF_2F73.zip:   0%|          | 0/278393097 [00:00<?, ?it/s…"
      ]
     },
     "metadata": {},
     "output_type": "display_data"
    },
    {
     "data": {
      "application/vnd.jupyter.widget-view+json": {
       "model_id": "d20101bbdf304c4f8f2e4bb206d6e737",
       "version_major": 2,
       "version_minor": 0
      },
      "text/plain": [
       "S1AA_20230614T055405_20230626T055405_VVR012_INT80_G_weF_CAAE.zip:   0%|          | 0/278141993 [00:00<?, ?it/s…"
      ]
     },
     "metadata": {},
     "output_type": "display_data"
    },
    {
     "data": {
      "application/vnd.jupyter.widget-view+json": {
       "model_id": "1014725a5dbf4f758a9a4056eb201933",
       "version_major": 2,
       "version_minor": 0
      },
      "text/plain": [
       "S1AA_20220725T055403_20230708T055407_VVR348_INT80_G_weF_7C29.zip:   0%|          | 0/278227515 [00:00<?, ?it/s…"
      ]
     },
     "metadata": {},
     "output_type": "display_data"
    },
    {
     "data": {
      "application/vnd.jupyter.widget-view+json": {
       "model_id": "46246a72b9ee4a1692a2c6473bea9489",
       "version_major": 2,
       "version_minor": 0
      },
      "text/plain": [
       "S1AA_20220619T055400_20230626T055405_VVR372_INT80_G_weF_34DB.zip:   0%|          | 0/278044417 [00:00<?, ?it/s…"
      ]
     },
     "metadata": {},
     "output_type": "display_data"
    },
    {
     "data": {
      "application/vnd.jupyter.widget-view+json": {
       "model_id": "ac25cc47c4844aa68e5049d8e34ab208",
       "version_major": 2,
       "version_minor": 0
      },
      "text/plain": [
       "S1AA_20230602T055404_20230626T055405_VVR024_INT80_G_weF_68DE.zip:   0%|          | 0/277017609 [00:00<?, ?it/s…"
      ]
     },
     "metadata": {},
     "output_type": "display_data"
    },
    {
     "data": {
      "application/vnd.jupyter.widget-view+json": {
       "model_id": "aa1f36a5d5a94532a3c4b0beaaf343c4",
       "version_major": 2,
       "version_minor": 0
      },
      "text/plain": [
       "S1AA_20220619T055400_20230614T055405_VVR360_INT80_G_weF_A6A8.zip:   0%|          | 0/277981117 [00:00<?, ?it/s…"
      ]
     },
     "metadata": {},
     "output_type": "display_data"
    },
    {
     "data": {
      "application/vnd.jupyter.widget-view+json": {
       "model_id": "788e37bb7fbf4be78b73ba9ddce7fced",
       "version_major": 2,
       "version_minor": 0
      },
      "text/plain": [
       "S1AA_20230602T055404_20230614T055405_VVR012_INT80_G_weF_821B.zip:   0%|          | 0/277081975 [00:00<?, ?it/s…"
      ]
     },
     "metadata": {},
     "output_type": "display_data"
    },
    {
     "data": {
      "application/vnd.jupyter.widget-view+json": {
       "model_id": "fce70b0cd8f847e09d007c9c19a4871e",
       "version_major": 2,
       "version_minor": 0
      },
      "text/plain": [
       "S1AA_20230521T055404_20230614T055405_VVR024_INT80_G_weF_43A2.zip:   0%|          | 0/278195582 [00:00<?, ?it/s…"
      ]
     },
     "metadata": {},
     "output_type": "display_data"
    },
    {
     "name": "stdout",
     "output_type": "stream",
     "text": [
      "Extracting: /home/jovyan/notebooks/avo_insar/interferograms/kiska81/S1AA_20230708T055407_20230720T055407_VVR012_INT80_G_weF_9A04.zip\n",
      "Extracting: /home/jovyan/notebooks/avo_insar/interferograms/kiska81/S1AA_20220713T055402_20230720T055407_VVR372_INT80_G_weF_D2AF.zip\n",
      "Extracting: /home/jovyan/notebooks/avo_insar/interferograms/kiska81/S1AA_20230614T055405_20230708T055407_VVR024_INT80_G_weF_ABA2.zip\n",
      "Extracting: /home/jovyan/notebooks/avo_insar/interferograms/kiska81/S1AA_20230427T055402_20230708T055407_VVR072_INT80_G_weF_552A.zip\n",
      "Extracting: /home/jovyan/notebooks/avo_insar/interferograms/kiska81/S1AA_20230626T055405_20230708T055407_VVR012_INT80_G_weF_2F73.zip\n",
      "Extracting: /home/jovyan/notebooks/avo_insar/interferograms/kiska81/S1AA_20230614T055405_20230626T055405_VVR012_INT80_G_weF_CAAE.zip\n",
      "Extracting: /home/jovyan/notebooks/avo_insar/interferograms/kiska81/S1AA_20220725T055403_20230708T055407_VVR348_INT80_G_weF_7C29.zip\n",
      "Extracting: /home/jovyan/notebooks/avo_insar/interferograms/kiska81/S1AA_20220619T055400_20230626T055405_VVR372_INT80_G_weF_34DB.zip\n",
      "Extracting: /home/jovyan/notebooks/avo_insar/interferograms/kiska81/S1AA_20230602T055404_20230626T055405_VVR024_INT80_G_weF_68DE.zip\n",
      "Extracting: /home/jovyan/notebooks/avo_insar/interferograms/kiska81/S1AA_20220619T055400_20230614T055405_VVR360_INT80_G_weF_A6A8.zip\n",
      "Extracting: /home/jovyan/notebooks/avo_insar/interferograms/kiska81/S1AA_20230602T055404_20230614T055405_VVR012_INT80_G_weF_821B.zip\n",
      "Extracting: /home/jovyan/notebooks/avo_insar/interferograms/kiska81/S1AA_20230521T055404_20230614T055405_VVR024_INT80_G_weF_43A2.zip\n",
      "##########################\n",
      "12\n",
      "######END OF PROJECT######\n",
      "#########RUNNING#########\n",
      "analysis_directory: /home/jovyan/notebooks/avo_insar/interferograms/atka88\n",
      "\n",
      "Project: 088_418\n"
     ]
    },
    {
     "data": {
      "application/vnd.jupyter.widget-view+json": {
       "model_id": "082f5b4779074c8db67b511e5b74235a",
       "version_major": 2,
       "version_minor": 0
      },
      "text/plain": [
       "  0%|          | 0/12 [00:00<?, ?it/s]"
      ]
     },
     "metadata": {},
     "output_type": "display_data"
    },
    {
     "data": {
      "application/vnd.jupyter.widget-view+json": {
       "model_id": "d4020b9d32af4b07bf1e61acb23250f9",
       "version_major": 2,
       "version_minor": 0
      },
      "text/plain": [
       "S1AA_20220713T174616_20230720T174621_VVR372_INT80_G_weF_66D3.zip:   0%|          | 0/201171197 [00:00<?, ?it/s…"
      ]
     },
     "metadata": {},
     "output_type": "display_data"
    },
    {
     "data": {
      "application/vnd.jupyter.widget-view+json": {
       "model_id": "747cc7e179b6410ca042db5b08370029",
       "version_major": 2,
       "version_minor": 0
      },
      "text/plain": [
       "S1AA_20230708T174621_20230720T174621_VVR012_INT80_G_weF_D703.zip:   0%|          | 0/315669552 [00:00<?, ?it/s…"
      ]
     },
     "metadata": {},
     "output_type": "display_data"
    },
    {
     "data": {
      "application/vnd.jupyter.widget-view+json": {
       "model_id": "09bf9e08ecab48d8b5a6bd65f1fa9a44",
       "version_major": 2,
       "version_minor": 0
      },
      "text/plain": [
       "S1AA_20230614T174619_20230626T174619_VVR012_INT80_G_weF_28A8.zip:   0%|          | 0/200922108 [00:00<?, ?it/s…"
      ]
     },
     "metadata": {},
     "output_type": "display_data"
    },
    {
     "data": {
      "application/vnd.jupyter.widget-view+json": {
       "model_id": "9a040222475d48acb905256d4b58f976",
       "version_major": 2,
       "version_minor": 0
      },
      "text/plain": [
       "S1AA_20220713T174616_20230708T174621_VVR360_INT80_G_weF_AD59.zip:   0%|          | 0/201030641 [00:00<?, ?it/s…"
      ]
     },
     "metadata": {},
     "output_type": "display_data"
    },
    {
     "data": {
      "application/vnd.jupyter.widget-view+json": {
       "model_id": "d6dbb888f1eb4c9484fc6c191eff0a60",
       "version_major": 2,
       "version_minor": 0
      },
      "text/plain": [
       "S1AA_20220619T174614_20230708T174621_VVR384_INT80_G_weF_3B32.zip:   0%|          | 0/200795670 [00:00<?, ?it/s…"
      ]
     },
     "metadata": {},
     "output_type": "display_data"
    },
    {
     "data": {
      "application/vnd.jupyter.widget-view+json": {
       "model_id": "ca2568720e8c4e3bb9ccedd6b46fbb57",
       "version_major": 2,
       "version_minor": 0
      },
      "text/plain": [
       "S1AA_20230614T174619_20230708T174621_VVR024_INT80_G_weF_45A6.zip:   0%|          | 0/200891394 [00:00<?, ?it/s…"
      ]
     },
     "metadata": {},
     "output_type": "display_data"
    },
    {
     "data": {
      "application/vnd.jupyter.widget-view+json": {
       "model_id": "95db4f5c76b54f8bb0a598e5cd41446b",
       "version_major": 2,
       "version_minor": 0
      },
      "text/plain": [
       "S1AA_20220526T174612_20230626T174619_VVR396_INT80_G_weF_52D3.zip:   0%|          | 0/315298644 [00:00<?, ?it/s…"
      ]
     },
     "metadata": {},
     "output_type": "display_data"
    },
    {
     "data": {
      "application/vnd.jupyter.widget-view+json": {
       "model_id": "1f63d65c85bb499fbf75b99166eb3cca",
       "version_major": 2,
       "version_minor": 0
      },
      "text/plain": [
       "S1AA_20230626T174619_20230708T174621_VVR012_INT80_G_weF_9644.zip:   0%|          | 0/315375242 [00:00<?, ?it/s…"
      ]
     },
     "metadata": {},
     "output_type": "display_data"
    },
    {
     "data": {
      "application/vnd.jupyter.widget-view+json": {
       "model_id": "1439230f89fe40d2afd73cead7a85e41",
       "version_major": 2,
       "version_minor": 0
      },
      "text/plain": [
       "S1AA_20230602T174618_20230614T174619_VVR012_INT80_G_weF_9A6D.zip:   0%|          | 0/200557275 [00:00<?, ?it/s…"
      ]
     },
     "metadata": {},
     "output_type": "display_data"
    },
    {
     "data": {
      "application/vnd.jupyter.widget-view+json": {
       "model_id": "0bb27c29267949cea8e82fddfc301ce7",
       "version_major": 2,
       "version_minor": 0
      },
      "text/plain": [
       "S1AA_20230509T174617_20230614T174619_VVR036_INT80_G_weF_9FBC.zip:   0%|          | 0/200690934 [00:00<?, ?it/s…"
      ]
     },
     "metadata": {},
     "output_type": "display_data"
    },
    {
     "data": {
      "application/vnd.jupyter.widget-view+json": {
       "model_id": "629c2032793c4153a1f2b822b28a0c9b",
       "version_major": 2,
       "version_minor": 0
      },
      "text/plain": [
       "S1AA_20220619T174614_20230614T174619_VVR360_INT80_G_weF_89B4.zip:   0%|          | 0/200715848 [00:00<?, ?it/s…"
      ]
     },
     "metadata": {},
     "output_type": "display_data"
    },
    {
     "data": {
      "application/vnd.jupyter.widget-view+json": {
       "model_id": "f00e133adaf844ef936408aff91d3947",
       "version_major": 2,
       "version_minor": 0
      },
      "text/plain": [
       "S1AA_20230521T174618_20230614T174619_VVR024_INT80_G_weF_E735.zip:   0%|          | 0/200793019 [00:00<?, ?it/s…"
      ]
     },
     "metadata": {},
     "output_type": "display_data"
    },
    {
     "name": "stdout",
     "output_type": "stream",
     "text": [
      "Extracting: /home/jovyan/notebooks/avo_insar/interferograms/atka88/S1AA_20220713T174616_20230720T174621_VVR372_INT80_G_weF_66D3.zip\n",
      "Extracting: /home/jovyan/notebooks/avo_insar/interferograms/atka88/S1AA_20230708T174621_20230720T174621_VVR012_INT80_G_weF_D703.zip\n",
      "Extracting: /home/jovyan/notebooks/avo_insar/interferograms/atka88/S1AA_20230614T174619_20230626T174619_VVR012_INT80_G_weF_28A8.zip\n",
      "Extracting: /home/jovyan/notebooks/avo_insar/interferograms/atka88/S1AA_20220713T174616_20230708T174621_VVR360_INT80_G_weF_AD59.zip\n",
      "Extracting: /home/jovyan/notebooks/avo_insar/interferograms/atka88/S1AA_20220619T174614_20230708T174621_VVR384_INT80_G_weF_3B32.zip\n",
      "Extracting: /home/jovyan/notebooks/avo_insar/interferograms/atka88/S1AA_20230614T174619_20230708T174621_VVR024_INT80_G_weF_45A6.zip\n",
      "Extracting: /home/jovyan/notebooks/avo_insar/interferograms/atka88/S1AA_20220526T174612_20230626T174619_VVR396_INT80_G_weF_52D3.zip\n",
      "Extracting: /home/jovyan/notebooks/avo_insar/interferograms/atka88/S1AA_20230626T174619_20230708T174621_VVR012_INT80_G_weF_9644.zip\n",
      "Extracting: /home/jovyan/notebooks/avo_insar/interferograms/atka88/S1AA_20230602T174618_20230614T174619_VVR012_INT80_G_weF_9A6D.zip\n",
      "Extracting: /home/jovyan/notebooks/avo_insar/interferograms/atka88/S1AA_20230509T174617_20230614T174619_VVR036_INT80_G_weF_9FBC.zip\n",
      "Extracting: /home/jovyan/notebooks/avo_insar/interferograms/atka88/S1AA_20220619T174614_20230614T174619_VVR360_INT80_G_weF_89B4.zip\n",
      "Extracting: /home/jovyan/notebooks/avo_insar/interferograms/atka88/S1AA_20230521T174618_20230614T174619_VVR024_INT80_G_weF_E735.zip\n",
      "##########################\n",
      "12\n",
      "######END OF PROJECT######\n",
      "#########RUNNING#########\n",
      "analysis_directory: /home/jovyan/notebooks/avo_insar/interferograms/martin102\n",
      "\n",
      "Project: 102_397\n"
     ]
    },
    {
     "data": {
      "application/vnd.jupyter.widget-view+json": {
       "model_id": "cec5c916bb3e4d7cbe564efd05c5bd8c",
       "version_major": 2,
       "version_minor": 0
      },
      "text/plain": [
       "  0%|          | 0/25 [00:00<?, ?it/s]"
      ]
     },
     "metadata": {},
     "output_type": "display_data"
    },
    {
     "data": {
      "application/vnd.jupyter.widget-view+json": {
       "model_id": "602611112ff842e5a6f0ea698dcd41f8",
       "version_major": 2,
       "version_minor": 0
      },
      "text/plain": [
       "S1AA_20230603T164657_20230721T164700_VVR048_INT80_G_weF_B91F.zip:   0%|          | 0/354202423 [00:00<?, ?it/s…"
      ]
     },
     "metadata": {},
     "output_type": "display_data"
    },
    {
     "data": {
      "application/vnd.jupyter.widget-view+json": {
       "model_id": "d6e464e69f9843e9b769c0df29f16292",
       "version_major": 2,
       "version_minor": 0
      },
      "text/plain": [
       "S1AA_20230709T164659_20230721T164700_VVR012_INT80_G_weF_7FA6.zip:   0%|          | 0/351642200 [00:00<?, ?it/s…"
      ]
     },
     "metadata": {},
     "output_type": "display_data"
    },
    {
     "data": {
      "application/vnd.jupyter.widget-view+json": {
       "model_id": "5812ecb38bed4f7d8d0da35f5289dd20",
       "version_major": 2,
       "version_minor": 0
      },
      "text/plain": [
       "S1AA_20220819T164656_20230721T164700_VVR336_INT80_G_weF_443E.zip:   0%|          | 0/352536039 [00:00<?, ?it/s…"
      ]
     },
     "metadata": {},
     "output_type": "display_data"
    },
    {
     "data": {
      "application/vnd.jupyter.widget-view+json": {
       "model_id": "cb8186d743ea4a749fdec8732a61f974",
       "version_major": 2,
       "version_minor": 0
      },
      "text/plain": [
       "S1AA_20230615T164657_20230709T164659_VVR024_INT80_G_weF_1DF5.zip:   0%|          | 0/354480920 [00:00<?, ?it/s…"
      ]
     },
     "metadata": {},
     "output_type": "display_data"
    },
    {
     "data": {
      "application/vnd.jupyter.widget-view+json": {
       "model_id": "dfa6231a40724755b13f537c80004177",
       "version_major": 2,
       "version_minor": 0
      },
      "text/plain": [
       "S1AA_20230428T164655_20230709T164659_VVR072_INT80_G_weF_3839.zip:   0%|          | 0/355684700 [00:00<?, ?it/s…"
      ]
     },
     "metadata": {},
     "output_type": "display_data"
    },
    {
     "data": {
      "application/vnd.jupyter.widget-view+json": {
       "model_id": "511d721b771a4698a77e4c4735179b82",
       "version_major": 2,
       "version_minor": 0
      },
      "text/plain": [
       "S1AA_20220527T164651_20230709T164659_VVR408_INT80_G_weF_CEB0.zip:   0%|          | 0/355029602 [00:00<?, ?it/s…"
      ]
     },
     "metadata": {},
     "output_type": "display_data"
    },
    {
     "data": {
      "application/vnd.jupyter.widget-view+json": {
       "model_id": "734202eb2a3f4aae9599af9827eba695",
       "version_major": 2,
       "version_minor": 0
      },
      "text/plain": [
       "S1AA_20230627T164658_20230709T164659_VVR012_INT80_G_weF_E6AA.zip:   0%|          | 0/352076213 [00:00<?, ?it/s…"
      ]
     },
     "metadata": {},
     "output_type": "display_data"
    },
    {
     "data": {
      "application/vnd.jupyter.widget-view+json": {
       "model_id": "c30aa06a732f4da0a6134bda4f4a8f3e",
       "version_major": 2,
       "version_minor": 0
      },
      "text/plain": [
       "S1AA_20230603T164657_20230709T164659_VVR036_INT80_G_weF_5664.zip:   0%|          | 0/354786375 [00:00<?, ?it/s…"
      ]
     },
     "metadata": {},
     "output_type": "display_data"
    },
    {
     "data": {
      "application/vnd.jupyter.widget-view+json": {
       "model_id": "88df8fe21aa14b04960ead2f5122cc35",
       "version_major": 2,
       "version_minor": 0
      },
      "text/plain": [
       "S1AA_20220819T164656_20230709T164659_VVR324_INT80_G_weF_D27F.zip:   0%|          | 0/355464385 [00:00<?, ?it/s…"
      ]
     },
     "metadata": {},
     "output_type": "display_data"
    },
    {
     "data": {
      "application/vnd.jupyter.widget-view+json": {
       "model_id": "af56629bef5c40f98bc38db8ee505555",
       "version_major": 2,
       "version_minor": 0
      },
      "text/plain": [
       "S1AA_20220620T164653_20230709T164659_VVR384_INT80_G_weF_B1AF.zip:   0%|          | 0/355677922 [00:00<?, ?it/s…"
      ]
     },
     "metadata": {},
     "output_type": "display_data"
    },
    {
     "data": {
      "application/vnd.jupyter.widget-view+json": {
       "model_id": "4c486c83cca243e99bb8f1d893fc1516",
       "version_major": 2,
       "version_minor": 0
      },
      "text/plain": [
       "S1AA_20230416T164655_20230709T164659_VVR084_INT80_G_weF_449A.zip:   0%|          | 0/354807299 [00:00<?, ?it/s…"
      ]
     },
     "metadata": {},
     "output_type": "display_data"
    },
    {
     "data": {
      "application/vnd.jupyter.widget-view+json": {
       "model_id": "0934347e0fa94597a011af45cc43f925",
       "version_major": 2,
       "version_minor": 0
      },
      "text/plain": [
       "S1AA_20220620T164653_20230627T164658_VVR372_INT80_G_weF_9EB2.zip:   0%|          | 0/357314135 [00:00<?, ?it/s…"
      ]
     },
     "metadata": {},
     "output_type": "display_data"
    },
    {
     "data": {
      "application/vnd.jupyter.widget-view+json": {
       "model_id": "4399e428e44d4bad9d0b886fea20ee41",
       "version_major": 2,
       "version_minor": 0
      },
      "text/plain": [
       "S1AA_20220819T164656_20230627T164658_VVR312_INT80_G_weF_1CBB.zip:   0%|          | 0/353223332 [00:00<?, ?it/s…"
      ]
     },
     "metadata": {},
     "output_type": "display_data"
    },
    {
     "data": {
      "application/vnd.jupyter.widget-view+json": {
       "model_id": "0208c5e23c6f4d71ab40ff06ace354f7",
       "version_major": 2,
       "version_minor": 0
      },
      "text/plain": [
       "S1AA_20230603T164657_20230627T164658_VVR024_INT80_G_weF_48EC.zip:   0%|          | 0/353467722 [00:00<?, ?it/s…"
      ]
     },
     "metadata": {},
     "output_type": "display_data"
    },
    {
     "data": {
      "application/vnd.jupyter.widget-view+json": {
       "model_id": "1ac4c0ebad434224b7bbf10c0e535c0b",
       "version_major": 2,
       "version_minor": 0
      },
      "text/plain": [
       "S1AA_20230428T164655_20230627T164658_VVR060_INT80_G_weF_BBCF.zip:   0%|          | 0/354883495 [00:00<?, ?it/s…"
      ]
     },
     "metadata": {},
     "output_type": "display_data"
    },
    {
     "data": {
      "application/vnd.jupyter.widget-view+json": {
       "model_id": "7329ac2cf66b4afeb67c3e8d581c2770",
       "version_major": 2,
       "version_minor": 0
      },
      "text/plain": [
       "S1AA_20230416T164655_20230627T164658_VVR072_INT80_G_weF_9C04.zip:   0%|          | 0/354414589 [00:00<?, ?it/s…"
      ]
     },
     "metadata": {},
     "output_type": "display_data"
    },
    {
     "data": {
      "application/vnd.jupyter.widget-view+json": {
       "model_id": "405a05bdeaea4cbe9d29b7c89f0e31a6",
       "version_major": 2,
       "version_minor": 0
      },
      "text/plain": [
       "S1AA_20230615T164657_20230627T164658_VVR012_INT80_G_weF_E257.zip:   0%|          | 0/354430302 [00:00<?, ?it/s…"
      ]
     },
     "metadata": {},
     "output_type": "display_data"
    },
    {
     "data": {
      "application/vnd.jupyter.widget-view+json": {
       "model_id": "74ecbc76229d4a8fb1a962ea637ecffc",
       "version_major": 2,
       "version_minor": 0
      },
      "text/plain": [
       "S1AA_20220819T164656_20230615T164657_VVR300_INT80_G_weF_39F3.zip:   0%|          | 0/354210816 [00:00<?, ?it/s…"
      ]
     },
     "metadata": {},
     "output_type": "display_data"
    },
    {
     "data": {
      "application/vnd.jupyter.widget-view+json": {
       "model_id": "72ec6ab1b820490da5948139ddb25fda",
       "version_major": 2,
       "version_minor": 0
      },
      "text/plain": [
       "S1AA_20230603T164657_20230615T164657_VVR012_INT80_G_weF_23FC.zip:   0%|          | 0/353680166 [00:00<?, ?it/s…"
      ]
     },
     "metadata": {},
     "output_type": "display_data"
    },
    {
     "data": {
      "application/vnd.jupyter.widget-view+json": {
       "model_id": "0444dbbea50640a181e19bdebae4f115",
       "version_major": 2,
       "version_minor": 0
      },
      "text/plain": [
       "S1AA_20220620T164653_20230615T164657_VVR360_INT80_G_weF_653E.zip:   0%|          | 0/357286840 [00:00<?, ?it/s…"
      ]
     },
     "metadata": {},
     "output_type": "display_data"
    },
    {
     "data": {
      "application/vnd.jupyter.widget-view+json": {
       "model_id": "ba11cb349d8e42b685abd5c48a7c9625",
       "version_major": 2,
       "version_minor": 0
      },
      "text/plain": [
       "S1AA_20220912T164658_20230615T164657_VVR276_INT80_G_weF_09A2.zip:   0%|          | 0/356467700 [00:00<?, ?it/s…"
      ]
     },
     "metadata": {},
     "output_type": "display_data"
    },
    {
     "data": {
      "application/vnd.jupyter.widget-view+json": {
       "model_id": "3745d34046e34524abaa1158530d9b43",
       "version_major": 2,
       "version_minor": 0
      },
      "text/plain": [
       "S1AA_20230404T164654_20230615T164657_VVR072_INT80_G_weF_7FF2.zip:   0%|          | 0/356002210 [00:00<?, ?it/s…"
      ]
     },
     "metadata": {},
     "output_type": "display_data"
    },
    {
     "data": {
      "application/vnd.jupyter.widget-view+json": {
       "model_id": "b58cc44466d64b058efe5542008a94fd",
       "version_major": 2,
       "version_minor": 0
      },
      "text/plain": [
       "S1AA_20230428T164655_20230615T164657_VVR048_INT80_G_weF_6A3C.zip:   0%|          | 0/357060766 [00:00<?, ?it/s…"
      ]
     },
     "metadata": {},
     "output_type": "display_data"
    },
    {
     "data": {
      "application/vnd.jupyter.widget-view+json": {
       "model_id": "87054ac317a74020aba4e4b789327d36",
       "version_major": 2,
       "version_minor": 0
      },
      "text/plain": [
       "S1AA_20220527T164651_20230615T164657_VVR384_INT80_G_weF_2C92.zip:   0%|          | 0/355300022 [00:00<?, ?it/s…"
      ]
     },
     "metadata": {},
     "output_type": "display_data"
    },
    {
     "data": {
      "application/vnd.jupyter.widget-view+json": {
       "model_id": "483cbfd5b7474fb78412f430821bdd01",
       "version_major": 2,
       "version_minor": 0
      },
      "text/plain": [
       "S1AA_20230416T164655_20230615T164657_VVR060_INT80_G_weF_5403.zip:   0%|          | 0/352822437 [00:00<?, ?it/s…"
      ]
     },
     "metadata": {},
     "output_type": "display_data"
    },
    {
     "name": "stdout",
     "output_type": "stream",
     "text": [
      "Extracting: /home/jovyan/notebooks/avo_insar/interferograms/martin102/S1AA_20230603T164657_20230721T164700_VVR048_INT80_G_weF_B91F.zip\n",
      "Extracting: /home/jovyan/notebooks/avo_insar/interferograms/martin102/S1AA_20230709T164659_20230721T164700_VVR012_INT80_G_weF_7FA6.zip\n",
      "Extracting: /home/jovyan/notebooks/avo_insar/interferograms/martin102/S1AA_20220819T164656_20230721T164700_VVR336_INT80_G_weF_443E.zip\n",
      "Extracting: /home/jovyan/notebooks/avo_insar/interferograms/martin102/S1AA_20230615T164657_20230709T164659_VVR024_INT80_G_weF_1DF5.zip\n",
      "Extracting: /home/jovyan/notebooks/avo_insar/interferograms/martin102/S1AA_20230428T164655_20230709T164659_VVR072_INT80_G_weF_3839.zip\n",
      "Extracting: /home/jovyan/notebooks/avo_insar/interferograms/martin102/S1AA_20220527T164651_20230709T164659_VVR408_INT80_G_weF_CEB0.zip\n",
      "Extracting: /home/jovyan/notebooks/avo_insar/interferograms/martin102/S1AA_20230627T164658_20230709T164659_VVR012_INT80_G_weF_E6AA.zip\n",
      "Extracting: /home/jovyan/notebooks/avo_insar/interferograms/martin102/S1AA_20230603T164657_20230709T164659_VVR036_INT80_G_weF_5664.zip\n",
      "Extracting: /home/jovyan/notebooks/avo_insar/interferograms/martin102/S1AA_20220819T164656_20230709T164659_VVR324_INT80_G_weF_D27F.zip\n",
      "Extracting: /home/jovyan/notebooks/avo_insar/interferograms/martin102/S1AA_20220620T164653_20230709T164659_VVR384_INT80_G_weF_B1AF.zip\n",
      "Extracting: /home/jovyan/notebooks/avo_insar/interferograms/martin102/S1AA_20230416T164655_20230709T164659_VVR084_INT80_G_weF_449A.zip\n",
      "Extracting: /home/jovyan/notebooks/avo_insar/interferograms/martin102/S1AA_20220620T164653_20230627T164658_VVR372_INT80_G_weF_9EB2.zip\n",
      "Extracting: /home/jovyan/notebooks/avo_insar/interferograms/martin102/S1AA_20220819T164656_20230627T164658_VVR312_INT80_G_weF_1CBB.zip\n",
      "Extracting: /home/jovyan/notebooks/avo_insar/interferograms/martin102/S1AA_20230603T164657_20230627T164658_VVR024_INT80_G_weF_48EC.zip\n",
      "Extracting: /home/jovyan/notebooks/avo_insar/interferograms/martin102/S1AA_20230428T164655_20230627T164658_VVR060_INT80_G_weF_BBCF.zip\n",
      "Extracting: /home/jovyan/notebooks/avo_insar/interferograms/martin102/S1AA_20230416T164655_20230627T164658_VVR072_INT80_G_weF_9C04.zip\n",
      "Extracting: /home/jovyan/notebooks/avo_insar/interferograms/martin102/S1AA_20230615T164657_20230627T164658_VVR012_INT80_G_weF_E257.zip\n",
      "Extracting: /home/jovyan/notebooks/avo_insar/interferograms/martin102/S1AA_20220819T164656_20230615T164657_VVR300_INT80_G_weF_39F3.zip\n",
      "Extracting: /home/jovyan/notebooks/avo_insar/interferograms/martin102/S1AA_20230603T164657_20230615T164657_VVR012_INT80_G_weF_23FC.zip\n",
      "Extracting: /home/jovyan/notebooks/avo_insar/interferograms/martin102/S1AA_20220620T164653_20230615T164657_VVR360_INT80_G_weF_653E.zip\n",
      "Extracting: /home/jovyan/notebooks/avo_insar/interferograms/martin102/S1AA_20220912T164658_20230615T164657_VVR276_INT80_G_weF_09A2.zip\n",
      "Extracting: /home/jovyan/notebooks/avo_insar/interferograms/martin102/S1AA_20230404T164654_20230615T164657_VVR072_INT80_G_weF_7FF2.zip\n",
      "Extracting: /home/jovyan/notebooks/avo_insar/interferograms/martin102/S1AA_20230428T164655_20230615T164657_VVR048_INT80_G_weF_6A3C.zip\n",
      "Extracting: /home/jovyan/notebooks/avo_insar/interferograms/martin102/S1AA_20220527T164651_20230615T164657_VVR384_INT80_G_weF_2C92.zip\n",
      "Extracting: /home/jovyan/notebooks/avo_insar/interferograms/martin102/S1AA_20230416T164655_20230615T164657_VVR060_INT80_G_weF_5403.zip\n",
      "##########################\n",
      "25\n",
      "######END OF PROJECT######\n",
      "#########RUNNING#########\n",
      "analysis_directory: /home/jovyan/notebooks/avo_insar/interferograms/veniaminof102\n",
      "\n",
      "Project: 102_407\n"
     ]
    },
    {
     "data": {
      "application/vnd.jupyter.widget-view+json": {
       "model_id": "1809e2ba658444a38639ac7cbf597aa9",
       "version_major": 2,
       "version_minor": 0
      },
      "text/plain": [
       "  0%|          | 0/25 [00:00<?, ?it/s]"
      ]
     },
     "metadata": {},
     "output_type": "display_data"
    },
    {
     "data": {
      "application/vnd.jupyter.widget-view+json": {
       "model_id": "c0b797fdf19a43528dfe619dc7ad029c",
       "version_major": 2,
       "version_minor": 0
      },
      "text/plain": [
       "S1AA_20230709T164749_20230721T164749_VVR012_INT80_G_weF_668D.zip:   0%|          | 0/339843437 [00:00<?, ?it/s…"
      ]
     },
     "metadata": {},
     "output_type": "display_data"
    },
    {
     "data": {
      "application/vnd.jupyter.widget-view+json": {
       "model_id": "6bde62f55d34475683edd41797c3949c",
       "version_major": 2,
       "version_minor": 0
      },
      "text/plain": [
       "S1AA_20220819T164746_20230721T164749_VVR336_INT80_G_weF_0EE0.zip:   0%|          | 0/339465809 [00:00<?, ?it/s…"
      ]
     },
     "metadata": {},
     "output_type": "display_data"
    },
    {
     "data": {
      "application/vnd.jupyter.widget-view+json": {
       "model_id": "c24207b9d2b14f508e9ef11591b10da4",
       "version_major": 2,
       "version_minor": 0
      },
      "text/plain": [
       "S1AA_20220620T164743_20230721T164749_VVR396_INT80_G_weF_2B26.zip:   0%|          | 0/340608776 [00:00<?, ?it/s…"
      ]
     },
     "metadata": {},
     "output_type": "display_data"
    },
    {
     "data": {
      "application/vnd.jupyter.widget-view+json": {
       "model_id": "5f832efa914642eaab80b56161bec860",
       "version_major": 2,
       "version_minor": 0
      },
      "text/plain": [
       "S1AA_20230627T164747_20230709T164749_VVR012_INT80_G_weF_9D58.zip:   0%|          | 0/339875529 [00:00<?, ?it/s…"
      ]
     },
     "metadata": {},
     "output_type": "display_data"
    },
    {
     "data": {
      "application/vnd.jupyter.widget-view+json": {
       "model_id": "2514472d722e49128c9508c9f9e94168",
       "version_major": 2,
       "version_minor": 0
      },
      "text/plain": [
       "S1AA_20230615T164747_20230709T164749_VVR024_INT80_G_weF_B765.zip:   0%|          | 0/340472174 [00:00<?, ?it/s…"
      ]
     },
     "metadata": {},
     "output_type": "display_data"
    },
    {
     "data": {
      "application/vnd.jupyter.widget-view+json": {
       "model_id": "6fb096f41bdb40299036453ffe19b6f5",
       "version_major": 2,
       "version_minor": 0
      },
      "text/plain": [
       "S1AA_20230428T164745_20230709T164749_VVR072_INT80_G_weF_9C5D.zip:   0%|          | 0/339512886 [00:00<?, ?it/s…"
      ]
     },
     "metadata": {},
     "output_type": "display_data"
    },
    {
     "data": {
      "application/vnd.jupyter.widget-view+json": {
       "model_id": "42fc40ea00214794806de5286ba1b42b",
       "version_major": 2,
       "version_minor": 0
      },
      "text/plain": [
       "S1AA_20220819T164746_20230709T164749_VVR324_INT80_G_weF_6432.zip:   0%|          | 0/339310742 [00:00<?, ?it/s…"
      ]
     },
     "metadata": {},
     "output_type": "display_data"
    },
    {
     "data": {
      "application/vnd.jupyter.widget-view+json": {
       "model_id": "0711950bd4304788abad8f48bec1e64f",
       "version_major": 2,
       "version_minor": 0
      },
      "text/plain": [
       "S1AA_20220620T164743_20230709T164749_VVR384_INT80_G_weF_CD15.zip:   0%|          | 0/340277973 [00:00<?, ?it/s…"
      ]
     },
     "metadata": {},
     "output_type": "display_data"
    },
    {
     "data": {
      "application/vnd.jupyter.widget-view+json": {
       "model_id": "3530431f7a6e46089ec246627c5465af",
       "version_major": 2,
       "version_minor": 0
      },
      "text/plain": [
       "S1AA_20230428T164745_20230627T164747_VVR060_INT80_G_weF_5716.zip:   0%|          | 0/339357709 [00:00<?, ?it/s…"
      ]
     },
     "metadata": {},
     "output_type": "display_data"
    },
    {
     "data": {
      "application/vnd.jupyter.widget-view+json": {
       "model_id": "e5edee0231e7412b818d0f0913f20838",
       "version_major": 2,
       "version_minor": 0
      },
      "text/plain": [
       "S1AA_20230615T164747_20230627T164747_VVR012_INT80_G_weF_0574.zip:   0%|          | 0/340250443 [00:00<?, ?it/s…"
      ]
     },
     "metadata": {},
     "output_type": "display_data"
    },
    {
     "data": {
      "application/vnd.jupyter.widget-view+json": {
       "model_id": "1ec1afad4e354ef29a04771a72d74f55",
       "version_major": 2,
       "version_minor": 0
      },
      "text/plain": [
       "S1AA_20230416T164744_20230627T164747_VVR072_INT80_G_weF_B86F.zip:   0%|          | 0/339576313 [00:00<?, ?it/s…"
      ]
     },
     "metadata": {},
     "output_type": "display_data"
    },
    {
     "data": {
      "application/vnd.jupyter.widget-view+json": {
       "model_id": "0cc93fe70c7e4c0091d021b2b2b6a83a",
       "version_major": 2,
       "version_minor": 0
      },
      "text/plain": [
       "S1AA_20220620T164743_20230627T164747_VVR372_INT80_G_weF_31FE.zip:   0%|          | 0/340542785 [00:00<?, ?it/s…"
      ]
     },
     "metadata": {},
     "output_type": "display_data"
    },
    {
     "data": {
      "application/vnd.jupyter.widget-view+json": {
       "model_id": "588d2c76763b431a838a2e74c0922547",
       "version_major": 2,
       "version_minor": 0
      },
      "text/plain": [
       "S1AA_20220819T164746_20230627T164747_VVR312_INT80_G_weF_9E96.zip:   0%|          | 0/339316178 [00:00<?, ?it/s…"
      ]
     },
     "metadata": {},
     "output_type": "display_data"
    },
    {
     "data": {
      "application/vnd.jupyter.widget-view+json": {
       "model_id": "d188008037cf42129d971fdc67c97496",
       "version_major": 2,
       "version_minor": 0
      },
      "text/plain": [
       "S1AA_20230603T164746_20230627T164747_VVR024_INT80_G_weF_8884.zip:   0%|          | 0/340064679 [00:00<?, ?it/s…"
      ]
     },
     "metadata": {},
     "output_type": "display_data"
    },
    {
     "data": {
      "application/vnd.jupyter.widget-view+json": {
       "model_id": "62012ebaf5bf409fbc1a3a5096fc1c13",
       "version_major": 2,
       "version_minor": 0
      },
      "text/plain": [
       "S1AA_20220421T164739_20230615T164747_VVR420_INT80_G_weF_50B2.zip:   0%|          | 0/338850255 [00:00<?, ?it/s…"
      ]
     },
     "metadata": {},
     "output_type": "display_data"
    },
    {
     "data": {
      "application/vnd.jupyter.widget-view+json": {
       "model_id": "3b47343e7d914dc9a642ba4c27045f56",
       "version_major": 2,
       "version_minor": 0
      },
      "text/plain": [
       "S1AA_20230428T164745_20230615T164747_VVR048_INT80_G_weF_D881.zip:   0%|          | 0/339531083 [00:00<?, ?it/s…"
      ]
     },
     "metadata": {},
     "output_type": "display_data"
    },
    {
     "data": {
      "application/vnd.jupyter.widget-view+json": {
       "model_id": "7080a60f1a0247d4969eec7170eb9c98",
       "version_major": 2,
       "version_minor": 0
      },
      "text/plain": [
       "S1AA_20220819T164746_20230615T164747_VVR300_INT80_G_weF_66B9.zip:   0%|          | 0/339498791 [00:00<?, ?it/s…"
      ]
     },
     "metadata": {},
     "output_type": "display_data"
    },
    {
     "data": {
      "application/vnd.jupyter.widget-view+json": {
       "model_id": "9fe0a1c8ff184849a09d3410ab6ba034",
       "version_major": 2,
       "version_minor": 0
      },
      "text/plain": [
       "S1AA_20220527T164741_20230615T164747_VVR384_INT80_G_weF_FF8D.zip:   0%|          | 0/340027249 [00:00<?, ?it/s…"
      ]
     },
     "metadata": {},
     "output_type": "display_data"
    },
    {
     "data": {
      "application/vnd.jupyter.widget-view+json": {
       "model_id": "c28758a7ae5a4629b2c9c5f284bbc69a",
       "version_major": 2,
       "version_minor": 0
      },
      "text/plain": [
       "S1AA_20230603T164746_20230615T164747_VVR012_INT80_G_weF_1E5B.zip:   0%|          | 0/340061769 [00:00<?, ?it/s…"
      ]
     },
     "metadata": {},
     "output_type": "display_data"
    },
    {
     "data": {
      "application/vnd.jupyter.widget-view+json": {
       "model_id": "e07943eee9894ed1a7fabd91819fb981",
       "version_major": 2,
       "version_minor": 0
      },
      "text/plain": [
       "S1AA_20220503T164739_20230615T164747_VVR408_INT80_G_weF_F8BE.zip:   0%|          | 0/339485890 [00:00<?, ?it/s…"
      ]
     },
     "metadata": {},
     "output_type": "display_data"
    },
    {
     "data": {
      "application/vnd.jupyter.widget-view+json": {
       "model_id": "3edbc2ed6ae148dba942d01532f36901",
       "version_major": 2,
       "version_minor": 0
      },
      "text/plain": [
       "S1AA_20230416T164744_20230615T164747_VVR060_INT80_G_weF_7CCE.zip:   0%|          | 0/339722427 [00:00<?, ?it/s…"
      ]
     },
     "metadata": {},
     "output_type": "display_data"
    },
    {
     "data": {
      "application/vnd.jupyter.widget-view+json": {
       "model_id": "8283375c8b7c460eb9d07b101ad35c43",
       "version_major": 2,
       "version_minor": 0
      },
      "text/plain": [
       "S1AA_20230404T164744_20230615T164747_VVR072_INT80_G_weF_FA13.zip:   0%|          | 0/339629965 [00:00<?, ?it/s…"
      ]
     },
     "metadata": {},
     "output_type": "display_data"
    },
    {
     "data": {
      "application/vnd.jupyter.widget-view+json": {
       "model_id": "f8d325a7b98c4bfea8dd9cf6f862624a",
       "version_major": 2,
       "version_minor": 0
      },
      "text/plain": [
       "S1AA_20220620T164743_20230615T164747_VVR360_INT80_G_weF_F1D8.zip:   0%|          | 0/340581756 [00:00<?, ?it/s…"
      ]
     },
     "metadata": {},
     "output_type": "display_data"
    },
    {
     "data": {
      "application/vnd.jupyter.widget-view+json": {
       "model_id": "7d34040ca6d14e0fa1d69727253dd9bb",
       "version_major": 2,
       "version_minor": 0
      },
      "text/plain": [
       "S1AA_20220912T164747_20230615T164747_VVR276_INT80_G_weF_DF64.zip:   0%|          | 0/339522253 [00:00<?, ?it/s…"
      ]
     },
     "metadata": {},
     "output_type": "display_data"
    },
    {
     "data": {
      "application/vnd.jupyter.widget-view+json": {
       "model_id": "e60cde8da8714f859488ac9b6b8f9e48",
       "version_major": 2,
       "version_minor": 0
      },
      "text/plain": [
       "S1AA_20230323T164743_20230615T164747_VVR084_INT80_G_weF_7D00.zip:   0%|          | 0/339737852 [00:00<?, ?it/s…"
      ]
     },
     "metadata": {},
     "output_type": "display_data"
    },
    {
     "name": "stdout",
     "output_type": "stream",
     "text": [
      "Extracting: /home/jovyan/notebooks/avo_insar/interferograms/veniaminof102/S1AA_20230709T164749_20230721T164749_VVR012_INT80_G_weF_668D.zip\n",
      "Extracting: /home/jovyan/notebooks/avo_insar/interferograms/veniaminof102/S1AA_20220819T164746_20230721T164749_VVR336_INT80_G_weF_0EE0.zip\n",
      "Extracting: /home/jovyan/notebooks/avo_insar/interferograms/veniaminof102/S1AA_20220620T164743_20230721T164749_VVR396_INT80_G_weF_2B26.zip\n",
      "Extracting: /home/jovyan/notebooks/avo_insar/interferograms/veniaminof102/S1AA_20230627T164747_20230709T164749_VVR012_INT80_G_weF_9D58.zip\n",
      "Extracting: /home/jovyan/notebooks/avo_insar/interferograms/veniaminof102/S1AA_20230615T164747_20230709T164749_VVR024_INT80_G_weF_B765.zip\n",
      "Extracting: /home/jovyan/notebooks/avo_insar/interferograms/veniaminof102/S1AA_20230428T164745_20230709T164749_VVR072_INT80_G_weF_9C5D.zip\n",
      "Extracting: /home/jovyan/notebooks/avo_insar/interferograms/veniaminof102/S1AA_20220819T164746_20230709T164749_VVR324_INT80_G_weF_6432.zip\n",
      "Extracting: /home/jovyan/notebooks/avo_insar/interferograms/veniaminof102/S1AA_20220620T164743_20230709T164749_VVR384_INT80_G_weF_CD15.zip\n",
      "Extracting: /home/jovyan/notebooks/avo_insar/interferograms/veniaminof102/S1AA_20230428T164745_20230627T164747_VVR060_INT80_G_weF_5716.zip\n",
      "Extracting: /home/jovyan/notebooks/avo_insar/interferograms/veniaminof102/S1AA_20230615T164747_20230627T164747_VVR012_INT80_G_weF_0574.zip\n",
      "Extracting: /home/jovyan/notebooks/avo_insar/interferograms/veniaminof102/S1AA_20230416T164744_20230627T164747_VVR072_INT80_G_weF_B86F.zip\n",
      "Extracting: /home/jovyan/notebooks/avo_insar/interferograms/veniaminof102/S1AA_20220620T164743_20230627T164747_VVR372_INT80_G_weF_31FE.zip\n",
      "Extracting: /home/jovyan/notebooks/avo_insar/interferograms/veniaminof102/S1AA_20220819T164746_20230627T164747_VVR312_INT80_G_weF_9E96.zip\n",
      "Extracting: /home/jovyan/notebooks/avo_insar/interferograms/veniaminof102/S1AA_20230603T164746_20230627T164747_VVR024_INT80_G_weF_8884.zip\n",
      "Extracting: /home/jovyan/notebooks/avo_insar/interferograms/veniaminof102/S1AA_20220421T164739_20230615T164747_VVR420_INT80_G_weF_50B2.zip\n",
      "Extracting: /home/jovyan/notebooks/avo_insar/interferograms/veniaminof102/S1AA_20230428T164745_20230615T164747_VVR048_INT80_G_weF_D881.zip\n",
      "Extracting: /home/jovyan/notebooks/avo_insar/interferograms/veniaminof102/S1AA_20220819T164746_20230615T164747_VVR300_INT80_G_weF_66B9.zip\n",
      "Extracting: /home/jovyan/notebooks/avo_insar/interferograms/veniaminof102/S1AA_20220527T164741_20230615T164747_VVR384_INT80_G_weF_FF8D.zip\n",
      "Extracting: /home/jovyan/notebooks/avo_insar/interferograms/veniaminof102/S1AA_20230603T164746_20230615T164747_VVR012_INT80_G_weF_1E5B.zip\n",
      "Extracting: /home/jovyan/notebooks/avo_insar/interferograms/veniaminof102/S1AA_20220503T164739_20230615T164747_VVR408_INT80_G_weF_F8BE.zip\n",
      "Extracting: /home/jovyan/notebooks/avo_insar/interferograms/veniaminof102/S1AA_20230416T164744_20230615T164747_VVR060_INT80_G_weF_7CCE.zip\n",
      "Extracting: /home/jovyan/notebooks/avo_insar/interferograms/veniaminof102/S1AA_20230404T164744_20230615T164747_VVR072_INT80_G_weF_FA13.zip\n",
      "Extracting: /home/jovyan/notebooks/avo_insar/interferograms/veniaminof102/S1AA_20220620T164743_20230615T164747_VVR360_INT80_G_weF_F1D8.zip\n",
      "Extracting: /home/jovyan/notebooks/avo_insar/interferograms/veniaminof102/S1AA_20220912T164747_20230615T164747_VVR276_INT80_G_weF_DF64.zip\n",
      "Extracting: /home/jovyan/notebooks/avo_insar/interferograms/veniaminof102/S1AA_20230323T164743_20230615T164747_VVR084_INT80_G_weF_7D00.zip\n",
      "##########################\n",
      "25\n",
      "######END OF PROJECT######\n",
      "#########RUNNING#########\n",
      "analysis_directory: /home/jovyan/notebooks/avo_insar/interferograms/kiska103\n",
      "\n",
      "Project: 103_419\n"
     ]
    },
    {
     "data": {
      "application/vnd.jupyter.widget-view+json": {
       "model_id": "bb32761fd961419e89d74422e83dcf75",
       "version_major": 2,
       "version_minor": 0
      },
      "text/plain": [
       "  0%|          | 0/8 [00:00<?, ?it/s]"
      ]
     },
     "metadata": {},
     "output_type": "display_data"
    },
    {
     "data": {
      "application/vnd.jupyter.widget-view+json": {
       "model_id": "3517c0ea59104b08a3bc68f662cc7a00",
       "version_major": 2,
       "version_minor": 0
      },
      "text/plain": [
       "S1AA_20220620T182729_20230627T182734_VVP372_INT80_G_weF_2322.zip:   0%|          | 0/211818498 [00:00<?, ?it/s…"
      ]
     },
     "metadata": {},
     "output_type": "display_data"
    },
    {
     "data": {
      "application/vnd.jupyter.widget-view+json": {
       "model_id": "61919df46d564bf492b63addb7f070b5",
       "version_major": 2,
       "version_minor": 0
      },
      "text/plain": [
       "S1AA_20230709T182735_20230721T182736_VVR012_INT80_G_weF_76F2.zip:   0%|          | 0/211874577 [00:00<?, ?it/s…"
      ]
     },
     "metadata": {},
     "output_type": "display_data"
    },
    {
     "data": {
      "application/vnd.jupyter.widget-view+json": {
       "model_id": "546e52a3cc2c4214b1de567f8f2a4cc4",
       "version_major": 2,
       "version_minor": 0
      },
      "text/plain": [
       "S1AA_20220714T182730_20230721T182736_VVR372_INT80_G_weF_DF6B.zip:   0%|          | 0/211754680 [00:00<?, ?it/s…"
      ]
     },
     "metadata": {},
     "output_type": "display_data"
    },
    {
     "data": {
      "application/vnd.jupyter.widget-view+json": {
       "model_id": "8f8d665627bc4306ba08dbe95642aa0a",
       "version_major": 2,
       "version_minor": 0
      },
      "text/plain": [
       "S1AA_20230627T182734_20230709T182735_VVR012_INT80_G_weF_1DB1.zip:   0%|          | 0/211488361 [00:00<?, ?it/s…"
      ]
     },
     "metadata": {},
     "output_type": "display_data"
    },
    {
     "data": {
      "application/vnd.jupyter.widget-view+json": {
       "model_id": "3e6ef533b9e34ebba9c81c7e3c4aa7ef",
       "version_major": 2,
       "version_minor": 0
      },
      "text/plain": [
       "S1AA_20230615T182733_20230627T182734_VVP012_INT80_G_weF_D44B.zip:   0%|          | 0/211794879 [00:00<?, ?it/s…"
      ]
     },
     "metadata": {},
     "output_type": "display_data"
    },
    {
     "data": {
      "application/vnd.jupyter.widget-view+json": {
       "model_id": "1cb714daff634fb0a5b15b04b5f19117",
       "version_major": 2,
       "version_minor": 0
      },
      "text/plain": [
       "S1AA_20230522T182732_20230615T182733_VVR024_INT80_G_weF_E376.zip:   0%|          | 0/212222876 [00:00<?, ?it/s…"
      ]
     },
     "metadata": {},
     "output_type": "display_data"
    },
    {
     "data": {
      "application/vnd.jupyter.widget-view+json": {
       "model_id": "74e1b9a01aa347ad966dd58d21a79310",
       "version_major": 2,
       "version_minor": 0
      },
      "text/plain": [
       "S1AA_20220702T182729_20230615T182733_VVR348_INT80_G_weF_6E6C.zip:   0%|          | 0/211551268 [00:00<?, ?it/s…"
      ]
     },
     "metadata": {},
     "output_type": "display_data"
    },
    {
     "data": {
      "application/vnd.jupyter.widget-view+json": {
       "model_id": "4524e740f14e422daeabcc210e3c17e9",
       "version_major": 2,
       "version_minor": 0
      },
      "text/plain": [
       "S1AA_20230603T182733_20230615T182733_VVR012_INT80_G_weF_F88A.zip:   0%|          | 0/211828297 [00:00<?, ?it/s…"
      ]
     },
     "metadata": {},
     "output_type": "display_data"
    },
    {
     "name": "stdout",
     "output_type": "stream",
     "text": [
      "Extracting: /home/jovyan/notebooks/avo_insar/interferograms/kiska103/S1AA_20220620T182729_20230627T182734_VVP372_INT80_G_weF_2322.zip\n",
      "Extracting: /home/jovyan/notebooks/avo_insar/interferograms/kiska103/S1AA_20230709T182735_20230721T182736_VVR012_INT80_G_weF_76F2.zip\n",
      "Extracting: /home/jovyan/notebooks/avo_insar/interferograms/kiska103/S1AA_20220714T182730_20230721T182736_VVR372_INT80_G_weF_DF6B.zip\n",
      "Extracting: /home/jovyan/notebooks/avo_insar/interferograms/kiska103/S1AA_20230627T182734_20230709T182735_VVR012_INT80_G_weF_1DB1.zip\n",
      "Extracting: /home/jovyan/notebooks/avo_insar/interferograms/kiska103/S1AA_20230615T182733_20230627T182734_VVP012_INT80_G_weF_D44B.zip\n",
      "Extracting: /home/jovyan/notebooks/avo_insar/interferograms/kiska103/S1AA_20230522T182732_20230615T182733_VVR024_INT80_G_weF_E376.zip\n",
      "Extracting: /home/jovyan/notebooks/avo_insar/interferograms/kiska103/S1AA_20220702T182729_20230615T182733_VVR348_INT80_G_weF_6E6C.zip\n",
      "Extracting: /home/jovyan/notebooks/avo_insar/interferograms/kiska103/S1AA_20230603T182733_20230615T182733_VVR012_INT80_G_weF_F88A.zip\n",
      "##########################\n",
      "8\n",
      "######END OF PROJECT######\n",
      "#########RUNNING#########\n",
      "analysis_directory: /home/jovyan/notebooks/avo_insar/interferograms/spurr131\n",
      "\n",
      "Project: spurr\n"
     ]
    },
    {
     "data": {
      "application/vnd.jupyter.widget-view+json": {
       "model_id": "f1cfb767f4ad47a09908c301899ad898",
       "version_major": 2,
       "version_minor": 0
      },
      "text/plain": [
       "  0%|          | 0/11 [00:00<?, ?it/s]"
      ]
     },
     "metadata": {},
     "output_type": "display_data"
    },
    {
     "data": {
      "application/vnd.jupyter.widget-view+json": {
       "model_id": "fe5d14bb96244aa9af553a9875d1a0c6",
       "version_major": 2,
       "version_minor": 0
      },
      "text/plain": [
       "S1AA_20230711T162947_20230723T162948_VVR012_INT80_G_weF_3BED.zip:   0%|          | 0/386129957 [00:00<?, ?it/s…"
      ]
     },
     "metadata": {},
     "output_type": "display_data"
    },
    {
     "data": {
      "application/vnd.jupyter.widget-view+json": {
       "model_id": "29e1b97c060b45748d2764e8a9979a82",
       "version_major": 2,
       "version_minor": 0
      },
      "text/plain": [
       "S1AA_20230629T162946_20230711T162947_VVR012_INT80_G_weF_D1C8.zip:   0%|          | 0/389646903 [00:00<?, ?it/s…"
      ]
     },
     "metadata": {},
     "output_type": "display_data"
    },
    {
     "data": {
      "application/vnd.jupyter.widget-view+json": {
       "model_id": "0adcdc78fe5c4ee986282b7a77bbf01b",
       "version_major": 2,
       "version_minor": 0
      },
      "text/plain": [
       "S1AA_20220809T162944_20230723T162948_VVR348_INT80_G_weF_C5EB.zip:   0%|          | 0/389382656 [00:00<?, ?it/s…"
      ]
     },
     "metadata": {},
     "output_type": "display_data"
    },
    {
     "data": {
      "application/vnd.jupyter.widget-view+json": {
       "model_id": "27ecb53825064a14a3de4891ed1c9d73",
       "version_major": 2,
       "version_minor": 0
      },
      "text/plain": [
       "S1AA_20230617T162945_20230629T162946_VVP012_INT80_G_weF_836B.zip:   0%|          | 0/388203785 [00:00<?, ?it/s…"
      ]
     },
     "metadata": {},
     "output_type": "display_data"
    },
    {
     "data": {
      "application/vnd.jupyter.widget-view+json": {
       "model_id": "b0ad176fbf7148509cdd27cb14c09ee8",
       "version_major": 2,
       "version_minor": 0
      },
      "text/plain": [
       "S1AA_20220622T162941_20230617T162945_VVR360_INT80_G_weF_CDF4.zip:   0%|          | 0/387791440 [00:00<?, ?it/s…"
      ]
     },
     "metadata": {},
     "output_type": "display_data"
    },
    {
     "data": {
      "application/vnd.jupyter.widget-view+json": {
       "model_id": "05aa876f9b344727a6d1e15e1148e9dc",
       "version_major": 2,
       "version_minor": 0
      },
      "text/plain": [
       "S1AA_20230406T162942_20230617T162945_VVR072_INT80_G_weF_7BBF.zip:   0%|          | 0/388167102 [00:00<?, ?it/s…"
      ]
     },
     "metadata": {},
     "output_type": "display_data"
    },
    {
     "data": {
      "application/vnd.jupyter.widget-view+json": {
       "model_id": "df90ddd516a3487095dfebba4d91b1dc",
       "version_major": 2,
       "version_minor": 0
      },
      "text/plain": [
       "S1AA_20220914T162945_20230617T162945_VVR276_INT80_G_weF_54DF.zip:   0%|          | 0/386985381 [00:00<?, ?it/s…"
      ]
     },
     "metadata": {},
     "output_type": "display_data"
    },
    {
     "data": {
      "application/vnd.jupyter.widget-view+json": {
       "model_id": "3ecd9ef79b234513bd6fc07d404baeb8",
       "version_major": 2,
       "version_minor": 0
      },
      "text/plain": [
       "S1AA_20230430T162943_20230617T162945_VVR048_INT80_G_weF_0A6D.zip:   0%|          | 0/386904086 [00:00<?, ?it/s…"
      ]
     },
     "metadata": {},
     "output_type": "display_data"
    },
    {
     "data": {
      "application/vnd.jupyter.widget-view+json": {
       "model_id": "1798beff76e84b2bb8fabbad867a9ace",
       "version_major": 2,
       "version_minor": 0
      },
      "text/plain": [
       "S1AA_20230418T162942_20230617T162945_VVR060_INT80_G_weF_6354.zip:   0%|          | 0/388276157 [00:00<?, ?it/s…"
      ]
     },
     "metadata": {},
     "output_type": "display_data"
    },
    {
     "data": {
      "application/vnd.jupyter.widget-view+json": {
       "model_id": "80d73f6e3f974ba688008f69089656da",
       "version_major": 2,
       "version_minor": 0
      },
      "text/plain": [
       "S1AA_20220809T162944_20230617T162945_VVR312_INT80_G_weF_F65B.zip:   0%|          | 0/389012166 [00:00<?, ?it/s…"
      ]
     },
     "metadata": {},
     "output_type": "display_data"
    },
    {
     "data": {
      "application/vnd.jupyter.widget-view+json": {
       "model_id": "9e857e21734440e2ba90eaac217c5b57",
       "version_major": 2,
       "version_minor": 0
      },
      "text/plain": [
       "S1AA_20220529T162939_20230617T162945_VVR384_INT80_G_weF_DD11.zip:   0%|          | 0/389907513 [00:00<?, ?it/s…"
      ]
     },
     "metadata": {},
     "output_type": "display_data"
    },
    {
     "name": "stdout",
     "output_type": "stream",
     "text": [
      "Extracting: /home/jovyan/notebooks/avo_insar/interferograms/spurr131/S1AA_20230711T162947_20230723T162948_VVR012_INT80_G_weF_3BED.zip\n",
      "Extracting: /home/jovyan/notebooks/avo_insar/interferograms/spurr131/S1AA_20230629T162946_20230711T162947_VVR012_INT80_G_weF_D1C8.zip\n",
      "Extracting: /home/jovyan/notebooks/avo_insar/interferograms/spurr131/S1AA_20220809T162944_20230723T162948_VVR348_INT80_G_weF_C5EB.zip\n",
      "Extracting: /home/jovyan/notebooks/avo_insar/interferograms/spurr131/S1AA_20230617T162945_20230629T162946_VVP012_INT80_G_weF_836B.zip\n",
      "Extracting: /home/jovyan/notebooks/avo_insar/interferograms/spurr131/S1AA_20220622T162941_20230617T162945_VVR360_INT80_G_weF_CDF4.zip\n",
      "Extracting: /home/jovyan/notebooks/avo_insar/interferograms/spurr131/S1AA_20230406T162942_20230617T162945_VVR072_INT80_G_weF_7BBF.zip\n",
      "Extracting: /home/jovyan/notebooks/avo_insar/interferograms/spurr131/S1AA_20220914T162945_20230617T162945_VVR276_INT80_G_weF_54DF.zip\n",
      "Extracting: /home/jovyan/notebooks/avo_insar/interferograms/spurr131/S1AA_20230430T162943_20230617T162945_VVR048_INT80_G_weF_0A6D.zip\n",
      "Extracting: /home/jovyan/notebooks/avo_insar/interferograms/spurr131/S1AA_20230418T162942_20230617T162945_VVR060_INT80_G_weF_6354.zip\n",
      "Extracting: /home/jovyan/notebooks/avo_insar/interferograms/spurr131/S1AA_20220809T162944_20230617T162945_VVR312_INT80_G_weF_F65B.zip\n",
      "Extracting: /home/jovyan/notebooks/avo_insar/interferograms/spurr131/S1AA_20220529T162939_20230617T162945_VVR384_INT80_G_weF_DD11.zip\n",
      "##########################\n",
      "11\n",
      "######END OF PROJECT######\n",
      "#########RUNNING#########\n",
      "analysis_directory: /home/jovyan/notebooks/avo_insar/interferograms/snowy131\n",
      "\n",
      "Project: 131_398\n"
     ]
    },
    {
     "data": {
      "application/vnd.jupyter.widget-view+json": {
       "model_id": "391a3153d0ca49c18ccdff142561336e",
       "version_major": 2,
       "version_minor": 0
      },
      "text/plain": [
       "  0%|          | 0/11 [00:00<?, ?it/s]"
      ]
     },
     "metadata": {},
     "output_type": "display_data"
    },
    {
     "data": {
      "application/vnd.jupyter.widget-view+json": {
       "model_id": "0269dbda014a438a9004f3ef6ff7820c",
       "version_major": 2,
       "version_minor": 0
      },
      "text/plain": [
       "S1AA_20230711T163037_20230723T163038_VVR012_INT80_G_weF_5C81.zip:   0%|          | 0/325296883 [00:00<?, ?it/s…"
      ]
     },
     "metadata": {},
     "output_type": "display_data"
    },
    {
     "data": {
      "application/vnd.jupyter.widget-view+json": {
       "model_id": "26e474f090e041b6b39808b5fa8e8860",
       "version_major": 2,
       "version_minor": 0
      },
      "text/plain": [
       "S1AA_20220809T163034_20230723T163038_VVR348_INT80_G_weF_F30D.zip:   0%|          | 0/324894726 [00:00<?, ?it/s…"
      ]
     },
     "metadata": {},
     "output_type": "display_data"
    },
    {
     "data": {
      "application/vnd.jupyter.widget-view+json": {
       "model_id": "f4bf843ce4f24fdf834b5478313774e3",
       "version_major": 2,
       "version_minor": 0
      },
      "text/plain": [
       "S1AA_20230617T163036_20230629T163036_VVP012_INT80_G_weF_12CD.zip:   0%|          | 0/325148808 [00:00<?, ?it/s…"
      ]
     },
     "metadata": {},
     "output_type": "display_data"
    },
    {
     "data": {
      "application/vnd.jupyter.widget-view+json": {
       "model_id": "957647a510a848bf9cf9cdc460eb16d7",
       "version_major": 2,
       "version_minor": 0
      },
      "text/plain": [
       "S1AA_20220529T163030_20230617T163036_VVP384_INT80_G_weF_CB0C.zip:   0%|          | 0/325121944 [00:00<?, ?it/s…"
      ]
     },
     "metadata": {},
     "output_type": "display_data"
    },
    {
     "data": {
      "application/vnd.jupyter.widget-view+json": {
       "model_id": "167bf0bae15f4d0cbbec24270e3c4dc7",
       "version_major": 2,
       "version_minor": 0
      },
      "text/plain": [
       "S1AA_20230629T163036_20230711T163037_VVR012_INT80_G_weF_3424.zip:   0%|          | 0/325538974 [00:00<?, ?it/s…"
      ]
     },
     "metadata": {},
     "output_type": "display_data"
    },
    {
     "data": {
      "application/vnd.jupyter.widget-view+json": {
       "model_id": "1f7875d18d754365a14ab8768285ac9d",
       "version_major": 2,
       "version_minor": 0
      },
      "text/plain": [
       "S1AA_20220821T163035_20230617T163036_VVR300_INT80_G_weF_096C.zip:   0%|          | 0/324301924 [00:00<?, ?it/s…"
      ]
     },
     "metadata": {},
     "output_type": "display_data"
    },
    {
     "data": {
      "application/vnd.jupyter.widget-view+json": {
       "model_id": "2187cf1d57bc4d74952bb118a7a32d21",
       "version_major": 2,
       "version_minor": 0
      },
      "text/plain": [
       "S1AA_20220529T163030_20230617T163036_VVR384_INT80_G_weF_377C.zip:   0%|          | 0/324539306 [00:00<?, ?it/s…"
      ]
     },
     "metadata": {},
     "output_type": "display_data"
    },
    {
     "data": {
      "application/vnd.jupyter.widget-view+json": {
       "model_id": "891f0a6bce0540328b5f0dba7d53ecf0",
       "version_major": 2,
       "version_minor": 0
      },
      "text/plain": [
       "S1AA_20220622T163031_20230617T163036_VVR360_INT80_G_weF_3C98.zip:   0%|          | 0/324650671 [00:00<?, ?it/s…"
      ]
     },
     "metadata": {},
     "output_type": "display_data"
    },
    {
     "data": {
      "application/vnd.jupyter.widget-view+json": {
       "model_id": "ce2d54e3b8c04e46bbe63d2071d7b719",
       "version_major": 2,
       "version_minor": 0
      },
      "text/plain": [
       "S1AA_20230430T163033_20230617T163036_VVR048_INT80_G_weF_8355.zip:   0%|          | 0/324055563 [00:00<?, ?it/s…"
      ]
     },
     "metadata": {},
     "output_type": "display_data"
    },
    {
     "data": {
      "application/vnd.jupyter.widget-view+json": {
       "model_id": "658983030ff14329a55f839a8e662c9c",
       "version_major": 2,
       "version_minor": 0
      },
      "text/plain": [
       "S1AA_20230406T163032_20230617T163036_VVR072_INT80_G_weF_7800.zip:   0%|          | 0/324180001 [00:00<?, ?it/s…"
      ]
     },
     "metadata": {},
     "output_type": "display_data"
    },
    {
     "data": {
      "application/vnd.jupyter.widget-view+json": {
       "model_id": "1f5957b6011e457c8741d4e76ddf28cb",
       "version_major": 2,
       "version_minor": 0
      },
      "text/plain": [
       "S1AA_20230418T163033_20230617T163036_VVR060_INT80_G_weF_C2C0.zip:   0%|          | 0/323895259 [00:00<?, ?it/s…"
      ]
     },
     "metadata": {},
     "output_type": "display_data"
    },
    {
     "name": "stdout",
     "output_type": "stream",
     "text": [
      "Extracting: /home/jovyan/notebooks/avo_insar/interferograms/snowy131/S1AA_20230711T163037_20230723T163038_VVR012_INT80_G_weF_5C81.zip\n",
      "Extracting: /home/jovyan/notebooks/avo_insar/interferograms/snowy131/S1AA_20220809T163034_20230723T163038_VVR348_INT80_G_weF_F30D.zip\n",
      "Extracting: /home/jovyan/notebooks/avo_insar/interferograms/snowy131/S1AA_20230617T163036_20230629T163036_VVP012_INT80_G_weF_12CD.zip\n",
      "Extracting: /home/jovyan/notebooks/avo_insar/interferograms/snowy131/S1AA_20220529T163030_20230617T163036_VVP384_INT80_G_weF_CB0C.zip\n",
      "Extracting: /home/jovyan/notebooks/avo_insar/interferograms/snowy131/S1AA_20230629T163036_20230711T163037_VVR012_INT80_G_weF_3424.zip\n",
      "Extracting: /home/jovyan/notebooks/avo_insar/interferograms/snowy131/S1AA_20220821T163035_20230617T163036_VVR300_INT80_G_weF_096C.zip\n",
      "Extracting: /home/jovyan/notebooks/avo_insar/interferograms/snowy131/S1AA_20220529T163030_20230617T163036_VVR384_INT80_G_weF_377C.zip\n",
      "Extracting: /home/jovyan/notebooks/avo_insar/interferograms/snowy131/S1AA_20220622T163031_20230617T163036_VVR360_INT80_G_weF_3C98.zip\n",
      "Extracting: /home/jovyan/notebooks/avo_insar/interferograms/snowy131/S1AA_20230430T163033_20230617T163036_VVR048_INT80_G_weF_8355.zip\n",
      "Extracting: /home/jovyan/notebooks/avo_insar/interferograms/snowy131/S1AA_20230406T163032_20230617T163036_VVR072_INT80_G_weF_7800.zip\n",
      "Extracting: /home/jovyan/notebooks/avo_insar/interferograms/snowy131/S1AA_20230418T163033_20230617T163036_VVR060_INT80_G_weF_C2C0.zip\n",
      "##########################\n",
      "11\n",
      "######END OF PROJECT######\n",
      "#########RUNNING#########\n",
      "analysis_directory: /home/jovyan/notebooks/avo_insar/interferograms/kiska154\n",
      "\n",
      "Project: 154_166\n"
     ]
    },
    {
     "data": {
      "application/vnd.jupyter.widget-view+json": {
       "model_id": "22bd2d1ea3d9490a895005cfa62ce91b",
       "version_major": 2,
       "version_minor": 0
      },
      "text/plain": [
       "  0%|          | 0/9 [00:00<?, ?it/s]"
      ]
     },
     "metadata": {},
     "output_type": "display_data"
    },
    {
     "data": {
      "application/vnd.jupyter.widget-view+json": {
       "model_id": "731331e544f7436a879769b20fa9661e",
       "version_major": 2,
       "version_minor": 0
      },
      "text/plain": [
       "S1AA_20230713T060224_20230725T060225_VVR012_INT80_G_weF_D2D8.zip:   0%|          | 0/295473846 [00:00<?, ?it/s…"
      ]
     },
     "metadata": {},
     "output_type": "display_data"
    },
    {
     "data": {
      "application/vnd.jupyter.widget-view+json": {
       "model_id": "80eeb6579e754e1aaa8d291c2f7f3051",
       "version_major": 2,
       "version_minor": 0
      },
      "text/plain": [
       "S1AA_20230701T060223_20230713T060224_VVR012_INT80_G_weF_806D.zip:   0%|          | 0/295695445 [00:00<?, ?it/s…"
      ]
     },
     "metadata": {},
     "output_type": "display_data"
    },
    {
     "data": {
      "application/vnd.jupyter.widget-view+json": {
       "model_id": "b9f7d267c9c248d88eade458a9a99547",
       "version_major": 2,
       "version_minor": 0
      },
      "text/plain": [
       "S1AA_20220730T060220_20230701T060223_VVP336_INT80_G_weF_BB57.zip:   0%|          | 0/296596255 [00:00<?, ?it/s…"
      ]
     },
     "metadata": {},
     "output_type": "display_data"
    },
    {
     "data": {
      "application/vnd.jupyter.widget-view+json": {
       "model_id": "aa1a21bd00054236a4510595e527032b",
       "version_major": 2,
       "version_minor": 0
      },
      "text/plain": [
       "S1AA_20230619T060222_20230701T060223_VVP012_INT80_G_weF_42C5.zip:   0%|          | 0/295393785 [00:00<?, ?it/s…"
      ]
     },
     "metadata": {},
     "output_type": "display_data"
    },
    {
     "data": {
      "application/vnd.jupyter.widget-view+json": {
       "model_id": "9de53c3d9c934fa9b823b4ff405bc504",
       "version_major": 2,
       "version_minor": 0
      },
      "text/plain": [
       "S1AA_20220718T060219_20230725T060225_VVR372_INT80_G_weF_67BB.zip:   0%|          | 0/295682724 [00:00<?, ?it/s…"
      ]
     },
     "metadata": {},
     "output_type": "display_data"
    },
    {
     "data": {
      "application/vnd.jupyter.widget-view+json": {
       "model_id": "fe2fd1fef98e42c9b43bc33d88109afc",
       "version_major": 2,
       "version_minor": 0
      },
      "text/plain": [
       "S1AA_20220612T060217_20230619T060222_VVR372_INT80_G_weF_51EF.zip:   0%|          | 0/295487231 [00:00<?, ?it/s…"
      ]
     },
     "metadata": {},
     "output_type": "display_data"
    },
    {
     "data": {
      "application/vnd.jupyter.widget-view+json": {
       "model_id": "86fe0f507be0469c97ecf50187707839",
       "version_major": 2,
       "version_minor": 0
      },
      "text/plain": [
       "S1AA_20230607T060221_20230619T060222_VVR012_INT80_G_weF_04BB.zip:   0%|          | 0/295450726 [00:00<?, ?it/s…"
      ]
     },
     "metadata": {},
     "output_type": "display_data"
    },
    {
     "data": {
      "application/vnd.jupyter.widget-view+json": {
       "model_id": "20667323794242e4837ec19bb171b90c",
       "version_major": 2,
       "version_minor": 0
      },
      "text/plain": [
       "S1AA_20230526T060221_20230619T060222_VVR024_INT80_G_weF_69EC.zip:   0%|          | 0/295661198 [00:00<?, ?it/s…"
      ]
     },
     "metadata": {},
     "output_type": "display_data"
    },
    {
     "data": {
      "application/vnd.jupyter.widget-view+json": {
       "model_id": "b0d3b5f18a5a45e6a28c7344f0ad52b7",
       "version_major": 2,
       "version_minor": 0
      },
      "text/plain": [
       "S1AA_20220811T060221_20230619T060222_VVR312_INT80_G_weF_D1C8.zip:   0%|          | 0/295583031 [00:00<?, ?it/s…"
      ]
     },
     "metadata": {},
     "output_type": "display_data"
    },
    {
     "name": "stdout",
     "output_type": "stream",
     "text": [
      "Extracting: /home/jovyan/notebooks/avo_insar/interferograms/kiska154/S1AA_20230713T060224_20230725T060225_VVR012_INT80_G_weF_D2D8.zip\n",
      "Extracting: /home/jovyan/notebooks/avo_insar/interferograms/kiska154/S1AA_20230701T060223_20230713T060224_VVR012_INT80_G_weF_806D.zip\n",
      "Extracting: /home/jovyan/notebooks/avo_insar/interferograms/kiska154/S1AA_20220730T060220_20230701T060223_VVP336_INT80_G_weF_BB57.zip\n",
      "Extracting: /home/jovyan/notebooks/avo_insar/interferograms/kiska154/S1AA_20230619T060222_20230701T060223_VVP012_INT80_G_weF_42C5.zip\n",
      "Extracting: /home/jovyan/notebooks/avo_insar/interferograms/kiska154/S1AA_20220718T060219_20230725T060225_VVR372_INT80_G_weF_67BB.zip\n",
      "Extracting: /home/jovyan/notebooks/avo_insar/interferograms/kiska154/S1AA_20220612T060217_20230619T060222_VVR372_INT80_G_weF_51EF.zip\n",
      "Extracting: /home/jovyan/notebooks/avo_insar/interferograms/kiska154/S1AA_20230607T060221_20230619T060222_VVR012_INT80_G_weF_04BB.zip\n",
      "Extracting: /home/jovyan/notebooks/avo_insar/interferograms/kiska154/S1AA_20230526T060221_20230619T060222_VVR024_INT80_G_weF_69EC.zip\n",
      "Extracting: /home/jovyan/notebooks/avo_insar/interferograms/kiska154/S1AA_20220811T060221_20230619T060222_VVR312_INT80_G_weF_D1C8.zip\n",
      "##########################\n",
      "9\n",
      "######END OF PROJECT######\n",
      "#########RUNNING#########\n",
      "analysis_directory: /home/jovyan/notebooks/avo_insar/interferograms/atka161\n",
      "\n",
      "Project: 161_418\n"
     ]
    },
    {
     "data": {
      "application/vnd.jupyter.widget-view+json": {
       "model_id": "86f6589ecce945d8bae6142bc167183d",
       "version_major": 2,
       "version_minor": 0
      },
      "text/plain": [
       "  0%|          | 0/16 [00:00<?, ?it/s]"
      ]
     },
     "metadata": {},
     "output_type": "display_data"
    },
    {
     "data": {
      "application/vnd.jupyter.widget-view+json": {
       "model_id": "ab2e3730914649cfa1c1872da4228220",
       "version_major": 2,
       "version_minor": 0
      },
      "text/plain": [
       "S1AA_20220730T175431_20230725T175436_VVR360_INT80_G_weF_4FED.zip:   0%|          | 0/198967463 [00:00<?, ?it/s…"
      ]
     },
     "metadata": {},
     "output_type": "display_data"
    },
    {
     "data": {
      "application/vnd.jupyter.widget-view+json": {
       "model_id": "6c42634066654a1b8ef364923814c506",
       "version_major": 2,
       "version_minor": 0
      },
      "text/plain": [
       "S1AA_20230713T175435_20230725T175436_VVR012_INT80_G_weF_9B69.zip:   0%|          | 0/313830892 [00:00<?, ?it/s…"
      ]
     },
     "metadata": {},
     "output_type": "display_data"
    },
    {
     "data": {
      "application/vnd.jupyter.widget-view+json": {
       "model_id": "af42025108794c38b245be76da28e4b7",
       "version_major": 2,
       "version_minor": 0
      },
      "text/plain": [
       "S1AA_20220823T175433_20230701T175434_VVR312_INT80_G_weF_6702.zip:   0%|          | 0/313486844 [00:00<?, ?it/s…"
      ]
     },
     "metadata": {},
     "output_type": "display_data"
    },
    {
     "data": {
      "application/vnd.jupyter.widget-view+json": {
       "model_id": "9dece3cd45124849a5e3597367fa3257",
       "version_major": 2,
       "version_minor": 0
      },
      "text/plain": [
       "S1AA_20230619T175434_20230713T175435_VVR024_INT80_G_weF_699A.zip:   0%|          | 0/198736330 [00:00<?, ?it/s…"
      ]
     },
     "metadata": {},
     "output_type": "display_data"
    },
    {
     "data": {
      "application/vnd.jupyter.widget-view+json": {
       "model_id": "940fe73675014d38a24443f3f7f30461",
       "version_major": 2,
       "version_minor": 0
      },
      "text/plain": [
       "S1AA_20230619T175434_20230701T175434_VVR012_INT80_G_weF_A9F6.zip:   0%|          | 0/198640677 [00:00<?, ?it/s…"
      ]
     },
     "metadata": {},
     "output_type": "display_data"
    },
    {
     "data": {
      "application/vnd.jupyter.widget-view+json": {
       "model_id": "c5be5f8830aa4e078b30613f2fced2f6",
       "version_major": 2,
       "version_minor": 0
      },
      "text/plain": [
       "S1AA_20230701T175434_20230713T175435_VVR012_INT80_G_weF_84FE.zip:   0%|          | 0/313590230 [00:00<?, ?it/s…"
      ]
     },
     "metadata": {},
     "output_type": "display_data"
    },
    {
     "data": {
      "application/vnd.jupyter.widget-view+json": {
       "model_id": "c101300173674988a6dc63e4ed30576b",
       "version_major": 2,
       "version_minor": 0
      },
      "text/plain": [
       "S1AA_20230420T175430_20230701T175434_VVR072_INT80_G_weF_D8B8.zip:   0%|          | 0/313393898 [00:00<?, ?it/s…"
      ]
     },
     "metadata": {},
     "output_type": "display_data"
    },
    {
     "data": {
      "application/vnd.jupyter.widget-view+json": {
       "model_id": "38bcb9ae374941a9a232224369c39875",
       "version_major": 2,
       "version_minor": 0
      },
      "text/plain": [
       "S1AA_20220730T175431_20230713T175435_VVR348_INT80_G_weF_9C60.zip:   0%|          | 0/198976924 [00:00<?, ?it/s…"
      ]
     },
     "metadata": {},
     "output_type": "display_data"
    },
    {
     "data": {
      "application/vnd.jupyter.widget-view+json": {
       "model_id": "3c53fc19927345f99ce260e2d43a4198",
       "version_major": 2,
       "version_minor": 0
      },
      "text/plain": [
       "S1AA_20220718T175431_20230713T175435_VVR360_INT80_G_weF_72A5.zip:   0%|          | 0/199136019 [00:00<?, ?it/s…"
      ]
     },
     "metadata": {},
     "output_type": "display_data"
    },
    {
     "data": {
      "application/vnd.jupyter.widget-view+json": {
       "model_id": "b83d543a786143849769cbbad15abba8",
       "version_major": 2,
       "version_minor": 0
      },
      "text/plain": [
       "S1AA_20220718T175431_20230701T175434_VVR348_INT80_G_weF_A5A6.zip:   0%|          | 0/199072000 [00:00<?, ?it/s…"
      ]
     },
     "metadata": {},
     "output_type": "display_data"
    },
    {
     "data": {
      "application/vnd.jupyter.widget-view+json": {
       "model_id": "ef73a2b23a7c49c5afa5b287c97f4e8c",
       "version_major": 2,
       "version_minor": 0
      },
      "text/plain": [
       "S1AA_20230502T175431_20230713T175435_VVR072_INT80_G_weF_52DB.zip:   0%|          | 0/313212026 [00:00<?, ?it/s…"
      ]
     },
     "metadata": {},
     "output_type": "display_data"
    },
    {
     "data": {
      "application/vnd.jupyter.widget-view+json": {
       "model_id": "8bbed9a56cc443029cc6fff9f213188f",
       "version_major": 2,
       "version_minor": 0
      },
      "text/plain": [
       "S1AA_20220531T175428_20230619T175434_VVR384_INT80_G_weF_5C85.zip:   0%|          | 0/198423764 [00:00<?, ?it/s…"
      ]
     },
     "metadata": {},
     "output_type": "display_data"
    },
    {
     "data": {
      "application/vnd.jupyter.widget-view+json": {
       "model_id": "8d54e500ffde44d1ab001a03364448f4",
       "version_major": 2,
       "version_minor": 0
      },
      "text/plain": [
       "S1AA_20220706T175430_20230619T175434_VVR348_INT80_G_weF_250F.zip:   0%|          | 0/199184423 [00:00<?, ?it/s…"
      ]
     },
     "metadata": {},
     "output_type": "display_data"
    },
    {
     "data": {
      "application/vnd.jupyter.widget-view+json": {
       "model_id": "c47326758fa049b49a916074c50dd517",
       "version_major": 2,
       "version_minor": 0
      },
      "text/plain": [
       "S1AA_20230502T175431_20230619T175434_VVR048_INT80_G_weF_2C10.zip:   0%|          | 0/199001355 [00:00<?, ?it/s…"
      ]
     },
     "metadata": {},
     "output_type": "display_data"
    },
    {
     "data": {
      "application/vnd.jupyter.widget-view+json": {
       "model_id": "8f1ee391b2db4e1db7db8a59fb0a41a5",
       "version_major": 2,
       "version_minor": 0
      },
      "text/plain": [
       "S1AA_20230607T175433_20230619T175434_VVR012_INT80_G_weF_E5E0.zip:   0%|          | 0/199190205 [00:00<?, ?it/s…"
      ]
     },
     "metadata": {},
     "output_type": "display_data"
    },
    {
     "data": {
      "application/vnd.jupyter.widget-view+json": {
       "model_id": "9006f313c9d549439894df7b02590cfb",
       "version_major": 2,
       "version_minor": 0
      },
      "text/plain": [
       "S1AA_20230408T175430_20230619T175434_VVR072_INT80_G_weF_FCC3.zip:   0%|          | 0/199429130 [00:00<?, ?it/s…"
      ]
     },
     "metadata": {},
     "output_type": "display_data"
    },
    {
     "name": "stdout",
     "output_type": "stream",
     "text": [
      "Extracting: /home/jovyan/notebooks/avo_insar/interferograms/atka161/S1AA_20220730T175431_20230725T175436_VVR360_INT80_G_weF_4FED.zip\n",
      "Extracting: /home/jovyan/notebooks/avo_insar/interferograms/atka161/S1AA_20230713T175435_20230725T175436_VVR012_INT80_G_weF_9B69.zip\n",
      "Extracting: /home/jovyan/notebooks/avo_insar/interferograms/atka161/S1AA_20220823T175433_20230701T175434_VVR312_INT80_G_weF_6702.zip\n",
      "Extracting: /home/jovyan/notebooks/avo_insar/interferograms/atka161/S1AA_20230619T175434_20230713T175435_VVR024_INT80_G_weF_699A.zip\n",
      "Extracting: /home/jovyan/notebooks/avo_insar/interferograms/atka161/S1AA_20230619T175434_20230701T175434_VVR012_INT80_G_weF_A9F6.zip\n",
      "Extracting: /home/jovyan/notebooks/avo_insar/interferograms/atka161/S1AA_20230701T175434_20230713T175435_VVR012_INT80_G_weF_84FE.zip\n",
      "Extracting: /home/jovyan/notebooks/avo_insar/interferograms/atka161/S1AA_20230420T175430_20230701T175434_VVR072_INT80_G_weF_D8B8.zip\n",
      "Extracting: /home/jovyan/notebooks/avo_insar/interferograms/atka161/S1AA_20220730T175431_20230713T175435_VVR348_INT80_G_weF_9C60.zip\n",
      "Extracting: /home/jovyan/notebooks/avo_insar/interferograms/atka161/S1AA_20220718T175431_20230713T175435_VVR360_INT80_G_weF_72A5.zip\n",
      "Extracting: /home/jovyan/notebooks/avo_insar/interferograms/atka161/S1AA_20220718T175431_20230701T175434_VVR348_INT80_G_weF_A5A6.zip\n",
      "Extracting: /home/jovyan/notebooks/avo_insar/interferograms/atka161/S1AA_20230502T175431_20230713T175435_VVR072_INT80_G_weF_52DB.zip\n",
      "Extracting: /home/jovyan/notebooks/avo_insar/interferograms/atka161/S1AA_20220531T175428_20230619T175434_VVR384_INT80_G_weF_5C85.zip\n",
      "Extracting: /home/jovyan/notebooks/avo_insar/interferograms/atka161/S1AA_20220706T175430_20230619T175434_VVR348_INT80_G_weF_250F.zip\n",
      "Extracting: /home/jovyan/notebooks/avo_insar/interferograms/atka161/S1AA_20230502T175431_20230619T175434_VVR048_INT80_G_weF_2C10.zip\n",
      "Extracting: /home/jovyan/notebooks/avo_insar/interferograms/atka161/S1AA_20230607T175433_20230619T175434_VVR012_INT80_G_weF_E5E0.zip\n",
      "Extracting: /home/jovyan/notebooks/avo_insar/interferograms/atka161/S1AA_20230408T175430_20230619T175434_VVR072_INT80_G_weF_FCC3.zip\n",
      "##########################\n",
      "16\n",
      "######END OF PROJECT######\n",
      "#########RUNNING#########\n",
      "analysis_directory: /home/jovyan/notebooks/avo_insar/interferograms/davidof30\n",
      "\n",
      "Project: st_semisopochnoi_real\n"
     ]
    },
    {
     "data": {
      "application/vnd.jupyter.widget-view+json": {
       "model_id": "e58b49671a92417f910d4af1a38c3576",
       "version_major": 2,
       "version_minor": 0
      },
      "text/plain": [
       "  0%|          | 0/15 [00:00<?, ?it/s]"
      ]
     },
     "metadata": {},
     "output_type": "display_data"
    },
    {
     "data": {
      "application/vnd.jupyter.widget-view+json": {
       "model_id": "def16997e1e7469cbef48c1b82094d9c",
       "version_major": 2,
       "version_minor": 0
      },
      "text/plain": [
       "S1AA_20230716T181924_20230728T181924_VVR012_INT80_G_weF_EF18.zip:   0%|          | 0/234384229 [00:00<?, ?it/s…"
      ]
     },
     "metadata": {},
     "output_type": "display_data"
    },
    {
     "data": {
      "application/vnd.jupyter.widget-view+json": {
       "model_id": "bcdce397e7de4a92ad1022fdbc95576d",
       "version_major": 2,
       "version_minor": 0
      },
      "text/plain": [
       "S1AA_20230529T181921_20230716T181924_VVR048_INT80_G_weF_02B6.zip:   0%|          | 0/233818444 [00:00<?, ?it/s…"
      ]
     },
     "metadata": {},
     "output_type": "display_data"
    },
    {
     "data": {
      "application/vnd.jupyter.widget-view+json": {
       "model_id": "afced37cfec14ccdad679112f621fe01",
       "version_major": 2,
       "version_minor": 0
      },
      "text/plain": [
       "S1AA_20220709T181918_20230716T181924_VVR372_INT80_G_weF_22E2.zip:   0%|          | 0/234523048 [00:00<?, ?it/s…"
      ]
     },
     "metadata": {},
     "output_type": "display_data"
    },
    {
     "data": {
      "application/vnd.jupyter.widget-view+json": {
       "model_id": "1ac626a24a84413792009b1a5e709758",
       "version_major": 2,
       "version_minor": 0
      },
      "text/plain": [
       "S1AA_20220826T181921_20230716T181924_VVR324_INT80_G_weF_D25F.zip:   0%|          | 0/234660598 [00:00<?, ?it/s…"
      ]
     },
     "metadata": {},
     "output_type": "display_data"
    },
    {
     "data": {
      "application/vnd.jupyter.widget-view+json": {
       "model_id": "59d3e9d0b7f248578fd0bb7d3e63698e",
       "version_major": 2,
       "version_minor": 0
      },
      "text/plain": [
       "S1AA_20230704T181923_20230716T181924_VVR012_INT80_G_weF_A650.zip:   0%|          | 0/233939245 [00:00<?, ?it/s…"
      ]
     },
     "metadata": {},
     "output_type": "display_data"
    },
    {
     "data": {
      "application/vnd.jupyter.widget-view+json": {
       "model_id": "987ed10d2da140939b692f7c5f3e919d",
       "version_major": 2,
       "version_minor": 0
      },
      "text/plain": [
       "S1AA_20220627T181917_20230704T181923_VVR372_INT80_G_weF_1B76.zip:   0%|          | 0/234503904 [00:00<?, ?it/s…"
      ]
     },
     "metadata": {},
     "output_type": "display_data"
    },
    {
     "data": {
      "application/vnd.jupyter.widget-view+json": {
       "model_id": "7feade0e44194af18cc26d1e433411fd",
       "version_major": 2,
       "version_minor": 0
      },
      "text/plain": [
       "S1AA_20230622T181922_20230704T181923_VVR012_INT80_G_weF_53AE.zip:   0%|          | 0/233968318 [00:00<?, ?it/s…"
      ]
     },
     "metadata": {},
     "output_type": "display_data"
    },
    {
     "data": {
      "application/vnd.jupyter.widget-view+json": {
       "model_id": "92fa5c2dfe174c318dc2ce085ed0b77c",
       "version_major": 2,
       "version_minor": 0
      },
      "text/plain": [
       "S1AA_20220709T181918_20230704T181923_VVR360_INT80_G_weF_27F4.zip:   0%|          | 0/234453066 [00:00<?, ?it/s…"
      ]
     },
     "metadata": {},
     "output_type": "display_data"
    },
    {
     "data": {
      "application/vnd.jupyter.widget-view+json": {
       "model_id": "919b839c26984c3ca3eb86441c33be24",
       "version_major": 2,
       "version_minor": 0
      },
      "text/plain": [
       "S1AA_20230529T181921_20230610T181921_VVR012_INT80_G_weF_52F5.zip:   0%|          | 0/233845048 [00:00<?, ?it/s…"
      ]
     },
     "metadata": {},
     "output_type": "display_data"
    },
    {
     "data": {
      "application/vnd.jupyter.widget-view+json": {
       "model_id": "640c009ed3264e919bd829750648bf5e",
       "version_major": 2,
       "version_minor": 0
      },
      "text/plain": [
       "S1AA_20230610T181921_20230622T181922_VVR012_INT80_G_weF_4944.zip:   0%|          | 0/233754964 [00:00<?, ?it/s…"
      ]
     },
     "metadata": {},
     "output_type": "display_data"
    },
    {
     "data": {
      "application/vnd.jupyter.widget-view+json": {
       "model_id": "4fc2897b85c344cdb9976c7f10897600",
       "version_major": 2,
       "version_minor": 0
      },
      "text/plain": [
       "S1AA_20220721T181919_20230622T181922_VVR336_INT80_G_weF_27C3.zip:   0%|          | 0/234820658 [00:00<?, ?it/s…"
      ]
     },
     "metadata": {},
     "output_type": "display_data"
    },
    {
     "data": {
      "application/vnd.jupyter.widget-view+json": {
       "model_id": "a5a6ae8e84314584b366b5d491c7540c",
       "version_major": 2,
       "version_minor": 0
      },
      "text/plain": [
       "S1AA_20230529T181921_20230622T181922_VVR024_INT80_G_weF_55DF.zip:   0%|          | 0/233907833 [00:00<?, ?it/s…"
      ]
     },
     "metadata": {},
     "output_type": "display_data"
    },
    {
     "data": {
      "application/vnd.jupyter.widget-view+json": {
       "model_id": "d83847e3df8b4082ac4dfc5cedb09bba",
       "version_major": 2,
       "version_minor": 0
      },
      "text/plain": [
       "S1AA_20230517T181920_20230622T181922_VVR036_INT80_G_weF_517F.zip:   0%|          | 0/234583093 [00:00<?, ?it/s…"
      ]
     },
     "metadata": {},
     "output_type": "display_data"
    },
    {
     "data": {
      "application/vnd.jupyter.widget-view+json": {
       "model_id": "2d051bb99ded4fb1bb701cb7593c94aa",
       "version_major": 2,
       "version_minor": 0
      },
      "text/plain": [
       "S1AA_20230423T181919_20230610T181921_VVR048_INT80_G_weF_584D.zip:   0%|          | 0/234129004 [00:00<?, ?it/s…"
      ]
     },
     "metadata": {},
     "output_type": "display_data"
    },
    {
     "data": {
      "application/vnd.jupyter.widget-view+json": {
       "model_id": "894b309166f24afd95c23a0424efc30c",
       "version_major": 2,
       "version_minor": 0
      },
      "text/plain": [
       "S1AA_20220615T181916_20230610T181921_VVR360_INT80_G_weF_38C5.zip:   0%|          | 0/233758152 [00:00<?, ?it/s…"
      ]
     },
     "metadata": {},
     "output_type": "display_data"
    },
    {
     "name": "stdout",
     "output_type": "stream",
     "text": [
      "Extracting: /home/jovyan/notebooks/avo_insar/interferograms/davidof30/S1AA_20230716T181924_20230728T181924_VVR012_INT80_G_weF_EF18.zip\n",
      "Extracting: /home/jovyan/notebooks/avo_insar/interferograms/davidof30/S1AA_20230529T181921_20230716T181924_VVR048_INT80_G_weF_02B6.zip\n",
      "Extracting: /home/jovyan/notebooks/avo_insar/interferograms/davidof30/S1AA_20220709T181918_20230716T181924_VVR372_INT80_G_weF_22E2.zip\n",
      "Extracting: /home/jovyan/notebooks/avo_insar/interferograms/davidof30/S1AA_20220826T181921_20230716T181924_VVR324_INT80_G_weF_D25F.zip\n",
      "Extracting: /home/jovyan/notebooks/avo_insar/interferograms/davidof30/S1AA_20230704T181923_20230716T181924_VVR012_INT80_G_weF_A650.zip\n",
      "Extracting: /home/jovyan/notebooks/avo_insar/interferograms/davidof30/S1AA_20220627T181917_20230704T181923_VVR372_INT80_G_weF_1B76.zip\n",
      "Extracting: /home/jovyan/notebooks/avo_insar/interferograms/davidof30/S1AA_20230622T181922_20230704T181923_VVR012_INT80_G_weF_53AE.zip\n",
      "Extracting: /home/jovyan/notebooks/avo_insar/interferograms/davidof30/S1AA_20220709T181918_20230704T181923_VVR360_INT80_G_weF_27F4.zip\n",
      "Extracting: /home/jovyan/notebooks/avo_insar/interferograms/davidof30/S1AA_20230529T181921_20230610T181921_VVR012_INT80_G_weF_52F5.zip\n",
      "Extracting: /home/jovyan/notebooks/avo_insar/interferograms/davidof30/S1AA_20230610T181921_20230622T181922_VVR012_INT80_G_weF_4944.zip\n",
      "Extracting: /home/jovyan/notebooks/avo_insar/interferograms/davidof30/S1AA_20220721T181919_20230622T181922_VVR336_INT80_G_weF_27C3.zip\n",
      "Extracting: /home/jovyan/notebooks/avo_insar/interferograms/davidof30/S1AA_20230529T181921_20230622T181922_VVR024_INT80_G_weF_55DF.zip\n",
      "Extracting: /home/jovyan/notebooks/avo_insar/interferograms/davidof30/S1AA_20230517T181920_20230622T181922_VVR036_INT80_G_weF_517F.zip\n",
      "Extracting: /home/jovyan/notebooks/avo_insar/interferograms/davidof30/S1AA_20230423T181919_20230610T181921_VVR048_INT80_G_weF_584D.zip\n",
      "Extracting: /home/jovyan/notebooks/avo_insar/interferograms/davidof30/S1AA_20220615T181916_20230610T181921_VVR360_INT80_G_weF_38C5.zip\n",
      "##########################\n",
      "15\n",
      "######END OF PROJECT######\n",
      "#########RUNNING#########\n",
      "analysis_directory: /home/jovyan/notebooks/avo_insar/interferograms/makushin41544\n",
      "\n",
      "Project: 044_415\n"
     ]
    },
    {
     "data": {
      "application/vnd.jupyter.widget-view+json": {
       "model_id": "92660650d4d244109fde898cde8ff88f",
       "version_major": 2,
       "version_minor": 0
      },
      "text/plain": [
       "  0%|          | 0/7 [00:00<?, ?it/s]"
      ]
     },
     "metadata": {},
     "output_type": "display_data"
    },
    {
     "data": {
      "application/vnd.jupyter.widget-view+json": {
       "model_id": "0c2957b45a1448e3bc90eae77c8e9c8c",
       "version_major": 2,
       "version_minor": 0
      },
      "text/plain": [
       "S1AA_20230717T172126_20230729T172126_VVR012_INT80_G_weF_EFD1.zip:   0%|          | 0/150293721 [00:00<?, ?it/s…"
      ]
     },
     "metadata": {},
     "output_type": "display_data"
    },
    {
     "data": {
      "application/vnd.jupyter.widget-view+json": {
       "model_id": "449e7994b3de40b7b9eb448fb0f24bb4",
       "version_major": 2,
       "version_minor": 0
      },
      "text/plain": [
       "S1AA_20230705T172125_20230717T172126_VVR012_INT80_G_weF_24F1.zip:   0%|          | 0/149767548 [00:00<?, ?it/s…"
      ]
     },
     "metadata": {},
     "output_type": "display_data"
    },
    {
     "data": {
      "application/vnd.jupyter.widget-view+json": {
       "model_id": "f3c47725701543f7ba1bd99ac93c42d0",
       "version_major": 2,
       "version_minor": 0
      },
      "text/plain": [
       "S1AA_20220815T172123_20230717T172126_VVR336_INT80_G_weF_504E.zip:   0%|          | 0/150265014 [00:00<?, ?it/s…"
      ]
     },
     "metadata": {},
     "output_type": "display_data"
    },
    {
     "data": {
      "application/vnd.jupyter.widget-view+json": {
       "model_id": "a40df9438c7f4b068a0cae609ef4be8c",
       "version_major": 2,
       "version_minor": 0
      },
      "text/plain": [
       "S1AA_20220616T172119_20230717T172126_VVR396_INT80_G_weF_BAC9.zip:   0%|          | 0/150294543 [00:00<?, ?it/s…"
      ]
     },
     "metadata": {},
     "output_type": "display_data"
    },
    {
     "data": {
      "application/vnd.jupyter.widget-view+json": {
       "model_id": "a2a81e4f11f341dead659671c28af68c",
       "version_major": 2,
       "version_minor": 0
      },
      "text/plain": [
       "S1AA_20230530T172123_20230717T172126_VVR048_INT80_G_weF_7CB7.zip:   0%|          | 0/150366089 [00:00<?, ?it/s…"
      ]
     },
     "metadata": {},
     "output_type": "display_data"
    },
    {
     "data": {
      "application/vnd.jupyter.widget-view+json": {
       "model_id": "308386acca944cf997a9a72d6fcdd186",
       "version_major": 2,
       "version_minor": 0
      },
      "text/plain": [
       "S1AA_20230530T172123_20230705T172125_VVR036_INT80_G_weF_C420.zip:   0%|          | 0/150385707 [00:00<?, ?it/s…"
      ]
     },
     "metadata": {},
     "output_type": "display_data"
    },
    {
     "data": {
      "application/vnd.jupyter.widget-view+json": {
       "model_id": "706ee222d258499987991e210839597a",
       "version_major": 2,
       "version_minor": 0
      },
      "text/plain": [
       "S1AA_20220815T172123_20230705T172125_VVR324_INT80_G_weF_1498.zip:   0%|          | 0/150103910 [00:00<?, ?it/s…"
      ]
     },
     "metadata": {},
     "output_type": "display_data"
    },
    {
     "name": "stdout",
     "output_type": "stream",
     "text": [
      "Extracting: /home/jovyan/notebooks/avo_insar/interferograms/makushin41544/S1AA_20230717T172126_20230729T172126_VVR012_INT80_G_weF_EFD1.zip\n",
      "Extracting: /home/jovyan/notebooks/avo_insar/interferograms/makushin41544/S1AA_20230705T172125_20230717T172126_VVR012_INT80_G_weF_24F1.zip\n",
      "Extracting: /home/jovyan/notebooks/avo_insar/interferograms/makushin41544/S1AA_20220815T172123_20230717T172126_VVR336_INT80_G_weF_504E.zip\n",
      "Extracting: /home/jovyan/notebooks/avo_insar/interferograms/makushin41544/S1AA_20220616T172119_20230717T172126_VVR396_INT80_G_weF_BAC9.zip\n",
      "Extracting: /home/jovyan/notebooks/avo_insar/interferograms/makushin41544/S1AA_20230530T172123_20230717T172126_VVR048_INT80_G_weF_7CB7.zip\n",
      "Extracting: /home/jovyan/notebooks/avo_insar/interferograms/makushin41544/S1AA_20230530T172123_20230705T172125_VVR036_INT80_G_weF_C420.zip\n",
      "Extracting: /home/jovyan/notebooks/avo_insar/interferograms/makushin41544/S1AA_20220815T172123_20230705T172125_VVR324_INT80_G_weF_1498.zip\n",
      "##########################\n",
      "7\n",
      "######END OF PROJECT######\n",
      "#########RUNNING#########\n",
      "analysis_directory: /home/jovyan/notebooks/avo_insar/interferograms/makushin41044\n",
      "\n",
      "Project: 044_410\n"
     ]
    },
    {
     "data": {
      "application/vnd.jupyter.widget-view+json": {
       "model_id": "0cb47a9b12fb46c5be2d84816ef0ddd4",
       "version_major": 2,
       "version_minor": 0
      },
      "text/plain": [
       "  0%|          | 0/8 [00:00<?, ?it/s]"
      ]
     },
     "metadata": {},
     "output_type": "display_data"
    },
    {
     "data": {
      "application/vnd.jupyter.widget-view+json": {
       "model_id": "990d4bd5082a42c2b9cebf9d8557247c",
       "version_major": 2,
       "version_minor": 0
      },
      "text/plain": [
       "S1AA_20230717T172058_20230729T172059_VVR012_INT80_G_weF_5C99.zip:   0%|          | 0/336477769 [00:00<?, ?it/s…"
      ]
     },
     "metadata": {},
     "output_type": "display_data"
    },
    {
     "data": {
      "application/vnd.jupyter.widget-view+json": {
       "model_id": "f814134261b8446daf9dec9fad588cf7",
       "version_major": 2,
       "version_minor": 0
      },
      "text/plain": [
       "S1AA_20230705T172057_20230717T172058_VVR012_INT80_G_weF_769F.zip:   0%|          | 0/336848217 [00:00<?, ?it/s…"
      ]
     },
     "metadata": {},
     "output_type": "display_data"
    },
    {
     "data": {
      "application/vnd.jupyter.widget-view+json": {
       "model_id": "7326b6dddde84dd79ed997c33c527ad1",
       "version_major": 2,
       "version_minor": 0
      },
      "text/plain": [
       "S1AA_20230530T172055_20230717T172058_VVR048_INT80_G_weF_3CB4.zip:   0%|          | 0/336192062 [00:00<?, ?it/s…"
      ]
     },
     "metadata": {},
     "output_type": "display_data"
    },
    {
     "data": {
      "application/vnd.jupyter.widget-view+json": {
       "model_id": "160ef82055274b1bb6ab72ffcff479d9",
       "version_major": 2,
       "version_minor": 0
      },
      "text/plain": [
       "S1AA_20220815T172055_20230717T172058_VVR336_INT80_G_weF_1EE7.zip:   0%|          | 0/336541833 [00:00<?, ?it/s…"
      ]
     },
     "metadata": {},
     "output_type": "display_data"
    },
    {
     "data": {
      "application/vnd.jupyter.widget-view+json": {
       "model_id": "a68c55f7013a4757931e1d703bc54a14",
       "version_major": 2,
       "version_minor": 0
      },
      "text/plain": [
       "S1AA_20220616T172051_20230717T172058_VVR396_INT80_G_weF_DADE.zip:   0%|          | 0/336642998 [00:00<?, ?it/s…"
      ]
     },
     "metadata": {},
     "output_type": "display_data"
    },
    {
     "data": {
      "application/vnd.jupyter.widget-view+json": {
       "model_id": "f58bf779edd748f2bd33d7c6013facd7",
       "version_major": 2,
       "version_minor": 0
      },
      "text/plain": [
       "S1AA_20220827T172055_20230705T172057_VVR312_INT80_G_weF_477E.zip:   0%|          | 0/336061842 [00:00<?, ?it/s…"
      ]
     },
     "metadata": {},
     "output_type": "display_data"
    },
    {
     "data": {
      "application/vnd.jupyter.widget-view+json": {
       "model_id": "a1798e8d6a8c46fea18061d5263431b1",
       "version_major": 2,
       "version_minor": 0
      },
      "text/plain": [
       "S1AA_20230530T172055_20230705T172057_VVR036_INT80_G_weF_09C1.zip:   0%|          | 0/336256016 [00:00<?, ?it/s…"
      ]
     },
     "metadata": {},
     "output_type": "display_data"
    },
    {
     "data": {
      "application/vnd.jupyter.widget-view+json": {
       "model_id": "ea62f88ed1da498c89854fb3342a75b0",
       "version_major": 2,
       "version_minor": 0
      },
      "text/plain": [
       "S1AA_20220815T172055_20230705T172057_VVR324_INT80_G_weF_945B.zip:   0%|          | 0/336580792 [00:00<?, ?it/s…"
      ]
     },
     "metadata": {},
     "output_type": "display_data"
    },
    {
     "name": "stdout",
     "output_type": "stream",
     "text": [
      "Extracting: /home/jovyan/notebooks/avo_insar/interferograms/makushin41044/S1AA_20230717T172058_20230729T172059_VVR012_INT80_G_weF_5C99.zip\n",
      "Extracting: /home/jovyan/notebooks/avo_insar/interferograms/makushin41044/S1AA_20230705T172057_20230717T172058_VVR012_INT80_G_weF_769F.zip\n",
      "Extracting: /home/jovyan/notebooks/avo_insar/interferograms/makushin41044/S1AA_20230530T172055_20230717T172058_VVR048_INT80_G_weF_3CB4.zip\n",
      "Extracting: /home/jovyan/notebooks/avo_insar/interferograms/makushin41044/S1AA_20220815T172055_20230717T172058_VVR336_INT80_G_weF_1EE7.zip\n",
      "Extracting: /home/jovyan/notebooks/avo_insar/interferograms/makushin41044/S1AA_20220616T172051_20230717T172058_VVR396_INT80_G_weF_DADE.zip\n",
      "Extracting: /home/jovyan/notebooks/avo_insar/interferograms/makushin41044/S1AA_20220827T172055_20230705T172057_VVR312_INT80_G_weF_477E.zip\n",
      "Extracting: /home/jovyan/notebooks/avo_insar/interferograms/makushin41044/S1AA_20230530T172055_20230705T172057_VVR036_INT80_G_weF_09C1.zip\n",
      "Extracting: /home/jovyan/notebooks/avo_insar/interferograms/makushin41044/S1AA_20220815T172055_20230705T172057_VVR324_INT80_G_weF_945B.zip\n",
      "##########################\n",
      "8\n",
      "######END OF PROJECT######\n",
      "#########RUNNING#########\n",
      "analysis_directory: /home/jovyan/notebooks/avo_insar/interferograms/kanaga59\n",
      "\n",
      "Project: 059_419\n"
     ]
    },
    {
     "data": {
      "application/vnd.jupyter.widget-view+json": {
       "model_id": "305d02d82a554199ba33bf0ee1141d03",
       "version_major": 2,
       "version_minor": 0
      },
      "text/plain": [
       "  0%|          | 0/25 [00:00<?, ?it/s]"
      ]
     },
     "metadata": {},
     "output_type": "display_data"
    },
    {
     "data": {
      "application/vnd.jupyter.widget-view+json": {
       "model_id": "dc57bcaf987440dbb63cd723a0095545",
       "version_major": 2,
       "version_minor": 0
      },
      "text/plain": [
       "S1AA_20230718T180256_20230730T180257_VVR012_INT80_G_weF_D568.zip:   0%|          | 0/216190329 [00:00<?, ?it/s…"
      ]
     },
     "metadata": {},
     "output_type": "display_data"
    },
    {
     "data": {
      "application/vnd.jupyter.widget-view+json": {
       "model_id": "ecd3d775825c45dab9209a1c6049b29e",
       "version_major": 2,
       "version_minor": 0
      },
      "text/plain": [
       "S1AA_20220430T180246_20230718T180256_VVR444_INT80_G_weF_9483.zip:   0%|          | 0/216067336 [00:00<?, ?it/s…"
      ]
     },
     "metadata": {},
     "output_type": "display_data"
    },
    {
     "data": {
      "application/vnd.jupyter.widget-view+json": {
       "model_id": "166579953f9e44d78baeaca4a3176b73",
       "version_major": 2,
       "version_minor": 0
      },
      "text/plain": [
       "S1AA_20230706T180256_20230718T180256_VVR012_INT80_G_weF_467D.zip:   0%|          | 0/216224203 [00:00<?, ?it/s…"
      ]
     },
     "metadata": {},
     "output_type": "display_data"
    },
    {
     "data": {
      "application/vnd.jupyter.widget-view+json": {
       "model_id": "a88e7d443e86447bac45889e5f158577",
       "version_major": 2,
       "version_minor": 0
      },
      "text/plain": [
       "S1AA_20230425T180252_20230718T180256_VVR084_INT80_G_weF_671C.zip:   0%|          | 0/216442677 [00:00<?, ?it/s…"
      ]
     },
     "metadata": {},
     "output_type": "display_data"
    },
    {
     "data": {
      "application/vnd.jupyter.widget-view+json": {
       "model_id": "f3d5b17feffc44b2bb1579c162b6a16f",
       "version_major": 2,
       "version_minor": 0
      },
      "text/plain": [
       "S1AA_20230507T180253_20230718T180256_VVR072_INT80_G_weF_88B8.zip:   0%|          | 0/216087934 [00:00<?, ?it/s…"
      ]
     },
     "metadata": {},
     "output_type": "display_data"
    },
    {
     "data": {
      "application/vnd.jupyter.widget-view+json": {
       "model_id": "7ede0ea9cdfe40878c5cf180f19b2d4e",
       "version_major": 2,
       "version_minor": 0
      },
      "text/plain": [
       "S1AA_20220828T180254_20230718T180256_VVR324_INT80_G_weF_0B84.zip:   0%|          | 0/216663604 [00:00<?, ?it/s…"
      ]
     },
     "metadata": {},
     "output_type": "display_data"
    },
    {
     "data": {
      "application/vnd.jupyter.widget-view+json": {
       "model_id": "73f4df8f12e3410fba63fe753128311a",
       "version_major": 2,
       "version_minor": 0
      },
      "text/plain": [
       "S1AA_20230624T180255_20230718T180256_VVR024_INT80_G_weF_EECB.zip:   0%|          | 0/216238779 [00:00<?, ?it/s…"
      ]
     },
     "metadata": {},
     "output_type": "display_data"
    },
    {
     "data": {
      "application/vnd.jupyter.widget-view+json": {
       "model_id": "c2d8ad67ff7e46e1ba80562bac32e1f0",
       "version_major": 2,
       "version_minor": 0
      },
      "text/plain": [
       "S1AA_20220418T180246_20230718T180256_VVR456_INT80_G_weF_51DE.zip:   0%|          | 0/216031731 [00:00<?, ?it/s…"
      ]
     },
     "metadata": {},
     "output_type": "display_data"
    },
    {
     "data": {
      "application/vnd.jupyter.widget-view+json": {
       "model_id": "84fb416e1cef4d519b8cb198d6f9131b",
       "version_major": 2,
       "version_minor": 0
      },
      "text/plain": [
       "S1AA_20220816T180253_20230718T180256_VVR336_INT80_G_weF_8F1E.zip:   0%|          | 0/216482298 [00:00<?, ?it/s…"
      ]
     },
     "metadata": {},
     "output_type": "display_data"
    },
    {
     "data": {
      "application/vnd.jupyter.widget-view+json": {
       "model_id": "eed6d7faab59479ba5dae2fc91705b65",
       "version_major": 2,
       "version_minor": 0
      },
      "text/plain": [
       "S1AA_20230624T180255_20230706T180256_VVR012_INT80_G_weF_4C71.zip:   0%|          | 0/216119879 [00:00<?, ?it/s…"
      ]
     },
     "metadata": {},
     "output_type": "display_data"
    },
    {
     "data": {
      "application/vnd.jupyter.widget-view+json": {
       "model_id": "0242d495779c43d39d2f17a75d3d97df",
       "version_major": 2,
       "version_minor": 0
      },
      "text/plain": [
       "S1AA_20220816T180253_20230706T180256_VVR324_INT80_G_weF_2100.zip:   0%|          | 0/216296221 [00:00<?, ?it/s…"
      ]
     },
     "metadata": {},
     "output_type": "display_data"
    },
    {
     "data": {
      "application/vnd.jupyter.widget-view+json": {
       "model_id": "00e8f5f9847b4952ad6f1aa18f24dcb0",
       "version_major": 2,
       "version_minor": 0
      },
      "text/plain": [
       "S1AA_20230425T180252_20230706T180256_VVR072_INT80_G_weF_A3E2.zip:   0%|          | 0/216379724 [00:00<?, ?it/s…"
      ]
     },
     "metadata": {},
     "output_type": "display_data"
    },
    {
     "data": {
      "application/vnd.jupyter.widget-view+json": {
       "model_id": "980d7ddd25224bdfb92bdc0ac21de770",
       "version_major": 2,
       "version_minor": 0
      },
      "text/plain": [
       "S1AA_20220430T180246_20230706T180256_VVR432_INT80_G_weF_6FCC.zip:   0%|          | 0/216126462 [00:00<?, ?it/s…"
      ]
     },
     "metadata": {},
     "output_type": "display_data"
    },
    {
     "data": {
      "application/vnd.jupyter.widget-view+json": {
       "model_id": "d89965b565274f138a0a54fc035f7cce",
       "version_major": 2,
       "version_minor": 0
      },
      "text/plain": [
       "S1AA_20230507T180253_20230706T180256_VVR060_INT80_G_weF_2E58.zip:   0%|          | 0/216145804 [00:00<?, ?it/s…"
      ]
     },
     "metadata": {},
     "output_type": "display_data"
    },
    {
     "data": {
      "application/vnd.jupyter.widget-view+json": {
       "model_id": "882cecff241244869a4d880531c4b72f",
       "version_major": 2,
       "version_minor": 0
      },
      "text/plain": [
       "S1AA_20220828T180254_20230706T180256_VVR312_INT80_G_weF_9EC2.zip:   0%|          | 0/216539851 [00:00<?, ?it/s…"
      ]
     },
     "metadata": {},
     "output_type": "display_data"
    },
    {
     "data": {
      "application/vnd.jupyter.widget-view+json": {
       "model_id": "8e2998d1412948dc8ecd151395ef6c56",
       "version_major": 2,
       "version_minor": 0
      },
      "text/plain": [
       "S1AA_20220430T180246_20230624T180255_VVR420_INT80_G_weF_659B.zip:   0%|          | 0/216187682 [00:00<?, ?it/s…"
      ]
     },
     "metadata": {},
     "output_type": "display_data"
    },
    {
     "data": {
      "application/vnd.jupyter.widget-view+json": {
       "model_id": "cd942f4bd8d340d495d91c64bb3f58fb",
       "version_major": 2,
       "version_minor": 0
      },
      "text/plain": [
       "S1AA_20220828T180254_20230624T180255_VVR300_INT80_G_weF_AD75.zip:   0%|          | 0/216654887 [00:00<?, ?it/s…"
      ]
     },
     "metadata": {},
     "output_type": "display_data"
    },
    {
     "data": {
      "application/vnd.jupyter.widget-view+json": {
       "model_id": "cae28e4b52984bf09dd0003c3e103fe0",
       "version_major": 2,
       "version_minor": 0
      },
      "text/plain": [
       "S1AA_20230308T180250_20230624T180255_VVR108_INT80_G_weF_D3B0.zip:   0%|          | 0/216339240 [00:00<?, ?it/s…"
      ]
     },
     "metadata": {},
     "output_type": "display_data"
    },
    {
     "data": {
      "application/vnd.jupyter.widget-view+json": {
       "model_id": "225880a0816b43c1982f2268693214cc",
       "version_major": 2,
       "version_minor": 0
      },
      "text/plain": [
       "S1AA_20230507T180253_20230624T180255_VVR048_INT80_G_weF_500F.zip:   0%|          | 0/215868340 [00:00<?, ?it/s…"
      ]
     },
     "metadata": {},
     "output_type": "display_data"
    },
    {
     "data": {
      "application/vnd.jupyter.widget-view+json": {
       "model_id": "4aa0b9e5d508483b9d7ad9e5fc8a9e57",
       "version_major": 2,
       "version_minor": 0
      },
      "text/plain": [
       "S1AA_20230320T180251_20230624T180255_VVR096_INT80_G_weF_186E.zip:   0%|          | 0/216031414 [00:00<?, ?it/s…"
      ]
     },
     "metadata": {},
     "output_type": "display_data"
    },
    {
     "data": {
      "application/vnd.jupyter.widget-view+json": {
       "model_id": "4b5e6116f5e3406e96903805129b2a05",
       "version_major": 2,
       "version_minor": 0
      },
      "text/plain": [
       "S1AA_20230425T180252_20230624T180255_VVR060_INT80_G_weF_4E51.zip:   0%|          | 0/216245335 [00:00<?, ?it/s…"
      ]
     },
     "metadata": {},
     "output_type": "display_data"
    },
    {
     "data": {
      "application/vnd.jupyter.widget-view+json": {
       "model_id": "48f9005fe5904587b01cef4acde22c07",
       "version_major": 2,
       "version_minor": 0
      },
      "text/plain": [
       "S1AA_20220418T180246_20230624T180255_VVR432_INT80_G_weF_AEF3.zip:   0%|          | 0/216007366 [00:00<?, ?it/s…"
      ]
     },
     "metadata": {},
     "output_type": "display_data"
    },
    {
     "data": {
      "application/vnd.jupyter.widget-view+json": {
       "model_id": "05852c53ada049c1b307f89c35ac68c6",
       "version_major": 2,
       "version_minor": 0
      },
      "text/plain": [
       "S1AA_20230401T180251_20230624T180255_VVR084_INT80_G_weF_BD0F.zip:   0%|          | 0/215982452 [00:00<?, ?it/s…"
      ]
     },
     "metadata": {},
     "output_type": "display_data"
    },
    {
     "data": {
      "application/vnd.jupyter.widget-view+json": {
       "model_id": "c11c4a9892444a6f996ec1ab11486488",
       "version_major": 2,
       "version_minor": 0
      },
      "text/plain": [
       "S1AA_20230413T180252_20230624T180255_VVR072_INT80_G_weF_1591.zip:   0%|          | 0/216219961 [00:00<?, ?it/s…"
      ]
     },
     "metadata": {},
     "output_type": "display_data"
    },
    {
     "data": {
      "application/vnd.jupyter.widget-view+json": {
       "model_id": "b1aa675b1c7745e2917565fb7f5840db",
       "version_major": 2,
       "version_minor": 0
      },
      "text/plain": [
       "S1AA_20220816T180253_20230624T180255_VVR312_INT80_G_weF_BF02.zip:   0%|          | 0/216431451 [00:00<?, ?it/s…"
      ]
     },
     "metadata": {},
     "output_type": "display_data"
    },
    {
     "name": "stdout",
     "output_type": "stream",
     "text": [
      "Extracting: /home/jovyan/notebooks/avo_insar/interferograms/kanaga59/S1AA_20230718T180256_20230730T180257_VVR012_INT80_G_weF_D568.zip\n",
      "Extracting: /home/jovyan/notebooks/avo_insar/interferograms/kanaga59/S1AA_20220430T180246_20230718T180256_VVR444_INT80_G_weF_9483.zip\n",
      "Extracting: /home/jovyan/notebooks/avo_insar/interferograms/kanaga59/S1AA_20230706T180256_20230718T180256_VVR012_INT80_G_weF_467D.zip\n",
      "Extracting: /home/jovyan/notebooks/avo_insar/interferograms/kanaga59/S1AA_20230425T180252_20230718T180256_VVR084_INT80_G_weF_671C.zip\n",
      "Extracting: /home/jovyan/notebooks/avo_insar/interferograms/kanaga59/S1AA_20230507T180253_20230718T180256_VVR072_INT80_G_weF_88B8.zip\n",
      "Extracting: /home/jovyan/notebooks/avo_insar/interferograms/kanaga59/S1AA_20220828T180254_20230718T180256_VVR324_INT80_G_weF_0B84.zip\n",
      "Extracting: /home/jovyan/notebooks/avo_insar/interferograms/kanaga59/S1AA_20230624T180255_20230718T180256_VVR024_INT80_G_weF_EECB.zip\n",
      "Extracting: /home/jovyan/notebooks/avo_insar/interferograms/kanaga59/S1AA_20220418T180246_20230718T180256_VVR456_INT80_G_weF_51DE.zip\n",
      "Extracting: /home/jovyan/notebooks/avo_insar/interferograms/kanaga59/S1AA_20220816T180253_20230718T180256_VVR336_INT80_G_weF_8F1E.zip\n",
      "Extracting: /home/jovyan/notebooks/avo_insar/interferograms/kanaga59/S1AA_20230624T180255_20230706T180256_VVR012_INT80_G_weF_4C71.zip\n",
      "Extracting: /home/jovyan/notebooks/avo_insar/interferograms/kanaga59/S1AA_20220816T180253_20230706T180256_VVR324_INT80_G_weF_2100.zip\n",
      "Extracting: /home/jovyan/notebooks/avo_insar/interferograms/kanaga59/S1AA_20230425T180252_20230706T180256_VVR072_INT80_G_weF_A3E2.zip\n",
      "Extracting: /home/jovyan/notebooks/avo_insar/interferograms/kanaga59/S1AA_20220430T180246_20230706T180256_VVR432_INT80_G_weF_6FCC.zip\n",
      "Extracting: /home/jovyan/notebooks/avo_insar/interferograms/kanaga59/S1AA_20230507T180253_20230706T180256_VVR060_INT80_G_weF_2E58.zip\n",
      "Extracting: /home/jovyan/notebooks/avo_insar/interferograms/kanaga59/S1AA_20220828T180254_20230706T180256_VVR312_INT80_G_weF_9EC2.zip\n",
      "Extracting: /home/jovyan/notebooks/avo_insar/interferograms/kanaga59/S1AA_20220430T180246_20230624T180255_VVR420_INT80_G_weF_659B.zip\n",
      "Extracting: /home/jovyan/notebooks/avo_insar/interferograms/kanaga59/S1AA_20220828T180254_20230624T180255_VVR300_INT80_G_weF_AD75.zip\n",
      "Extracting: /home/jovyan/notebooks/avo_insar/interferograms/kanaga59/S1AA_20230308T180250_20230624T180255_VVR108_INT80_G_weF_D3B0.zip\n",
      "Extracting: /home/jovyan/notebooks/avo_insar/interferograms/kanaga59/S1AA_20230507T180253_20230624T180255_VVR048_INT80_G_weF_500F.zip\n",
      "Extracting: /home/jovyan/notebooks/avo_insar/interferograms/kanaga59/S1AA_20230320T180251_20230624T180255_VVR096_INT80_G_weF_186E.zip\n",
      "Extracting: /home/jovyan/notebooks/avo_insar/interferograms/kanaga59/S1AA_20230425T180252_20230624T180255_VVR060_INT80_G_weF_4E51.zip\n",
      "Extracting: /home/jovyan/notebooks/avo_insar/interferograms/kanaga59/S1AA_20220418T180246_20230624T180255_VVR432_INT80_G_weF_AEF3.zip\n",
      "Extracting: /home/jovyan/notebooks/avo_insar/interferograms/kanaga59/S1AA_20230401T180251_20230624T180255_VVR084_INT80_G_weF_BD0F.zip\n",
      "Extracting: /home/jovyan/notebooks/avo_insar/interferograms/kanaga59/S1AA_20230413T180252_20230624T180255_VVR072_INT80_G_weF_1591.zip\n",
      "Extracting: /home/jovyan/notebooks/avo_insar/interferograms/kanaga59/S1AA_20220816T180253_20230624T180255_VVR312_INT80_G_weF_BF02.zip\n",
      "##########################\n",
      "25\n",
      "######END OF PROJECT######\n"
     ]
    }
   ],
   "source": [
    "for volcano in volcano_list:\n",
    "    if True:\n",
    "        print('#########RUNNING#########')\n",
    "        project_name = volcano.volc_name + str(volcano.path)\n",
    "        analysis_directory = Path.cwd() / 'interferograms' / project_name\n",
    "        mintpy_directory = analysis_directory / 'MintPy'\n",
    "        print(f\"analysis_directory: {analysis_directory}\")\n",
    "\n",
    "        ifg_number = avo_insar_functions.avo_insar_difg( hyp3 , volcano.asf_name , analysis_directory , date_range)\n",
    "        print('##########################')\n",
    "        print(ifg_number)\n",
    "        print('######END OF PROJECT######')\n",
    "        !rm -rf {analysis_directory}/S1*\n"
   ]
  },
  {
   "cell_type": "code",
   "execution_count": null,
   "id": "ae790b3d",
   "metadata": {},
   "outputs": [],
   "source": []
  }
 ],
 "metadata": {
  "kernelspec": {
   "display_name": "insar_new",
   "language": "python",
   "name": "insar_new"
  },
  "language_info": {
   "codemirror_mode": {
    "name": "ipython",
    "version": 3
   },
   "file_extension": ".py",
   "mimetype": "text/x-python",
   "name": "python",
   "nbconvert_exporter": "python",
   "pygments_lexer": "ipython3",
   "version": "3.8.13"
  }
 },
 "nbformat": 4,
 "nbformat_minor": 5
}
