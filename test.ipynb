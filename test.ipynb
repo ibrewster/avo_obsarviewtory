{
 "cells": [
  {
   "cell_type": "code",
   "execution_count": 2,
   "id": "a4ce34ce",
   "metadata": {},
   "outputs": [
    {
     "name": "stderr",
     "output_type": "stream",
     "text": [
      "/home/jovyan/.local/envs/insar_new/lib/python3.8/site-packages/hyp3_sdk/asf_search.py:8: FutureWarning: \n",
      "hyp3_sdk.asf_search is deprecated and functionality has been superseded by the `asf_search` package available on conda-forge and PyPI. See: https://github.com/asfadmin/Discovery-asf_search\n",
      "  warnings.warn('\\nhyp3_sdk.asf_search is deprecated and functionality has been '\n"
     ]
    }
   ],
   "source": [
    "from pathlib import Path\n",
    "import pandas as pd\n",
    "from dateutil.parser import parse as parse_date\n",
    "\n",
    "import asf_search as asf\n",
    "import hyp3_sdk as sdk\n",
    "\n",
    "from mintpy import view, tsview\n",
    "\n",
    "from osgeo import gdal\n",
    "\n",
    "import pickle\n",
    "import numpy as np\n",
    "\n",
    "import asf_notebook as asfn\n",
    "\n",
    "# hyp3 = sdk.HyP3('https://hyp3-avo.asf.alaska.edu', prompt=True, username='ycheng', password='earthdata+1S')\n",
    "hyp3 = sdk.HyP3(prompt=True, username='ycheng', password='earthdata+1S')"
   ]
  },
  {
   "cell_type": "code",
   "execution_count": 3,
   "id": "9b235521",
   "metadata": {},
   "outputs": [
    {
     "name": "stdout",
     "output_type": "stream",
     "text": [
      "\n",
      "Select a Project:\n"
     ]
    }
   ],
   "source": [
    "    my_hyp3_info = hyp3.my_info()\n",
    "    active_projects = dict()\n",
    "    \n",
    "\n",
    "    for project in my_hyp3_info['job_names']:\n",
    "        batch = hyp3.find_jobs(name=project, job_type='INSAR_GAMMA').filter_jobs(running=False, include_expired=False)\n",
    "        if len(batch) > 0:\n",
    "            active_projects.update({batch.jobs[0].name: batch})\n",
    "\n",
    "    if len(active_projects) > 0:\n",
    "        \n",
    "        print('\\nSelect a Project:')"
   ]
  },
  {
   "cell_type": "code",
   "execution_count": 4,
   "id": "ae777c8e",
   "metadata": {},
   "outputs": [
    {
     "data": {
      "application/vnd.jupyter.widget-view+json": {
       "model_id": "4bd260b4f0c54c669625934073b7819e",
       "version_major": 2,
       "version_minor": 0
      },
      "text/plain": [
       "RadioButtons(layout=Layout(min_width='800px'), options={'007_184': Batch([Job.from_dict({'job_id': '6788eddf-1…"
      ]
     },
     "metadata": {},
     "output_type": "display_data"
    }
   ],
   "source": [
    "project_select = asfn.select_parameter(active_projects)\n",
    "\n",
    "display(project_select)"
   ]
  },
  {
   "cell_type": "code",
   "execution_count": 5,
   "id": "5bafa6bf",
   "metadata": {},
   "outputs": [
    {
     "name": "stdout",
     "output_type": "stream",
     "text": [
      "\n",
      "Select a Date Range:\n"
     ]
    },
    {
     "data": {
      "application/vnd.jupyter.widget-view+json": {
       "model_id": "4f1dcb0104d04b0a8de02a46d787d00c",
       "version_major": 2,
       "version_minor": 0
      },
      "text/plain": [
       "SelectionRangeSlider(description='Dates', index=(0, 2616), layout=Layout(width='500px'), options=((' 04/25/201…"
      ]
     },
     "metadata": {},
     "output_type": "display_data"
    }
   ],
   "source": [
    "jobs = hyp3.find_jobs(name=\"102_407\")\n",
    "\n",
    "print('\\nSelect a Date Range:')\n",
    "dates = asfn.get_job_dates(jobs)\n",
    "date_picker = asfn.gui_date_picker(dates)\n",
    "display(date_picker)"
   ]
  },
  {
   "cell_type": "code",
   "execution_count": 6,
   "id": "b09c53f7",
   "metadata": {},
   "outputs": [
    {
     "name": "stdout",
     "output_type": "stream",
     "text": [
      "Date Range: 2023-04-01 to 2023-06-24\n"
     ]
    }
   ],
   "source": [
    "date_range = asfn.get_slider_vals(date_picker)\n",
    "date_range[0] = date_range[0].date()\n",
    "date_range[1] = date_range[1].date()\n",
    "print(f\"Date Range: {str(date_range[0])} to {str(date_range[1])}\")\n",
    "jobs = asfn.filter_jobs_by_date(jobs, date_range)\n",
    "\n",
    "with open('data/save_date_range.pkl', 'wb') as f:  # save information into 'data/volclist.pkl'\n",
    "    pickle.dump(date_range, f)"
   ]
  },
  {
   "cell_type": "code",
   "execution_count": null,
   "id": "023f6270",
   "metadata": {},
   "outputs": [],
   "source": [
    "project_select = asfn.select_parameter(active_projects)\n",
    "display(project_select)"
   ]
  },
  {
   "cell_type": "code",
   "execution_count": null,
   "id": "2406b805",
   "metadata": {},
   "outputs": [],
   "source": [
    "hyp3.my_info()"
   ]
  },
  {
   "cell_type": "code",
   "execution_count": 2,
   "id": "ecb32eb2",
   "metadata": {},
   "outputs": [
    {
     "data": {
      "application/vnd.jupyter.widget-view+json": {
       "model_id": "6b5d41cc6a15471da208b3abda8f3d8b",
       "version_major": 2,
       "version_minor": 0
      },
      "text/plain": [
       "  0%|          | 0/547 [timeout in 10800 s]"
      ]
     },
     "metadata": {},
     "output_type": "display_data"
    }
   ],
   "source": [
    "jobs = sdk.Batch()\n",
    "jobs = hyp3.find_jobs(name=\"117_417\")\n",
    "jobs = hyp3.watch(jobs)"
   ]
  },
  {
   "cell_type": "code",
   "execution_count": null,
   "id": "b50dfc52",
   "metadata": {},
   "outputs": [],
   "source": [
    "import asf_search as asf"
   ]
  },
  {
   "cell_type": "code",
   "execution_count": null,
   "id": "a9be1c03",
   "metadata": {},
   "outputs": [],
   "source": [
    "search_results = asf.search(\n",
    "    platform = asf.SENTINEL1,\n",
    "    frame = 417,\n",
    "    relativeOrbit = 15,\n",
    "    processingLevel = 'SLC'\n",
    ")\n",
    "print(len(search_results))\n"
   ]
  },
  {
   "cell_type": "code",
   "execution_count": null,
   "id": "ba3baaae",
   "metadata": {},
   "outputs": [],
   "source": [
    "search_results = asf.search(\n",
    "    platform = asf.SENTINEL1,\n",
    "    frame = 59,\n",
    "    relativeOrbit = 420,\n",
    "    processingLevel = 'SLC'\n",
    ")\n",
    "print(len(search_results))"
   ]
  },
  {
   "cell_type": "code",
   "execution_count": null,
   "id": "2d1ebe94",
   "metadata": {},
   "outputs": [],
   "source": [
    "search_results = asf.search(\n",
    "    platform = asf.SENTINEL1,\n",
    "    frame = 176,\n",
    "    relativeOrbit = 124,\n",
    "    processingLevel = 'SLC'\n",
    ")\n",
    "print(len(search_results))\n",
    "baseline_results = search_results[-1].stack()\n",
    "print(len(baseline_results))"
   ]
  },
  {
   "cell_type": "code",
   "execution_count": null,
   "id": "93de0344",
   "metadata": {},
   "outputs": [],
   "source": [
    "import asf_search as asf\n",
    "import pandas as pd\n",
    "from dateutil.parser import parse as parse_date"
   ]
  },
  {
   "cell_type": "code",
   "execution_count": null,
   "id": "32618f77",
   "metadata": {},
   "outputs": [],
   "source": [
    "print(end_time_2022)"
   ]
  },
  {
   "cell_type": "markdown",
   "id": "455e1612",
   "metadata": {},
   "source": [
    "Trimmer list of a single project"
   ]
  },
  {
   "cell_type": "code",
   "execution_count": null,
   "id": "dc55222d",
   "metadata": {},
   "outputs": [],
   "source": [
    "## import packages\n",
    "import numpy as np\n",
    "from pathlib import Path\n",
    "import shutil\n",
    "import os\n",
    "\n",
    "dir_path = Path.cwd() / 'processings/moffett161'\n",
    "rmdates = []\n",
    "with open('daterm.txt', 'r') as file:\n",
    "    for line in file:\n",
    "        columns = line.strip().split('\\t')\n",
    "        first_column = columns[0]\n",
    "        rmdates.append(first_column)\n",
    "\n",
    "date1 = []\n",
    "date2 = []\n",
    "for item in rmdates:\n",
    "    split_item = item.split(\"_\")\n",
    "    date1.append(split_item[0])\n",
    "    date2.append(split_item[1])\n",
    "\n",
    "for i in range(len(rmdates)):\n",
    "    for folder_name in os.listdir(dir_path):\n",
    "        if date1[i] in folder_name and date2[i] in folder_name and os .path.isdir(os.path.join(dir_path, folder_name)):\n",
    "            shutil.rmtree(os.path.join(dir_path, folder_name))"
   ]
  },
  {
   "cell_type": "markdown",
   "id": "44f55dd2",
   "metadata": {},
   "source": [
    "ifg redirectory: single processing"
   ]
  },
  {
   "cell_type": "code",
   "execution_count": null,
   "id": "e7061a12",
   "metadata": {},
   "outputs": [],
   "source": [
    "from pathlib import Path\n",
    "color_directory = Path.cwd() / 'processings/veniaminof102/colorphase'\n",
    "pathname = 'colors/path102frame407'\n",
    "color_files = color_directory.glob('*color_phase.kmz')\n",
    "color_files_list = list(color_files)\n",
    "for file in color_files_list:\n",
    "    file_date = file.name[5:13] + '_' + file.name[21:29]\n",
    "    date_dir = color_directory / file_date\n",
    "    date_dir.mkdir(exist_ok=True)\n",
    "    file.rename( date_dir / file.name )\n",
    "color_directory.rename(Path.cwd() / pathname)"
   ]
  },
  {
   "cell_type": "code",
   "execution_count": null,
   "id": "a5a49302",
   "metadata": {},
   "outputs": [],
   "source": []
  },
  {
   "cell_type": "code",
   "execution_count": null,
   "id": "586cfcac",
   "metadata": {},
   "outputs": [],
   "source": []
  }
 ],
 "metadata": {
  "kernelspec": {
   "display_name": "insar_new",
   "language": "python",
   "name": "insar_new"
  },
  "language_info": {
   "codemirror_mode": {
    "name": "ipython",
    "version": 3
   },
   "file_extension": ".py",
   "mimetype": "text/x-python",
   "name": "python",
   "nbconvert_exporter": "python",
   "pygments_lexer": "ipython3",
   "version": "3.8.13"
  }
 },
 "nbformat": 4,
 "nbformat_minor": 5
}
